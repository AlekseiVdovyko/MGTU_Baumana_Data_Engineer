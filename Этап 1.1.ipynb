{
 "cells": [
  {
   "cell_type": "markdown",
   "id": "d5f05104",
   "metadata": {},
   "source": [
    "## Подготавливаем файлы для формирования их по ОКПД "
   ]
  },
  {
   "cell_type": "code",
   "execution_count": 3,
   "id": "d2d87eee",
   "metadata": {},
   "outputs": [],
   "source": [
    "import pandas as pd\n",
    "import os\n",
    "\n",
    "COLUMNS = [\"Номер\", \"Реестровый номер контракта\", \"Код закупки\", \"ИНН поставщика\", \"Наименование поставщика\", \n",
    "           \"Регион поставщика\", \"ИНН заказчика\", \"Наименование заказчика\", \"Регион заказчика\", \"Код КБК\", \"Исполнение\",\n",
    "           \"Предмет закупки\", \"Наименование бюджета\", \"Дата заключения\", \"Дата начала\", \"Дата окончания\",\n",
    "           \"Дата обновления\", \"Дата обновления_1\", \"null_1\", \"null_2\", \"Цена контракта\", \"Стоимость обязательств\", \n",
    "           \"НДС\", \"Изменение условий контракта\", \"null_3\", \"Описание ОКПД\", \"Код ОКПД\"]\n",
    "\n",
    "PATH = r\"D:\\new_data\"\n",
    "SEP = \"___\"\n",
    "NEW_PATH = r\"D:\\split_by_OKPD\""
   ]
  },
  {
   "cell_type": "code",
   "execution_count": 4,
   "id": "fc2c3e26",
   "metadata": {},
   "outputs": [],
   "source": [
    "filenames = [os.path.join(PATH, fn) for fn in os.listdir(PATH)]"
   ]
  },
  {
   "cell_type": "code",
   "execution_count": 5,
   "id": "a7b2a981",
   "metadata": {},
   "outputs": [
    {
     "data": {
      "text/plain": [
       "['D:\\\\new_data\\\\0.00___100.csv',\n",
       " 'D:\\\\new_data\\\\0.00___101.csv',\n",
       " 'D:\\\\new_data\\\\0.00___102.csv']"
      ]
     },
     "execution_count": 5,
     "metadata": {},
     "output_type": "execute_result"
    }
   ],
   "source": [
    "filenames[:3]"
   ]
  },
  {
   "cell_type": "code",
   "execution_count": 6,
   "id": "7945f88b",
   "metadata": {},
   "outputs": [
    {
     "data": {
      "text/plain": [
       "69511"
      ]
     },
     "execution_count": 6,
     "metadata": {},
     "output_type": "execute_result"
    }
   ],
   "source": [
    "len(filenames)"
   ]
  },
  {
   "cell_type": "code",
   "execution_count": 7,
   "id": "c639d3af",
   "metadata": {},
   "outputs": [],
   "source": [
    "fn = filenames[0]"
   ]
  },
  {
   "cell_type": "code",
   "execution_count": 8,
   "id": "aa3b3472",
   "metadata": {},
   "outputs": [
    {
     "data": {
      "text/plain": [
       "'D:\\\\new_data\\\\0.00'"
      ]
     },
     "execution_count": 8,
     "metadata": {},
     "output_type": "execute_result"
    }
   ],
   "source": [
    "fn.split(SEP)[0]"
   ]
  },
  {
   "cell_type": "code",
   "execution_count": 9,
   "id": "6b4390ba",
   "metadata": {},
   "outputs": [
    {
     "data": {
      "text/plain": [
       "283"
      ]
     },
     "execution_count": 9,
     "metadata": {},
     "output_type": "execute_result"
    }
   ],
   "source": [
    "unique_fn = list(set([fn.split(SEP)[0] for fn in filenames]))\n",
    "len(unique_fn)"
   ]
  },
  {
   "cell_type": "code",
   "execution_count": 10,
   "id": "f0bebc9f",
   "metadata": {},
   "outputs": [
    {
     "data": {
      "text/plain": [
       "['D:\\\\new_data\\\\28.9', 'D:\\\\new_data\\\\90.0', 'D:\\\\new_data\\\\84.2']"
      ]
     },
     "execution_count": 10,
     "metadata": {},
     "output_type": "execute_result"
    }
   ],
   "source": [
    "unique_fn[:3]"
   ]
  },
  {
   "cell_type": "markdown",
   "id": "0dc936e4",
   "metadata": {},
   "source": [
    "## Для каждого ОКПД делаем отделный файл, который содержит все записи с этим ОКПД"
   ]
  },
  {
   "cell_type": "code",
   "execution_count": 11,
   "id": "ac223ab0",
   "metadata": {},
   "outputs": [
    {
     "name": "stdout",
     "output_type": "stream",
     "text": [
      "D:\\new_data\\28.9 28.9\n",
      "D:\\new_data\\90.0 90.0\n",
      "D:\\new_data\\84.2 84.2\n",
      "D:\\new_data\\46.4 46.4\n",
      "D:\\new_data\\64.2 64.2\n",
      "D:\\new_data\\74.2 74.2\n",
      "D:\\new_data\\59.1 59.1\n",
      "D:\\new_data\\78.3 78.3\n",
      "D:\\new_data\\37.0 37.0\n",
      "D:\\new_data\\01.4 01.4\n",
      "D:\\new_data\\06.1 06.1\n",
      "D:\\new_data\\46.6 46.6\n",
      "D:\\new_data\\41.1 41.1\n",
      "D:\\new_data\\49.3 49.3\n",
      "D:\\new_data\\94.9 94.9\n",
      "D:\\new_data\\0.02 0.02\n",
      "D:\\new_data\\07.2 07.2\n",
      "D:\\new_data\\24.4 24.4\n",
      "D:\\new_data\\27.5 27.5\n",
      "D:\\new_data\\49.2 49.2\n",
      "D:\\new_data\\17.1 17.1\n",
      "D:\\new_data\\0.01 0.01\n",
      "D:\\new_data\\19.1 19.1\n",
      "D:\\new_data\\47.6 47.6\n",
      "D:\\new_data\\64.1 64.1\n",
      "D:\\new_data\\93.1 93.1\n",
      "D:\\new_data\\10.2 10.2\n",
      "D:\\new_data\\27.3 27.3\n",
      "D:\\new_data\\99.0 99.0\n",
      "D:\\new_data\\78.1 78.1\n",
      "D:\\new_data\\13.2 13.2\n",
      "D:\\new_data\\55.3 55.3\n",
      "D:\\new_data\\65.1 65.1\n",
      "D:\\new_data\\28.3 28.3\n",
      "D:\\new_data\\46.2 46.2\n",
      "D:\\new_data\\82.1 82.1\n",
      "D:\\new_data\\23.3 23.3\n",
      "D:\\new_data\\27.2 27.2\n",
      "D:\\new_data\\01.6 01.6\n",
      "D:\\new_data\\09.1 09.1\n",
      "D:\\new_data\\69.2 69.2\n",
      "D:\\new_data\\63.9 63.9\n",
      "D:\\new_data\\10.9 10.9\n",
      "D:\\new_data\\47.7 47.7\n",
      "D:\\new_data\\86.2 86.2\n",
      "D:\\new_data\\61.9 61.9\n",
      "D:\\new_data\\14.3 14.3\n",
      "D:\\new_data\\26.8 26.8\n",
      "D:\\new_data\\5.78 5.78\n",
      "D:\\new_data\\46.1 46.1\n",
      "D:\\new_data\\49.4 49.4\n",
      "D:\\new_data\\07.1 07.1\n",
      "D:\\new_data\\05.1 05.1\n",
      "D:\\new_data\\64.9 64.9\n",
      "D:\\new_data\\15.1 15.1\n",
      "D:\\new_data\\38.1 38.1\n",
      "D:\\new_data\\55.2 55.2\n",
      "D:\\new_data\\35.2 35.2\n",
      "D:\\new_data\\85.3 85.3\n",
      "D:\\new_data\\08.1 08.1\n",
      "D:\\new_data\\22.1 22.1\n",
      "D:\\new_data\\02.1 02.1\n",
      "D:\\new_data\\16.1 16.1\n",
      "D:\\new_data\\23.7 23.7\n",
      "D:\\new_data\\26.4 26.4\n",
      "D:\\new_data\\14.1 14.1\n",
      "D:\\new_data\\42.2 42.2\n",
      "D:\\new_data\\49.5 49.5\n",
      "D:\\new_data\\50.3 50.3\n",
      "D:\\new_data\\62.0 62.0\n",
      "D:\\new_data\\79.9 79.9\n",
      "D:\\new_data\\24.2 24.2\n",
      "D:\\new_data\\9.02 9.02\n",
      "D:\\new_data\\95.2 95.2\n",
      "D:\\new_data\\73.1 73.1\n",
      "D:\\new_data\\80.2 80.2\n",
      "D:\\new_data\\70.2 70.2\n",
      "D:\\new_data\\46.3 46.3\n",
      "D:\\new_data\\81.2 81.2\n",
      "D:\\new_data\\93.2 93.2\n",
      "D:\\new_data\\20.3 20.3\n",
      "D:\\new_data\\10.6 10.6\n",
      "D:\\new_data\\47.9 47.9\n",
      "D:\\new_data\\51.1 51.1\n",
      "D:\\new_data\\10.7 10.7\n",
      "D:\\new_data\\25.3 25.3\n",
      "D:\\new_data\\33.2 33.2\n",
      "D:\\new_data\\38.3 38.3\n",
      "D:\\new_data\\42.9 42.9\n",
      "D:\\new_data\\50.4 50.4\n",
      "D:\\new_data\\80.3 80.3\n",
      "D:\\new_data\\42.1 42.1\n",
      "D:\\new_data\\27.9 27.9\n",
      "D:\\new_data\\30.9 30.9\n",
      "D:\\new_data\\45.3 45.3\n",
      "D:\\new_data\\03.2 03.2\n",
      "D:\\new_data\\61.3 61.3\n",
      "D:\\new_data\\03.1 03.1\n",
      "D:\\new_data\\58.2 58.2\n",
      "D:\\new_data\\77.3 77.3\n",
      "D:\\new_data\\74.9 74.9\n",
      "D:\\new_data\\63.1 63.1\n",
      "D:\\new_data\\10.8 10.8\n",
      "D:\\new_data\\65.2 65.2\n",
      "D:\\new_data\\71.1 71.1\n",
      "D:\\new_data\\86.9 86.9\n",
      "D:\\new_data\\46.7 46.7\n",
      "D:\\new_data\\24.5 24.5\n",
      "D:\\new_data\\30.4 30.4\n",
      "D:\\new_data\\35.3 35.3\n",
      "D:\\new_data\\36.0 36.0\n",
      "D:\\new_data\\5.79 5.79\n",
      "D:\\new_data\\85.1 85.1\n",
      "D:\\new_data\\30.3 30.3\n",
      "D:\\new_data\\98.1 98.1\n",
      "D:\\new_data\\23.4 23.4\n",
      "D:\\new_data\\47.4 47.4\n",
      "D:\\new_data\\69.1 69.1\n",
      "D:\\new_data\\19.2 19.2\n",
      "D:\\new_data\\96.0 96.0\n",
      "D:\\new_data\\18.1 18.1\n",
      "D:\\new_data\\94.1 94.1\n",
      "D:\\new_data\\32.5 32.5\n",
      "D:\\new_data\\65.3 65.3\n",
      "D:\\new_data\\31.0 31.0\n",
      "D:\\new_data\\05.2 05.2\n",
      "D:\\new_data\\29.2 29.2\n",
      "D:\\new_data\\39.0 39.0\n",
      "D:\\new_data\\47.5 47.5\n",
      "D:\\new_data\\46.5 46.5\n",
      "D:\\new_data\\61.1 61.1\n",
      "D:\\new_data\\24.3 24.3\n",
      "D:\\new_data\\20.1 20.1\n",
      "D:\\new_data\\25.6 25.6\n",
      "D:\\new_data\\58.1 58.1\n",
      "D:\\new_data\\25.7 25.7\n",
      "D:\\new_data\\52.2 52.2\n",
      "D:\\new_data\\66.3 66.3\n",
      "D:\\new_data\\26.5 26.5\n",
      "D:\\new_data\\87.1 87.1\n",
      "D:\\new_data\\73.2 73.2\n",
      "D:\\new_data\\09.9 09.9\n",
      "D:\\new_data\\43.3 43.3\n",
      "D:\\new_data\\25.2 25.2\n",
      "D:\\new_data\\32.3 32.3\n",
      "D:\\new_data\\55.9 55.9\n",
      "D:\\new_data\\10.3 10.3\n",
      "D:\\new_data\\27.4 27.4\n",
      "D:\\new_data\\12.0 12.0\n",
      "D:\\new_data\\26.6 26.6\n",
      "D:\\new_data\\13.3 13.3\n",
      "D:\\new_data\\71.2 71.2\n",
      "D:\\new_data\\91.0 91.0\n",
      "D:\\new_data\\72.2 72.2\n",
      "D:\\new_data\\23.1 23.1\n",
      "D:\\new_data\\6.00 6.00\n",
      "D:\\new_data\\20.2 20.2\n",
      "D:\\new_data\\45.4 45.4\n",
      "D:\\new_data\\56.2 56.2\n",
      "D:\\new_data\\23.9 23.9\n",
      "D:\\new_data\\19.3 19.3\n",
      "D:\\new_data\\95.1 95.1\n",
      "D:\\new_data\\66.2 66.2\n",
      "D:\\new_data\\27.1 27.1\n",
      "D:\\new_data\\20.4 20.4\n",
      "D:\\new_data\\0.70 0.70\n",
      "D:\\new_data\\68.2 68.2\n",
      "D:\\new_data\\85.2 85.2\n",
      "D:\\new_data\\45.1 45.1\n",
      "D:\\new_data\\47.8 47.8\n",
      "D:\\new_data\\81.1 81.1\n",
      "D:\\new_data\\86.1 86.1\n",
      "D:\\new_data\\16.2 16.2\n",
      "D:\\new_data\\0.00 0.00\n",
      "D:\\new_data\\77.2 77.2\n",
      "D:\\new_data\\70.1 70.1\n",
      "D:\\new_data\\92.2 92.2\n",
      "D:\\new_data\\06.2 06.2\n",
      "D:\\new_data\\80.1 80.1\n",
      "D:\\new_data\\01.7 01.7\n",
      "D:\\new_data\\92.1 92.1\n",
      "D:\\new_data\\25.9 25.9\n",
      "D:\\new_data\\61.2 61.2\n",
      "D:\\new_data\\10.5 10.5\n",
      "D:\\new_data\\47.2 47.2\n",
      "D:\\new_data\\74.3 74.3\n",
      "D:\\new_data\\35.1 35.1\n",
      "D:\\new_data\\26.7 26.7\n",
      "D:\\new_data\\29.3 29.3\n",
      "D:\\new_data\\01.1 01.1\n",
      "D:\\new_data\\87.3 87.3\n",
      "D:\\new_data\\87.2 87.2\n",
      "D:\\new_data\\01.2 01.2\n",
      "D:\\new_data\\02.3 02.3\n",
      "D:\\new_data\\59.2 59.2\n",
      "D:\\new_data\\9.77 9.77\n",
      "D:\\new_data\\02.4 02.4\n",
      "D:\\new_data\\01.3 01.3\n",
      "D:\\new_data\\26.1 26.1\n",
      "D:\\new_data\\32.2 32.2\n",
      "D:\\new_data\\33.1 33.1\n",
      "D:\\new_data\\20.6 20.6\n",
      "D:\\new_data\\43.2 43.2\n",
      "D:\\new_data\\25.4 25.4\n",
      "D:\\new_data\\50.2 50.2\n",
      "D:\\new_data\\53.1 53.1\n",
      "D:\\new_data\\53.2 53.2\n",
      "D:\\new_data\\29.1 29.1\n",
      "D:\\new_data\\25.5 25.5\n",
      "D:\\new_data\\74.1 74.1\n",
      "D:\\new_data\\85.4 85.4\n",
      "D:\\new_data\\75.0 75.0\n",
      "D:\\new_data\\15.2 15.2\n",
      "D:\\new_data\\64.3 64.3\n",
      "D:\\new_data\\10.1 10.1\n",
      "D:\\new_data\\08.9 08.9\n",
      "D:\\new_data\\21.1 21.1\n",
      "D:\\new_data\\98.2 98.2\n",
      "D:\\new_data\\47.1 47.1\n",
      "D:\\new_data\\02.2 02.2\n",
      "D:\\new_data\\84.3 84.3\n",
      "D:\\new_data\\47.3 47.3\n",
      "D:\\new_data\\13.1 13.1\n",
      "D:\\new_data\\23.5 23.5\n",
      "D:\\new_data\\30.1 30.1\n",
      "D:\\new_data\\94.2 94.2\n",
      "D:\\new_data\\14.2 14.2\n",
      "D:\\new_data\\79.1 79.1\n",
      "D:\\new_data\\21.2 21.2\n",
      "D:\\new_data\\88.1 88.1\n",
      "D:\\new_data\\41.2 41.2\n",
      "D:\\new_data\\46.9 46.9\n",
      "D:\\new_data\\60.2 60.2\n",
      "D:\\new_data\\77.4 77.4\n",
      "D:\\new_data\\56.3 56.3\n",
      "D:\\new_data\\82.3 82.3\n",
      "D:\\new_data\\32.4 32.4\n",
      "D:\\new_data\\26.2 26.2\n",
      "D:\\new_data\\82.2 82.2\n",
      "D:\\new_data\\66.1 66.1\n",
      "D:\\new_data\\72.1 72.1\n",
      "D:\\new_data\\8.27 8.27\n",
      "D:\\new_data\\97.0 97.0\n",
      "D:\\new_data\\28.4 28.4\n",
      "D:\\new_data\\88.9 88.9\n",
      "D:\\new_data\\32.1 32.1\n",
      "D:\\new_data\\49.1 49.1\n",
      "D:\\new_data\\23.2 23.2\n",
      "D:\\new_data\\28.2 28.2\n",
      "D:\\new_data\\77.1 77.1\n",
      "D:\\new_data\\28.1 28.1\n",
      "D:\\new_data\\10.4 10.4\n",
      "D:\\new_data\\32.9 32.9\n",
      "D:\\new_data\\38.2 38.2\n",
      "D:\\new_data\\68.3 68.3\n",
      "D:\\new_data\\4.54 4.54\n",
      "D:\\new_data\\78.2 78.2\n",
      "D:\\new_data\\20.5 20.5\n",
      "D:\\new_data\\43.1 43.1\n",
      "D:\\new_data\\68.1 68.1\n",
      "D:\\new_data\\26.3 26.3\n",
      "D:\\new_data\\87.9 87.9\n",
      "D:\\new_data\\11.0 11.0\n",
      "D:\\new_data\\23.6 23.6\n",
      "D:\\new_data\\0.04 0.04\n",
      "D:\\new_data\\51.2 51.2\n",
      "D:\\new_data\\24.1 24.1\n",
      "D:\\new_data\\22.2 22.2\n",
      "D:\\new_data\\43.9 43.9\n",
      "D:\\new_data\\45.2 45.2\n",
      "D:\\new_data\\55.1 55.1\n",
      "D:\\new_data\\56.1 56.1\n",
      "D:\\new_data\\82.9 82.9\n",
      "D:\\new_data\\81.3 81.3\n",
      "D:\\new_data\\13.9 13.9\n",
      "D:\\new_data\\60.1 60.1\n",
      "D:\\new_data\\84.1 84.1\n",
      "D:\\new_data\\18.2 18.2\n",
      "D:\\new_data\\25.1 25.1\n",
      "D:\\new_data\\30.2 30.2\n",
      "D:\\new_data\\17.2 17.2\n",
      "D:\\new_data\\52.1 52.1\n",
      "D:\\new_data\\50.1 50.1\n"
     ]
    }
   ],
   "source": [
    "for u in unique_fn:\n",
    "    y = os.path.basename(u)\n",
    "    print(u, y)\n",
    "    whole_df = None\n",
    "    for fn in filenames:\n",
    "        if fn.split(SEP)[0] == u:\n",
    "            if whole_df is None:\n",
    "                whole_df = pd.read_csv(fn)\n",
    "            else:\n",
    "                df_tmp = pd.read_csv(fn)\n",
    "                whole_df = pd.concat([whole_df, df_tmp])\n",
    "    \n",
    "    whole_df.to_csv(os.path.join(NEW_PATH, f\"{y}.csv\"))"
   ]
  }
 ],
 "metadata": {
  "kernelspec": {
   "display_name": "Python 3 (ipykernel)",
   "language": "python",
   "name": "python3"
  },
  "language_info": {
   "codemirror_mode": {
    "name": "ipython",
    "version": 3
   },
   "file_extension": ".py",
   "mimetype": "text/x-python",
   "name": "python",
   "nbconvert_exporter": "python",
   "pygments_lexer": "ipython3",
   "version": "3.10.9"
  }
 },
 "nbformat": 4,
 "nbformat_minor": 5
}
