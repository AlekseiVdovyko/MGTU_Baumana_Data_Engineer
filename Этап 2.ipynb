{
 "cells": [
  {
   "cell_type": "markdown",
   "id": "2f50bf1d",
   "metadata": {},
   "source": [
    "# Токенизация данных с использованием библиотеки NLTK"
   ]
  },
  {
   "cell_type": "code",
   "execution_count": 1,
   "id": "55b35772",
   "metadata": {},
   "outputs": [
    {
     "name": "stderr",
     "output_type": "stream",
     "text": [
      "[nltk_data] Downloading package punkt to\n",
      "[nltk_data]     C:\\Users\\Aleksei\\AppData\\Roaming\\nltk_data...\n",
      "[nltk_data]   Package punkt is already up-to-date!\n",
      "[nltk_data] Downloading package wordnet to\n",
      "[nltk_data]     C:\\Users\\Aleksei\\AppData\\Roaming\\nltk_data...\n",
      "[nltk_data]   Package wordnet is already up-to-date!\n",
      "[nltk_data] Downloading package omw-1.4 to\n",
      "[nltk_data]     C:\\Users\\Aleksei\\AppData\\Roaming\\nltk_data...\n",
      "[nltk_data]   Package omw-1.4 is already up-to-date!\n",
      "[nltk_data] Downloading package averaged_perceptron_tagger to\n",
      "[nltk_data]     C:\\Users\\Aleksei\\AppData\\Roaming\\nltk_data...\n",
      "[nltk_data]   Package averaged_perceptron_tagger is already up-to-\n",
      "[nltk_data]       date!\n",
      "[nltk_data] Downloading package stopwords to\n",
      "[nltk_data]     C:\\Users\\Aleksei\\AppData\\Roaming\\nltk_data...\n",
      "[nltk_data]   Package stopwords is already up-to-date!\n"
     ]
    }
   ],
   "source": [
    "import os\n",
    "\n",
    "import pandas as pd\n",
    "import numpy as np\n",
    "import matplotlib.pyplot as plt\n",
    "\n",
    "import nltk\n",
    "from nltk.tokenize import word_tokenize\n",
    "from nltk.corpus import wordnet as wn\n",
    "from collections import defaultdict\n",
    "from nltk.stem import WordNetLemmatizer\n",
    "from nltk.corpus import stopwords\n",
    "\n",
    "nltk.download('punkt')\n",
    "nltk.download('wordnet')\n",
    "nltk.download('omw-1.4')\n",
    "nltk.download('averaged_perceptron_tagger')\n",
    "nltk.download('stopwords')\n",
    "\n",
    "PATH = r\"D:\\split_by_OKPD\"\n",
    "CLASS_COLUMN = \"group\"\n",
    "\n",
    "COLS = [\"Номер\", \"Наименование поставщика\", \"Наименование заказчика\", \"Регион заказчика\", \"Исполнение\", \n",
    "        \"Предмет закупки\",\"Цена контракта\", \"Стоимость обязательств\", \"Описание ОКПД\", \"Код ОКПД\"]"
   ]
  },
  {
   "cell_type": "code",
   "execution_count": 2,
   "id": "85309548",
   "metadata": {},
   "outputs": [
    {
     "data": {
      "text/plain": [
       "['D:\\\\split_by_OKPD\\\\0.00.csv',\n",
       " 'D:\\\\split_by_OKPD\\\\0.01.csv',\n",
       " 'D:\\\\split_by_OKPD\\\\0.02.csv']"
      ]
     },
     "execution_count": 2,
     "metadata": {},
     "output_type": "execute_result"
    }
   ],
   "source": [
    "filenames = [os.path.join(PATH, fn) for fn in os.listdir(PATH)]\n",
    "filenames[:3]"
   ]
  },
  {
   "cell_type": "code",
   "execution_count": 3,
   "id": "51af3d9b",
   "metadata": {},
   "outputs": [
    {
     "name": "stdout",
     "output_type": "stream",
     "text": [
      "['0.00', '0.01', '0.02', '0.04', '0.70', '01.1', '01.2', '01.3', '01.4', '01.6', '01.7', '02.1', '02.2', '02.3', '02.4', '03.1', '03.2', '05.1', '05.2', '06.1', '06.2', '07.1', '07.2', '08.1', '08.9', '09.1', '09.9', '10.1', '10.2', '10.3', '10.4', '10.5', '10.6', '10.7', '10.8', '10.9', '11.0', '12.0', '13.1', '13.2', '13.3', '13.9', '14.1', '14.2', '14.3', '15.1', '15.2', '16.1', '16.2', '17.1', '17.2', '18.1', '18.2', '19.1', '19.2', '19.3', '20.1', '20.2', '20.3', '20.4', '20.5', '20.6', '21.1', '21.2', '22.1', '22.2', '23.1', '23.2', '23.3', '23.4', '23.5', '23.6', '23.7', '23.9', '24.1', '24.2', '24.3', '24.4', '24.5', '25.1', '25.2', '25.3', '25.4', '25.5', '25.6', '25.7', '25.9', '26.1', '26.2', '26.3', '26.4', '26.5', '26.6', '26.7', '26.8', '27.1', '27.2', '27.3', '27.4', '27.5', '27.9', '28.1', '28.2', '28.3', '28.4', '28.9', '29.1', '29.2', '29.3', '30.1', '30.2', '30.3', '30.4', '30.9', '31.0', '32.1', '32.2', '32.3', '32.4', '32.5', '32.9', '33.1', '33.2', '35.1', '35.2', '35.3', '36.0', '37.0', '38.1', '38.2', '38.3', '39.0', '4.54', '41.1', '41.2', '42.1', '42.2', '42.9', '43.1', '43.2', '43.3', '43.9', '45.1', '45.2', '45.3', '45.4', '46.1', '46.2', '46.3', '46.4', '46.5', '46.6', '46.7', '46.9', '47.1', '47.2', '47.3', '47.4', '47.5', '47.6', '47.7', '47.8', '47.9', '49.1', '49.2', '49.3', '49.4', '49.5', '5.78', '5.79', '50.1', '50.2', '50.3', '50.4', '51.1', '51.2', '52.1', '52.2', '53.1', '53.2', '55.1', '55.2', '55.3', '55.9', '56.1', '56.2', '56.3', '58.1', '58.2', '59.1', '59.2', '6.00', '60.1', '60.2', '61.1', '61.2', '61.3', '61.9', '62.0', '63.1', '63.9', '64.1', '64.2', '64.3', '64.9', '65.1', '65.2', '65.3', '66.1', '66.2', '66.3', '68.1', '68.2', '68.3', '69.1', '69.2', '70.1', '70.2', '71.1', '71.2', '72.1', '72.2', '73.1', '73.2', '74.1', '74.2', '74.3', '74.9', '75.0', '77.1', '77.2', '77.3', '77.4', '78.1', '78.2', '78.3', '79.1', '79.9', '8.27', '80.1', '80.2', '80.3', '81.1', '81.2', '81.3', '82.1', '82.2', '82.3', '82.9', '84.1', '84.2', '84.3', '85.1', '85.2', '85.3', '85.4', '86.1', '86.2', '86.9', '87.1', '87.2', '87.3', '87.9', '88.1', '88.9', '9.02', '9.77', '90.0', '91.0', '92.1', '92.2', '93.1', '93.2', '94.1', '94.2', '94.9', '95.1', '95.2', '96.0', '97.0', '98.1', '98.2', '99.0']\n"
     ]
    }
   ],
   "source": [
    "okpd_codes = [os.path.splitext(os.path.basename(fn))[0] for fn in filenames]\n",
    "print(okpd_codes)"
   ]
  },
  {
   "cell_type": "markdown",
   "id": "0483f578",
   "metadata": {},
   "source": [
    "## Выбираем только интересующие нас коды ОКПД"
   ]
  },
  {
   "cell_type": "code",
   "execution_count": 4,
   "id": "3232dab3",
   "metadata": {},
   "outputs": [],
   "source": [
    "# 0 Строительно-монтажные работы (СМР) - 41, 42, 43(кроме нижеперечисленных) \n",
    "# 1 Проектно-изыскательские работы (ПИР) - 41.1, 71.1 \n",
    "# 2 Подключение коммуникаций - 43.22 \n",
    "# 3 Строительный надзор – четкой группы нет -> класс игнорируем\n",
    "\n",
    "USED_CODES = [['41.2', '42.1', '42.2', '42.9', '43.1', '43.3', '43.9'], \n",
    "              ['41.1', '71.1'], \n",
    "              ['43.2']]"
   ]
  },
  {
   "cell_type": "code",
   "execution_count": 5,
   "id": "0202147c",
   "metadata": {},
   "outputs": [
    {
     "name": "stderr",
     "output_type": "stream",
     "text": [
      "C:\\Users\\Aleksei\\AppData\\Local\\Temp\\ipykernel_12364\\4168448817.py:5: DtypeWarning: Columns (8) have mixed types. Specify dtype option on import or set low_memory=False.\n",
      "  df = pd.read_csv(fn, index_col=1)\n",
      "C:\\Users\\Aleksei\\AppData\\Local\\Temp\\ipykernel_12364\\4168448817.py:5: DtypeWarning: Columns (8) have mixed types. Specify dtype option on import or set low_memory=False.\n",
      "  df = pd.read_csv(fn, index_col=1)\n",
      "C:\\Users\\Aleksei\\AppData\\Local\\Temp\\ipykernel_12364\\4168448817.py:5: DtypeWarning: Columns (8) have mixed types. Specify dtype option on import or set low_memory=False.\n",
      "  df = pd.read_csv(fn, index_col=1)\n",
      "C:\\Users\\Aleksei\\AppData\\Local\\Temp\\ipykernel_12364\\4168448817.py:5: DtypeWarning: Columns (8) have mixed types. Specify dtype option on import or set low_memory=False.\n",
      "  df = pd.read_csv(fn, index_col=1)\n",
      "C:\\Users\\Aleksei\\AppData\\Local\\Temp\\ipykernel_12364\\4168448817.py:5: DtypeWarning: Columns (8) have mixed types. Specify dtype option on import or set low_memory=False.\n",
      "  df = pd.read_csv(fn, index_col=1)\n"
     ]
    }
   ],
   "source": [
    "whole_df = None\n",
    "for code, fn in zip(okpd_codes, filenames):\n",
    "    for i in range(len(USED_CODES)):\n",
    "        if code in USED_CODES[i]:\n",
    "            df = pd.read_csv(fn, index_col=1)\n",
    "            df.columns = COLS\n",
    "            df[CLASS_COLUMN] = i\n",
    "            if whole_df is None:\n",
    "                whole_df = df\n",
    "            else:\n",
    "                whole_df = pd.concat([whole_df, df])"
   ]
  },
  {
   "cell_type": "code",
   "execution_count": 6,
   "id": "b8a788f6",
   "metadata": {},
   "outputs": [
    {
     "data": {
      "text/html": [
       "<div>\n",
       "<style scoped>\n",
       "    .dataframe tbody tr th:only-of-type {\n",
       "        vertical-align: middle;\n",
       "    }\n",
       "\n",
       "    .dataframe tbody tr th {\n",
       "        vertical-align: top;\n",
       "    }\n",
       "\n",
       "    .dataframe thead th {\n",
       "        text-align: right;\n",
       "    }\n",
       "</style>\n",
       "<table border=\"1\" class=\"dataframe\">\n",
       "  <thead>\n",
       "    <tr style=\"text-align: right;\">\n",
       "      <th></th>\n",
       "      <th>Номер</th>\n",
       "      <th>Наименование поставщика</th>\n",
       "      <th>Наименование заказчика</th>\n",
       "      <th>Регион заказчика</th>\n",
       "      <th>Исполнение</th>\n",
       "      <th>Предмет закупки</th>\n",
       "      <th>Цена контракта</th>\n",
       "      <th>Стоимость обязательств</th>\n",
       "      <th>Описание ОКПД</th>\n",
       "      <th>Код ОКПД</th>\n",
       "      <th>group</th>\n",
       "    </tr>\n",
       "    <tr>\n",
       "      <th>Unnamed: 0</th>\n",
       "      <th></th>\n",
       "      <th></th>\n",
       "      <th></th>\n",
       "      <th></th>\n",
       "      <th></th>\n",
       "      <th></th>\n",
       "      <th></th>\n",
       "      <th></th>\n",
       "      <th></th>\n",
       "      <th></th>\n",
       "      <th></th>\n",
       "    </tr>\n",
       "  </thead>\n",
       "  <tbody>\n",
       "    <tr>\n",
       "      <th>16663</th>\n",
       "      <td>0</td>\n",
       "      <td>АКЦИОНЕРНОЕ ОБЩЕСТВО \\ТРАНСИНЖСТРОЙ\\\"\"</td>\n",
       "      <td>ФКУ \\РЕАБИЛИТАЦИОННЫЙ ЦЕНТР\\\"\"</td>\n",
       "      <td>Город Москва столица Российской Федерации горо...</td>\n",
       "      <td>&lt;НЕ ОПРЕДЕЛЕНО&gt;</td>\n",
       "      <td>федеральный бюджет</td>\n",
       "      <td>\\N</td>\n",
       "      <td>2550640.0</td>\n",
       "      <td>Здания и работы по возведению зданий</td>\n",
       "      <td>41.1</td>\n",
       "      <td>1</td>\n",
       "    </tr>\n",
       "    <tr>\n",
       "      <th>24165</th>\n",
       "      <td>1</td>\n",
       "      <td>ОБЩЕСТВО С ОГРАНИЧЕННОЙ ОТВЕТСТВЕННОСТЬЮ \\СТРО...</td>\n",
       "      <td>\\N</td>\n",
       "      <td>Свердловская область</td>\n",
       "      <td>Оказание услуг по разработке проектной докумен...</td>\n",
       "      <td>федеральный бюджет</td>\n",
       "      <td>871000.00</td>\n",
       "      <td>866645.0</td>\n",
       "      <td>Здания и работы по возведению зданий</td>\n",
       "      <td>41.1</td>\n",
       "      <td>1</td>\n",
       "    </tr>\n",
       "    <tr>\n",
       "      <th>24166</th>\n",
       "      <td>2</td>\n",
       "      <td>ОБЩЕСТВО С ОГРАНИЧЕННОЙ ОТВЕТСТВЕННОСТЬЮ \\СТРО...</td>\n",
       "      <td>\\N</td>\n",
       "      <td>Свердловская область</td>\n",
       "      <td>Оказание услуг по разработке проектной докумен...</td>\n",
       "      <td>федеральный бюджет</td>\n",
       "      <td>871000.00</td>\n",
       "      <td>866645.0</td>\n",
       "      <td>Здания и работы по возведению зданий</td>\n",
       "      <td>41.1</td>\n",
       "      <td>1</td>\n",
       "    </tr>\n",
       "    <tr>\n",
       "      <th>24566</th>\n",
       "      <td>3</td>\n",
       "      <td>ФЕДЕРАЛЬНОЕ АВТОНОМНОЕ УЧРЕЖДЕНИЕ \\ГЛАВНОЕ УПР...</td>\n",
       "      <td>ФКУ УПРДОР МОСКВА-БОБРУЙСК</td>\n",
       "      <td>Калужская область</td>\n",
       "      <td>&lt;НЕ ОПРЕДЕЛЕНО&gt;</td>\n",
       "      <td>федеральный бюджет</td>\n",
       "      <td>\\N</td>\n",
       "      <td>4652099.53</td>\n",
       "      <td>Здания и работы по возведению зданий</td>\n",
       "      <td>41.1</td>\n",
       "      <td>1</td>\n",
       "    </tr>\n",
       "    <tr>\n",
       "      <th>40500</th>\n",
       "      <td>4</td>\n",
       "      <td>ОБЩЕСТВО С ОГРАНИЧЕННОЙ ОТВЕТСТВЕННОСТЬЮ \\БАШС...</td>\n",
       "      <td>ГБУ \\РГЦ\\\"\"</td>\n",
       "      <td>Республика Башкортостан</td>\n",
       "      <td>Выполнение работ по разработке проектной докум...</td>\n",
       "      <td>\\N</td>\n",
       "      <td>390000.00</td>\n",
       "      <td>390000.0</td>\n",
       "      <td>Здания и работы по возведению зданий</td>\n",
       "      <td>41.1</td>\n",
       "      <td>1</td>\n",
       "    </tr>\n",
       "  </tbody>\n",
       "</table>\n",
       "</div>"
      ],
      "text/plain": [
       "            Номер                            Наименование поставщика  \\\n",
       "Unnamed: 0                                                             \n",
       "16663           0             АКЦИОНЕРНОЕ ОБЩЕСТВО \\ТРАНСИНЖСТРОЙ\\\"\"   \n",
       "24165           1  ОБЩЕСТВО С ОГРАНИЧЕННОЙ ОТВЕТСТВЕННОСТЬЮ \\СТРО...   \n",
       "24166           2  ОБЩЕСТВО С ОГРАНИЧЕННОЙ ОТВЕТСТВЕННОСТЬЮ \\СТРО...   \n",
       "24566           3  ФЕДЕРАЛЬНОЕ АВТОНОМНОЕ УЧРЕЖДЕНИЕ \\ГЛАВНОЕ УПР...   \n",
       "40500           4  ОБЩЕСТВО С ОГРАНИЧЕННОЙ ОТВЕТСТВЕННОСТЬЮ \\БАШС...   \n",
       "\n",
       "                    Наименование заказчика  \\\n",
       "Unnamed: 0                                   \n",
       "16663       ФКУ \\РЕАБИЛИТАЦИОННЫЙ ЦЕНТР\\\"\"   \n",
       "24165                                   \\N   \n",
       "24166                                   \\N   \n",
       "24566           ФКУ УПРДОР МОСКВА-БОБРУЙСК   \n",
       "40500                          ГБУ \\РГЦ\\\"\"   \n",
       "\n",
       "                                             Регион заказчика  \\\n",
       "Unnamed: 0                                                      \n",
       "16663       Город Москва столица Российской Федерации горо...   \n",
       "24165                                    Свердловская область   \n",
       "24166                                    Свердловская область   \n",
       "24566                                       Калужская область   \n",
       "40500                                 Республика Башкортостан   \n",
       "\n",
       "                                                   Исполнение  \\\n",
       "Unnamed: 0                                                      \n",
       "16663                                         <НЕ ОПРЕДЕЛЕНО>   \n",
       "24165       Оказание услуг по разработке проектной докумен...   \n",
       "24166       Оказание услуг по разработке проектной докумен...   \n",
       "24566                                         <НЕ ОПРЕДЕЛЕНО>   \n",
       "40500       Выполнение работ по разработке проектной докум...   \n",
       "\n",
       "               Предмет закупки Цена контракта Стоимость обязательств  \\\n",
       "Unnamed: 0                                                             \n",
       "16663       федеральный бюджет             \\N              2550640.0   \n",
       "24165       федеральный бюджет      871000.00               866645.0   \n",
       "24166       федеральный бюджет      871000.00               866645.0   \n",
       "24566       федеральный бюджет             \\N             4652099.53   \n",
       "40500                       \\N      390000.00               390000.0   \n",
       "\n",
       "                                   Описание ОКПД  Код ОКПД  group  \n",
       "Unnamed: 0                                                         \n",
       "16663       Здания и работы по возведению зданий      41.1      1  \n",
       "24165       Здания и работы по возведению зданий      41.1      1  \n",
       "24166       Здания и работы по возведению зданий      41.1      1  \n",
       "24566       Здания и работы по возведению зданий      41.1      1  \n",
       "40500       Здания и работы по возведению зданий      41.1      1  "
      ]
     },
     "execution_count": 6,
     "metadata": {},
     "output_type": "execute_result"
    }
   ],
   "source": [
    "whole_df.head()"
   ]
  },
  {
   "cell_type": "code",
   "execution_count": 7,
   "id": "47f58a59",
   "metadata": {},
   "outputs": [
    {
     "data": {
      "text/plain": [
       "<Axes: >"
      ]
     },
     "execution_count": 7,
     "metadata": {},
     "output_type": "execute_result"
    },
    {
     "data": {
      "image/png": "[encoded data removed]",
      "text/plain": [
       "<Figure size 640x480 with 1 Axes>"
      ]
     },
     "metadata": {},
     "output_type": "display_data"
    }
   ],
   "source": [
    "whole_df[\"group\"].astype(str).hist()"
   ]
  },
  {
   "cell_type": "code",
   "execution_count": 8,
   "id": "f37a731b",
   "metadata": {},
   "outputs": [
    {
     "data": {
      "text/html": [
       "<div>\n",
       "<style scoped>\n",
       "    .dataframe tbody tr th:only-of-type {\n",
       "        vertical-align: middle;\n",
       "    }\n",
       "\n",
       "    .dataframe tbody tr th {\n",
       "        vertical-align: top;\n",
       "    }\n",
       "\n",
       "    .dataframe thead th {\n",
       "        text-align: right;\n",
       "    }\n",
       "</style>\n",
       "<table border=\"1\" class=\"dataframe\">\n",
       "  <thead>\n",
       "    <tr style=\"text-align: right;\">\n",
       "      <th></th>\n",
       "      <th>Описание ОКПД</th>\n",
       "      <th>Код ОКПД</th>\n",
       "    </tr>\n",
       "    <tr>\n",
       "      <th>Unnamed: 0</th>\n",
       "      <th></th>\n",
       "      <th></th>\n",
       "    </tr>\n",
       "  </thead>\n",
       "  <tbody>\n",
       "    <tr>\n",
       "      <th>16663</th>\n",
       "      <td>Здания и работы по возведению зданий</td>\n",
       "      <td>41.1</td>\n",
       "    </tr>\n",
       "    <tr>\n",
       "      <th>26715343</th>\n",
       "      <td>41.1</td>\n",
       "      <td>41.1</td>\n",
       "    </tr>\n",
       "    <tr>\n",
       "      <th>26720292</th>\n",
       "      <td>&lt;НЕ ОПРЕДЕЛЕНО&gt;</td>\n",
       "      <td>41.1</td>\n",
       "    </tr>\n",
       "    <tr>\n",
       "      <th>27017142</th>\n",
       "      <td>A</td>\n",
       "      <td>41.1</td>\n",
       "    </tr>\n",
       "    <tr>\n",
       "      <th>27495086</th>\n",
       "      <td>N</td>\n",
       "      <td>41.1</td>\n",
       "    </tr>\n",
       "    <tr>\n",
       "      <th>...</th>\n",
       "      <td>...</td>\n",
       "      <td>...</td>\n",
       "    </tr>\n",
       "    <tr>\n",
       "      <th>26835681</th>\n",
       "      <td>N</td>\n",
       "      <td>71.1</td>\n",
       "    </tr>\n",
       "    <tr>\n",
       "      <th>27112923</th>\n",
       "      <td>V</td>\n",
       "      <td>71.1</td>\n",
       "    </tr>\n",
       "    <tr>\n",
       "      <th>27609326</th>\n",
       "      <td>T</td>\n",
       "      <td>71.1</td>\n",
       "    </tr>\n",
       "    <tr>\n",
       "      <th>27681531</th>\n",
       "      <td>S</td>\n",
       "      <td>71.1</td>\n",
       "    </tr>\n",
       "    <tr>\n",
       "      <th>27707520</th>\n",
       "      <td>D</td>\n",
       "      <td>71.1</td>\n",
       "    </tr>\n",
       "  </tbody>\n",
       "</table>\n",
       "<p>86 rows × 2 columns</p>\n",
       "</div>"
      ],
      "text/plain": [
       "                                   Описание ОКПД  Код ОКПД\n",
       "Unnamed: 0                                                \n",
       "16663       Здания и работы по возведению зданий      41.1\n",
       "26715343                                    41.1      41.1\n",
       "26720292                         <НЕ ОПРЕДЕЛЕНО>      41.1\n",
       "27017142                                       A      41.1\n",
       "27495086                                       N      41.1\n",
       "...                                          ...       ...\n",
       "26835681                                       N      71.1\n",
       "27112923                                       V      71.1\n",
       "27609326                                       T      71.1\n",
       "27681531                                       S      71.1\n",
       "27707520                                       D      71.1\n",
       "\n",
       "[86 rows x 2 columns]"
      ]
     },
     "execution_count": 8,
     "metadata": {},
     "output_type": "execute_result"
    }
   ],
   "source": [
    "whole_df[[\"Описание ОКПД\", \"Код ОКПД\"]].drop_duplicates()"
   ]
  },
  {
   "cell_type": "code",
   "execution_count": 9,
   "id": "8643c8a6",
   "metadata": {},
   "outputs": [
    {
     "data": {
      "text/plain": [
       "array(['Здания и работы по возведению зданий', '41.1', '<НЕ ОПРЕДЕЛЕНО>',\n",
       "       'A', 'N', 'V', 'P', 'F', 'B', 'G', '41.2', 'E',\n",
       "       'Сооружения и строительные работы в области гражданского строительства',\n",
       "       '42.1', 'R', 'L', 'J', '42.2', '42.9', 'T',\n",
       "       'Работы строительные специализированные', '43.1', '43.2', '43.3',\n",
       "       '43.9',\n",
       "       'Услуги в области архитектуры и инженерно-технического проектирования, технических испытаний, исследований и анализа',\n",
       "       '71.1', 'S', 'D'], dtype=object)"
      ]
     },
     "execution_count": 9,
     "metadata": {},
     "output_type": "execute_result"
    }
   ],
   "source": [
    "unique_descriptions = whole_df[\"Описание ОКПД\"].unique()\n",
    "unique_descriptions"
   ]
  },
  {
   "cell_type": "code",
   "execution_count": 10,
   "id": "84229531",
   "metadata": {},
   "outputs": [],
   "source": [
    "pairs = {}\n",
    "for descr in unique_descriptions:\n",
    "    pairs[descr] = set(whole_df[whole_df[\"Описание ОКПД\"] == descr][\"Код ОКПД\"].values)"
   ]
  },
  {
   "cell_type": "code",
   "execution_count": 11,
   "id": "c6a55a1c",
   "metadata": {},
   "outputs": [
    {
     "data": {
      "text/plain": [
       "{'Здания и работы по возведению зданий': {41.1, 41.2},\n",
       " '41.1': {41.1},\n",
       " '<НЕ ОПРЕДЕЛЕНО>': {41.1,\n",
       "  41.2,\n",
       "  42.1,\n",
       "  42.2,\n",
       "  42.9,\n",
       "  43.1,\n",
       "  43.2,\n",
       "  43.3,\n",
       "  43.9,\n",
       "  71.1},\n",
       " 'A': {41.1, 41.2, 42.9, 43.3, 43.9, 71.1},\n",
       " 'N': {41.1, 41.2, 43.2, 43.9, 71.1},\n",
       " 'V': {41.1, 42.1, 71.1},\n",
       " 'P': {41.1, 41.2, 42.9, 43.2, 43.3, 43.9, 71.1},\n",
       " 'F': {41.1, 41.2, 42.1, 42.2, 42.9, 43.1, 43.2, 43.9, 71.1},\n",
       " 'B': {41.1, 42.1, 42.9, 71.1},\n",
       " 'G': {41.1, 41.2, 42.2, 42.9, 43.9, 71.1},\n",
       " '41.2': {41.2},\n",
       " 'E': {41.2, 42.9, 43.3, 43.9, 71.1},\n",
       " 'Сооружения и строительные работы в области гражданского строительства': {42.1,\n",
       "  42.2,\n",
       "  42.9},\n",
       " '42.1': {42.1},\n",
       " 'R': {42.1, 42.2, 43.2, 71.1},\n",
       " 'L': {42.1},\n",
       " 'J': {42.1, 42.9},\n",
       " '42.2': {42.2},\n",
       " '42.9': {42.9},\n",
       " 'T': {42.9, 71.1},\n",
       " 'Работы строительные специализированные': {43.1, 43.2, 43.3, 43.9},\n",
       " '43.1': {43.1},\n",
       " '43.2': {43.2},\n",
       " '43.3': {43.3},\n",
       " '43.9': {43.9},\n",
       " 'Услуги в области архитектуры и инженерно-технического проектирования, технических испытаний, исследований и анализа': {71.1},\n",
       " '71.1': {71.1},\n",
       " 'S': {71.1},\n",
       " 'D': {71.1}}"
      ]
     },
     "execution_count": 11,
     "metadata": {},
     "output_type": "execute_result"
    }
   ],
   "source": [
    "pairs"
   ]
  },
  {
   "cell_type": "code",
   "execution_count": 12,
   "id": "fc5c5ca1",
   "metadata": {},
   "outputs": [],
   "source": [
    "whole_df = whole_df[whole_df[\"Стоимость обязательств\"] != '\\\\N']"
   ]
  },
  {
   "cell_type": "code",
   "execution_count": 13,
   "id": "12a66f1e",
   "metadata": {},
   "outputs": [
    {
     "data": {
      "text/html": [
       "<div>\n",
       "<style scoped>\n",
       "    .dataframe tbody tr th:only-of-type {\n",
       "        vertical-align: middle;\n",
       "    }\n",
       "\n",
       "    .dataframe tbody tr th {\n",
       "        vertical-align: top;\n",
       "    }\n",
       "\n",
       "    .dataframe thead th {\n",
       "        text-align: right;\n",
       "    }\n",
       "</style>\n",
       "<table border=\"1\" class=\"dataframe\">\n",
       "  <thead>\n",
       "    <tr style=\"text-align: right;\">\n",
       "      <th></th>\n",
       "      <th>Номер</th>\n",
       "      <th>Наименование поставщика</th>\n",
       "      <th>Наименование заказчика</th>\n",
       "      <th>Регион заказчика</th>\n",
       "      <th>Исполнение</th>\n",
       "      <th>Предмет закупки</th>\n",
       "      <th>Цена контракта</th>\n",
       "      <th>Стоимость обязательств</th>\n",
       "      <th>Описание ОКПД</th>\n",
       "      <th>Код ОКПД</th>\n",
       "      <th>group</th>\n",
       "    </tr>\n",
       "    <tr>\n",
       "      <th>Unnamed: 0</th>\n",
       "      <th></th>\n",
       "      <th></th>\n",
       "      <th></th>\n",
       "      <th></th>\n",
       "      <th></th>\n",
       "      <th></th>\n",
       "      <th></th>\n",
       "      <th></th>\n",
       "      <th></th>\n",
       "      <th></th>\n",
       "      <th></th>\n",
       "    </tr>\n",
       "  </thead>\n",
       "  <tbody>\n",
       "  </tbody>\n",
       "</table>\n",
       "</div>"
      ],
      "text/plain": [
       "Empty DataFrame\n",
       "Columns: [Номер, Наименование поставщика, Наименование заказчика, Регион заказчика, Исполнение, Предмет закупки, Цена контракта, Стоимость обязательств, Описание ОКПД, Код ОКПД, group]\n",
       "Index: []"
      ]
     },
     "execution_count": 13,
     "metadata": {},
     "output_type": "execute_result"
    }
   ],
   "source": [
    "whole_df[whole_df[\"Стоимость обязательств\"] == '\\\\N']"
   ]
  },
  {
   "cell_type": "code",
   "execution_count": 14,
   "id": "a480240e",
   "metadata": {},
   "outputs": [
    {
     "name": "stderr",
     "output_type": "stream",
     "text": [
      "C:\\Users\\Aleksei\\AppData\\Local\\Temp\\ipykernel_12364\\497565923.py:3: RuntimeWarning: divide by zero encountered in log10\n",
      "  whole_df[\"Стоимость обязательств_log10\"] = np.log10(whole_df[[\"Стоимость обязательств\"]].values)\n"
     ]
    }
   ],
   "source": [
    "whole_df[\"group\"] = whole_df[\"group\"].astype(str)\n",
    "whole_df[\"Стоимость обязательств\"] = whole_df[\"Стоимость обязательств\"].astype(float)\n",
    "whole_df[\"Стоимость обязательств_log10\"] = np.log10(whole_df[[\"Стоимость обязательств\"]].values)"
   ]
  },
  {
   "cell_type": "code",
   "execution_count": 15,
   "id": "7b892ecc",
   "metadata": {},
   "outputs": [
    {
     "data": {
      "image/png": "[encoded data removed]",
      "text/plain": [
       "<Figure size 640x480 with 1 Axes>"
      ]
     },
     "metadata": {},
     "output_type": "display_data"
    }
   ],
   "source": [
    "plt.hist(whole_df[whole_df[\"Стоимость обязательств_log10\"] > 0][\"Стоимость обязательств_log10\"]);"
   ]
  },
  {
   "cell_type": "code",
   "execution_count": 16,
   "id": "6621dcce",
   "metadata": {},
   "outputs": [
    {
     "data": {
      "text/plain": [
       "Text(0.5, 1.0, 'Цена контракта, логарифмированная шкала')"
      ]
     },
     "execution_count": 16,
     "metadata": {},
     "output_type": "execute_result"
    },
    {
     "data": {
      "image/png": "[encoded data removed]",
      "text/plain": [
       "<Figure size 640x480 with 1 Axes>"
      ]
     },
     "metadata": {},
     "output_type": "display_data"
    }
   ],
   "source": [
    "whole_df[[\"Стоимость обязательств_log10\", \"group\"]].boxplot(by=\"group\")\n",
    "plt.title(\"Цена контракта, логарифмированная шкала\")"
   ]
  },
  {
   "cell_type": "code",
   "execution_count": 17,
   "id": "d3e92289",
   "metadata": {},
   "outputs": [],
   "source": [
    "whole_df = whole_df[whole_df[\"Исполнение\"] != \"<НЕ ОПРЕДЕЛЕНО>\"]\n",
    "words_df = whole_df[[\"Исполнение\", \"group\"]]"
   ]
  },
  {
   "cell_type": "code",
   "execution_count": 18,
   "id": "482df366",
   "metadata": {},
   "outputs": [
    {
     "data": {
      "text/html": [
       "<div>\n",
       "<style scoped>\n",
       "    .dataframe tbody tr th:only-of-type {\n",
       "        vertical-align: middle;\n",
       "    }\n",
       "\n",
       "    .dataframe tbody tr th {\n",
       "        vertical-align: top;\n",
       "    }\n",
       "\n",
       "    .dataframe thead th {\n",
       "        text-align: right;\n",
       "    }\n",
       "</style>\n",
       "<table border=\"1\" class=\"dataframe\">\n",
       "  <thead>\n",
       "    <tr style=\"text-align: right;\">\n",
       "      <th></th>\n",
       "      <th>Исполнение</th>\n",
       "      <th>group</th>\n",
       "    </tr>\n",
       "    <tr>\n",
       "      <th>Unnamed: 0</th>\n",
       "      <th></th>\n",
       "      <th></th>\n",
       "    </tr>\n",
       "  </thead>\n",
       "  <tbody>\n",
       "    <tr>\n",
       "      <th>24165</th>\n",
       "      <td>Оказание услуг по разработке проектной докумен...</td>\n",
       "      <td>1</td>\n",
       "    </tr>\n",
       "    <tr>\n",
       "      <th>24166</th>\n",
       "      <td>Оказание услуг по разработке проектной докумен...</td>\n",
       "      <td>1</td>\n",
       "    </tr>\n",
       "    <tr>\n",
       "      <th>40500</th>\n",
       "      <td>Выполнение работ по разработке проектной докум...</td>\n",
       "      <td>1</td>\n",
       "    </tr>\n",
       "    <tr>\n",
       "      <th>42326</th>\n",
       "      <td>Разработка проектной документации по объекту: ...</td>\n",
       "      <td>1</td>\n",
       "    </tr>\n",
       "    <tr>\n",
       "      <th>44031</th>\n",
       "      <td>Выполнение работ по подготовке проектно-сметно...</td>\n",
       "      <td>1</td>\n",
       "    </tr>\n",
       "    <tr>\n",
       "      <th>...</th>\n",
       "      <td>...</td>\n",
       "      <td>...</td>\n",
       "    </tr>\n",
       "    <tr>\n",
       "      <th>9998520</th>\n",
       "      <td>Разработка проектно-сметной документации по об...</td>\n",
       "      <td>1</td>\n",
       "    </tr>\n",
       "    <tr>\n",
       "      <th>9999134</th>\n",
       "      <td>Оказание услуг по разработке проектов внесения...</td>\n",
       "      <td>1</td>\n",
       "    </tr>\n",
       "    <tr>\n",
       "      <th>9999349</th>\n",
       "      <td>Оказание услуг по разработке рабочей и проектн...</td>\n",
       "      <td>1</td>\n",
       "    </tr>\n",
       "    <tr>\n",
       "      <th>9999712</th>\n",
       "      <td>Проектирование автоматической системы оповещен...</td>\n",
       "      <td>1</td>\n",
       "    </tr>\n",
       "    <tr>\n",
       "      <th>9999904</th>\n",
       "      <td>Оказание услуг в области метрологии по поверке...</td>\n",
       "      <td>1</td>\n",
       "    </tr>\n",
       "  </tbody>\n",
       "</table>\n",
       "<p>1762731 rows × 2 columns</p>\n",
       "</div>"
      ],
      "text/plain": [
       "                                                   Исполнение group\n",
       "Unnamed: 0                                                         \n",
       "24165       Оказание услуг по разработке проектной докумен...     1\n",
       "24166       Оказание услуг по разработке проектной докумен...     1\n",
       "40500       Выполнение работ по разработке проектной докум...     1\n",
       "42326       Разработка проектной документации по объекту: ...     1\n",
       "44031       Выполнение работ по подготовке проектно-сметно...     1\n",
       "...                                                       ...   ...\n",
       "9998520     Разработка проектно-сметной документации по об...     1\n",
       "9999134     Оказание услуг по разработке проектов внесения...     1\n",
       "9999349     Оказание услуг по разработке рабочей и проектн...     1\n",
       "9999712     Проектирование автоматической системы оповещен...     1\n",
       "9999904     Оказание услуг в области метрологии по поверке...     1\n",
       "\n",
       "[1762731 rows x 2 columns]"
      ]
     },
     "execution_count": 18,
     "metadata": {},
     "output_type": "execute_result"
    }
   ],
   "source": [
    "words_df"
   ]
  },
  {
   "cell_type": "markdown",
   "id": "d5c5da1b",
   "metadata": {},
   "source": [
    "### Разделение слов можно удалить"
   ]
  },
  {
   "cell_type": "code",
   "execution_count": 19,
   "id": "c833b825",
   "metadata": {},
   "outputs": [],
   "source": [
    "def get_top_n_words(array, n):\n",
    "    tag_map = defaultdict(lambda : wn.NOUN)\n",
    "    tag_map['J'] = wn.ADJ\n",
    "    tag_map['V'] = wn.VERB\n",
    "    tag_map['R'] = wn.ADV\n",
    "\n",
    "    res = []\n",
    "    seq = [word_tokenize(entry.lower()) for entry in array]\n",
    "    for index,entry in enumerate(seq):\n",
    "        final_words = []\n",
    "        word_lemmatized = WordNetLemmatizer()\n",
    "        for word, tag in nltk.pos_tag(entry):\n",
    "            if word not in stopwords.words(\"russian\") and word.isalpha():\n",
    "                word_final = word_lemmatized.lemmatize(word, tag_map[tag[0]])\n",
    "                final_words.append(word_final)\n",
    "        res += final_words\n",
    "    \n",
    "    return list(pd.value_counts(res)[:n].items())"
   ]
  },
  {
   "cell_type": "code",
   "execution_count": null,
   "id": "a4856789",
   "metadata": {},
   "outputs": [],
   "source": [
    "res_dict = {}\n",
    "for group in ('0', '1', '2', '3'):\n",
    "    tmp_arr = words_df[words_df[\"group\"] == group].values[:, 0]\n",
    "    words = get_top_n_words(tmp_arr, 20)\n",
    "    res_dict[group] = words"
   ]
  },
  {
   "cell_type": "code",
   "execution_count": null,
   "id": "7cef8f01",
   "metadata": {},
   "outputs": [],
   "source": [
    "words = [w for w, c in res_dict[\"0\"]]\n",
    "count = [c for w, c in res_dict[\"0\"]]\n",
    "plt.bar(words, count)\n",
    "plt.xticks(rotation=75)\n",
    "plt.title(\"Строительно-монтажные работы (СМР)\");"
   ]
  },
  {
   "cell_type": "code",
   "execution_count": null,
   "id": "add67acc",
   "metadata": {},
   "outputs": [],
   "source": [
    "words = [w for w, c in res_dict[\"1\"]]\n",
    "count = [c for w, c in res_dict[\"1\"]]\n",
    "plt.bar(words, count)\n",
    "plt.xticks(rotation=75)\n",
    "plt.title(\"Проектно-изыскательские работы (ПИР) \");"
   ]
  },
  {
   "cell_type": "code",
   "execution_count": null,
   "id": "1e42d6e7",
   "metadata": {},
   "outputs": [],
   "source": [
    "words = [w for w, c in res_dict[\"2\"]]\n",
    "count = [c for w, c in res_dict[\"2\"]]\n",
    "plt.bar(words, count)\n",
    "plt.xticks(rotation=75)\n",
    "plt.title(\"Подключение коммуникаций\");"
   ]
  }
 ],
 "metadata": {
  "kernelspec": {
   "display_name": "Python 3 (ipykernel)",
   "language": "python",
   "name": "python3"
  },
  "language_info": {
   "codemirror_mode": {
    "name": "ipython",
    "version": 3
   },
   "file_extension": ".py",
   "mimetype": "text/x-python",
   "name": "python",
   "nbconvert_exporter": "python",
   "pygments_lexer": "ipython3",
   "version": "3.10.9"
  }
 },
 "nbformat": 4,
 "nbformat_minor": 5
}
