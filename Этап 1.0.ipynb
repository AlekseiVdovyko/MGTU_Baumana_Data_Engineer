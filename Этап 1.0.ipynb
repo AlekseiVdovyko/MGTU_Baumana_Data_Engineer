{
 "cells": [
  {
   "cell_type": "markdown",
   "id": "fa1567c0",
   "metadata": {},
   "source": [
    "# ЭТАП 1"
   ]
  },
  {
   "cell_type": "markdown",
   "id": "05cf56dc",
   "metadata": {},
   "source": [
    "## КЛАССИФИКАЦИЯ ГОСКОНТРАКТОВ ПО ОБЪЕКТАМ ЗАКУПКИ"
   ]
  },
  {
   "cell_type": "markdown",
   "id": "aa9490f4",
   "metadata": {},
   "source": [
    "## Импорт библиотек и указание путей к даным"
   ]
  },
  {
   "cell_type": "code",
   "execution_count": 1,
   "id": "25e73ac6",
   "metadata": {},
   "outputs": [],
   "source": [
    "import pandas as pd\n",
    "import os\n",
    "\n",
    "# создание словаря для наименования столбцов\n",
    "COLUMNS = [\"Номер\", \"Реестровый номер контракта\", \"Код закупки\", \"ИНН поставщика\", \"Наименование поставщика\", \n",
    "           \"Регион поставщика\", \"ИНН заказчика\", \"Наименование заказчика\", \"Регион заказчика\", \"Код КБК\", \"Исполнение\",\n",
    "           \"Предмет закупки\", \"Наименование бюджета\", \"Дата заключения\", \"Дата начала\", \"Дата окончания\",\n",
    "           \"Дата обновления\", \"Дата обновления_1\", \"null_1\", \"null_2\", \"Цена контракта\", \"Стоимость обязательств\", \n",
    "           \"НДС\", \"Изменение условий контракта\", \"null_3\", \"Описание ОКПД\", \"Код ОКПД\"]\n",
    "\n",
    "# путь куда сохраняются данные\n",
    "PATH = r\"D:\\new_data\"\n",
    "\n",
    "# путь откуда берутся данные\n",
    "PATH_DATASET = r\"D:\\fz.csv\"\n",
    "SEP = \"___\""
   ]
  },
  {
   "cell_type": "markdown",
   "id": "c5dac051",
   "metadata": {},
   "source": [
    "## Загрузка данных для получения списка кодов"
   ]
  },
  {
   "cell_type": "code",
   "execution_count": 2,
   "id": "e5b14bf8",
   "metadata": {},
   "outputs": [
    {
     "name": "stderr",
     "output_type": "stream",
     "text": [
      "C:\\Users\\Aleksei\\AppData\\Local\\Temp\\ipykernel_8860\\3108930996.py:6: DtypeWarning: Columns (6,26) have mixed types. Specify dtype option on import or set low_memory=False.\n",
      "  for df in reader:\n",
      "C:\\Users\\Aleksei\\AppData\\Local\\Temp\\ipykernel_8860\\3108930996.py:6: DtypeWarning: Columns (6,26) have mixed types. Specify dtype option on import or set low_memory=False.\n",
      "  for df in reader:\n",
      "C:\\Users\\Aleksei\\AppData\\Local\\Temp\\ipykernel_8860\\3108930996.py:6: DtypeWarning: Columns (6) have mixed types. Specify dtype option on import or set low_memory=False.\n",
      "  for df in reader:\n"
     ]
    }
   ],
   "source": [
    "chunksize = 10 ** 6\n",
    "i = 0\n",
    "\n",
    "# загрузка данных для получения списко кодов \n",
    "with pd.read_csv(PATH_DATASET, chunksize=chunksize, on_bad_lines=\"skip\") as reader:\n",
    "    for df in reader:\n",
    "        if i < 3:\n",
    "            i += 1\n",
    "            continue\n",
    "            \n",
    "        df.columns = COLUMNS\n",
    "\n",
    "        df[\"Код ОКПД\"] = df[\"Код ОКПД\"].astype(str)\n",
    "        df = df[df[\"Код ОКПД\"] != \"<НЕ ОПРЕДЕЛЕНО>\"]\n",
    "        df = df[df[\"Код ОКПД\"] != \"<НЕ РАСПРЕДЕЛЕНО>\"]\n",
    "        df = df[df[\"Код ОКПД\"].str.len() == 4]\n",
    "        \n",
    "        break"
   ]
  },
  {
   "cell_type": "code",
   "execution_count": 3,
   "id": "c2a8bee1",
   "metadata": {},
   "outputs": [
    {
     "data": {
      "text/plain": [
       "977663"
      ]
     },
     "execution_count": 3,
     "metadata": {},
     "output_type": "execute_result"
    }
   ],
   "source": [
    "len(df)"
   ]
  },
  {
   "cell_type": "markdown",
   "id": "4d2e6b48",
   "metadata": {},
   "source": [
    "## Вывод на экран полученного списка кодов ОКПД с неповторяющими значениями"
   ]
  },
  {
   "cell_type": "code",
   "execution_count": 4,
   "id": "fa08ef50",
   "metadata": {},
   "outputs": [
    {
     "data": {
      "text/plain": [
       "array(['41.2', '43.3', '19.2', '21.1', '21.2', '22.1', '20.5', '86.9',\n",
       "       '32.5', '17.1', '81.2', '71.2', '14.1', '80.1', '61.1', '60.1',\n",
       "       '25.9', '33.1', '10.7', '10.3', '10.8', '27.5', '80.2', '96.0',\n",
       "       '17.2', '10.5', '10.1', '31.0', '01.1', '01.2', '10.6', '28.2',\n",
       "       '20.2', '36.0', '20.1', '25.7', '23.9', '27.4', '10.4', '10.2',\n",
       "       '13.2', '58.1', '38.2', '01.4', '58.2', '24.1', '26.6', '26.5',\n",
       "       '22.2', '13.9', '20.4', '38.1', '25.1', '28.1', '24.4', '23.4',\n",
       "       '65.1', '35.2', '20.3', '32.9', '43.2', '26.3', '18.1', '56.2',\n",
       "       '63.1', '26.2', '08.9', '95.1', '29.3', '46.1', '35.1', '35.3',\n",
       "       '43.9', '26.4', '27.3', '61.9', '37.0', '71.1', '15.2', '85.4',\n",
       "       '82.3', '46.5', '24.5', '25.2', '14.3', '28.9', '27.1', '27.9',\n",
       "       '23.5', '23.6', '03.1', '28.3', '14.2', '15.1', '10.9', '11.0',\n",
       "       '62.0', '63.9', '53.1', '84.2', '86.1', '68.2', '16.2', '61.2',\n",
       "       '74.9', '73.2', '49.3', '53.2', '81.1', '46.3', '32.3', '69.2',\n",
       "       '86.2', '42.1', '68.1', '45.2', '27.2', '90.0', '30.9', '13.1',\n",
       "       '59.2', '33.2', '06.2', '26.7', '23.1', '24.3', '24.2', '82.1',\n",
       "       '68.3', '47.5', '59.1', '52.2', '55.1', '73.1', '51.1', '47.7',\n",
       "       '16.1', '84.1', '85.2', '41.1', '81.3', '79.1', '28.4', '47.4',\n",
       "       '43.1', '52.1', '50.1', '61.3', '01.3', '29.1', '03.2', '08.1',\n",
       "       '46.4', '42.2', '46.9', '49.5', '49.4', '75.0', '29.2', '82.9',\n",
       "       '32.4', '02.2', '46.7', '26.1', '45.1', '23.3', '42.9', '46.6',\n",
       "       '32.1', '74.3', '93.2', '45.3', '05.1', '47.6', '23.7', '77.3',\n",
       "       '77.2', '79.9', '60.2', '56.1', '32.2', '95.2', '25.3', '77.1',\n",
       "       '45.4', '74.2', '26.8', '85.3', '20.6', '02.3', '99.0', '47.3',\n",
       "       '66.1', '64.9', '72.1', '93.1', '85.1', '25.4', '94.1', '64.1',\n",
       "       '02.4', '55.9', '91.0', '70.2', '69.1', '66.2', '87.9', '06.1',\n",
       "       '72.2', '70.1', '55.2', '74.1', '88.9', '49.1', '02.1', '51.2',\n",
       "       '94.9', '25.6', '30.3', '09.1', '05.2', '47.2', '78.3', '82.2',\n",
       "       '30.2', '01.7', '23.2', '77.4', '97.0', '13.3', '30.1', '64.2',\n",
       "       '47.1', '12.0', '19.1', '46.2', '39.0', '18.2', '47.9', '88.1',\n",
       "       '87.3', '87.2', '78.2', '47.8', '09.9', '87.1', '25.5', '01.6',\n",
       "       '84.3', '98.1', '56.3', '50.3', '55.3', '65.2', '19.3', '49.2',\n",
       "       '07.2', '78.1', '38.3', '30.4', '50.4', '50.2', '80.3', '92.2',\n",
       "       '98.2', '07.1', '94.2'], dtype=object)"
      ]
     },
     "execution_count": 4,
     "metadata": {},
     "output_type": "execute_result"
    }
   ],
   "source": [
    "# утановка кодов длинной 4 символа\n",
    "t = df[df[\"Код ОКПД\"].str.len() == 4]\n",
    "t[\"Код ОКПД\"].unique()"
   ]
  },
  {
   "cell_type": "markdown",
   "id": "413d7fa0",
   "metadata": {},
   "source": [
    "# Разбивка датасета на отдельный части и удаление некорректных данных"
   ]
  },
  {
   "cell_type": "code",
   "execution_count": 6,
   "id": "95c2f867",
   "metadata": {
    "scrolled": true
   },
   "outputs": [
    {
     "name": "stderr",
     "output_type": "stream",
     "text": [
      "C:\\Users\\Aleksei\\AppData\\Local\\Temp\\ipykernel_8860\\43454416.py:4: DtypeWarning: Columns (6,21,26) have mixed types. Specify dtype option on import or set low_memory=False.\n",
      "  for df in reader:\n"
     ]
    },
    {
     "name": "stdout",
     "output_type": "stream",
     "text": [
      "0, "
     ]
    },
    {
     "name": "stderr",
     "output_type": "stream",
     "text": [
      "C:\\Users\\Aleksei\\AppData\\Local\\Temp\\ipykernel_8860\\43454416.py:4: DtypeWarning: Columns (21) have mixed types. Specify dtype option on import or set low_memory=False.\n",
      "  for df in reader:\n"
     ]
    },
    {
     "name": "stdout",
     "output_type": "stream",
     "text": [
      "1, "
     ]
    },
    {
     "name": "stderr",
     "output_type": "stream",
     "text": [
      "C:\\Users\\Aleksei\\AppData\\Local\\Temp\\ipykernel_8860\\43454416.py:4: DtypeWarning: Columns (21) have mixed types. Specify dtype option on import or set low_memory=False.\n",
      "  for df in reader:\n"
     ]
    },
    {
     "name": "stdout",
     "output_type": "stream",
     "text": [
      "2, "
     ]
    },
    {
     "name": "stderr",
     "output_type": "stream",
     "text": [
      "C:\\Users\\Aleksei\\AppData\\Local\\Temp\\ipykernel_8860\\43454416.py:4: DtypeWarning: Columns (6,21) have mixed types. Specify dtype option on import or set low_memory=False.\n",
      "  for df in reader:\n"
     ]
    },
    {
     "name": "stdout",
     "output_type": "stream",
     "text": [
      "3, "
     ]
    },
    {
     "name": "stderr",
     "output_type": "stream",
     "text": [
      "C:\\Users\\Aleksei\\AppData\\Local\\Temp\\ipykernel_8860\\43454416.py:4: DtypeWarning: Columns (6,21) have mixed types. Specify dtype option on import or set low_memory=False.\n",
      "  for df in reader:\n"
     ]
    },
    {
     "name": "stdout",
     "output_type": "stream",
     "text": [
      "4, "
     ]
    },
    {
     "name": "stderr",
     "output_type": "stream",
     "text": [
      "C:\\Users\\Aleksei\\AppData\\Local\\Temp\\ipykernel_8860\\43454416.py:4: DtypeWarning: Columns (6,26) have mixed types. Specify dtype option on import or set low_memory=False.\n",
      "  for df in reader:\n"
     ]
    },
    {
     "name": "stdout",
     "output_type": "stream",
     "text": [
      "5, 6, "
     ]
    },
    {
     "name": "stderr",
     "output_type": "stream",
     "text": [
      "C:\\Users\\Aleksei\\AppData\\Local\\Temp\\ipykernel_8860\\43454416.py:4: DtypeWarning: Columns (6) have mixed types. Specify dtype option on import or set low_memory=False.\n",
      "  for df in reader:\n"
     ]
    },
    {
     "name": "stdout",
     "output_type": "stream",
     "text": [
      "7, 8, 9, "
     ]
    },
    {
     "name": "stderr",
     "output_type": "stream",
     "text": [
      "C:\\Users\\Aleksei\\AppData\\Local\\Temp\\ipykernel_8860\\43454416.py:4: DtypeWarning: Columns (6) have mixed types. Specify dtype option on import or set low_memory=False.\n",
      "  for df in reader:\n"
     ]
    },
    {
     "name": "stdout",
     "output_type": "stream",
     "text": [
      "10, "
     ]
    },
    {
     "name": "stderr",
     "output_type": "stream",
     "text": [
      "C:\\Users\\Aleksei\\AppData\\Local\\Temp\\ipykernel_8860\\43454416.py:4: DtypeWarning: Columns (6) have mixed types. Specify dtype option on import or set low_memory=False.\n",
      "  for df in reader:\n"
     ]
    },
    {
     "name": "stdout",
     "output_type": "stream",
     "text": [
      "11, "
     ]
    },
    {
     "name": "stderr",
     "output_type": "stream",
     "text": [
      "C:\\Users\\Aleksei\\AppData\\Local\\Temp\\ipykernel_8860\\43454416.py:4: DtypeWarning: Columns (6) have mixed types. Specify dtype option on import or set low_memory=False.\n",
      "  for df in reader:\n"
     ]
    },
    {
     "name": "stdout",
     "output_type": "stream",
     "text": [
      "12, 13, "
     ]
    },
    {
     "name": "stderr",
     "output_type": "stream",
     "text": [
      "C:\\Users\\Aleksei\\AppData\\Local\\Temp\\ipykernel_8860\\43454416.py:4: DtypeWarning: Columns (6,21) have mixed types. Specify dtype option on import or set low_memory=False.\n",
      "  for df in reader:\n"
     ]
    },
    {
     "name": "stdout",
     "output_type": "stream",
     "text": [
      "14, "
     ]
    },
    {
     "name": "stderr",
     "output_type": "stream",
     "text": [
      "C:\\Users\\Aleksei\\AppData\\Local\\Temp\\ipykernel_8860\\43454416.py:4: DtypeWarning: Columns (6) have mixed types. Specify dtype option on import or set low_memory=False.\n",
      "  for df in reader:\n"
     ]
    },
    {
     "name": "stdout",
     "output_type": "stream",
     "text": [
      "15, 16, "
     ]
    },
    {
     "name": "stderr",
     "output_type": "stream",
     "text": [
      "C:\\Users\\Aleksei\\AppData\\Local\\Temp\\ipykernel_8860\\43454416.py:4: DtypeWarning: Columns (6) have mixed types. Specify dtype option on import or set low_memory=False.\n",
      "  for df in reader:\n"
     ]
    },
    {
     "name": "stdout",
     "output_type": "stream",
     "text": [
      "17, "
     ]
    },
    {
     "name": "stderr",
     "output_type": "stream",
     "text": [
      "C:\\Users\\Aleksei\\AppData\\Local\\Temp\\ipykernel_8860\\43454416.py:4: DtypeWarning: Columns (6) have mixed types. Specify dtype option on import or set low_memory=False.\n",
      "  for df in reader:\n"
     ]
    },
    {
     "name": "stdout",
     "output_type": "stream",
     "text": [
      "18, 19, "
     ]
    },
    {
     "name": "stderr",
     "output_type": "stream",
     "text": [
      "C:\\Users\\Aleksei\\AppData\\Local\\Temp\\ipykernel_8860\\43454416.py:4: DtypeWarning: Columns (6) have mixed types. Specify dtype option on import or set low_memory=False.\n",
      "  for df in reader:\n"
     ]
    },
    {
     "name": "stdout",
     "output_type": "stream",
     "text": [
      "20, 21, "
     ]
    },
    {
     "name": "stderr",
     "output_type": "stream",
     "text": [
      "C:\\Users\\Aleksei\\AppData\\Local\\Temp\\ipykernel_8860\\43454416.py:4: DtypeWarning: Columns (6) have mixed types. Specify dtype option on import or set low_memory=False.\n",
      "  for df in reader:\n"
     ]
    },
    {
     "name": "stdout",
     "output_type": "stream",
     "text": [
      "22, "
     ]
    },
    {
     "name": "stderr",
     "output_type": "stream",
     "text": [
      "C:\\Users\\Aleksei\\AppData\\Local\\Temp\\ipykernel_8860\\43454416.py:4: DtypeWarning: Columns (6) have mixed types. Specify dtype option on import or set low_memory=False.\n",
      "  for df in reader:\n"
     ]
    },
    {
     "name": "stdout",
     "output_type": "stream",
     "text": [
      "23, "
     ]
    },
    {
     "name": "stderr",
     "output_type": "stream",
     "text": [
      "C:\\Users\\Aleksei\\AppData\\Local\\Temp\\ipykernel_8860\\43454416.py:4: DtypeWarning: Columns (6) have mixed types. Specify dtype option on import or set low_memory=False.\n",
      "  for df in reader:\n"
     ]
    },
    {
     "name": "stdout",
     "output_type": "stream",
     "text": [
      "24, "
     ]
    },
    {
     "name": "stderr",
     "output_type": "stream",
     "text": [
      "C:\\Users\\Aleksei\\AppData\\Local\\Temp\\ipykernel_8860\\43454416.py:4: DtypeWarning: Columns (6) have mixed types. Specify dtype option on import or set low_memory=False.\n",
      "  for df in reader:\n"
     ]
    },
    {
     "name": "stdout",
     "output_type": "stream",
     "text": [
      "25, "
     ]
    },
    {
     "name": "stderr",
     "output_type": "stream",
     "text": [
      "C:\\Users\\Aleksei\\AppData\\Local\\Temp\\ipykernel_8860\\43454416.py:4: DtypeWarning: Columns (6) have mixed types. Specify dtype option on import or set low_memory=False.\n",
      "  for df in reader:\n"
     ]
    },
    {
     "name": "stdout",
     "output_type": "stream",
     "text": [
      "26, 27, 28, "
     ]
    },
    {
     "name": "stderr",
     "output_type": "stream",
     "text": [
      "C:\\Users\\Aleksei\\AppData\\Local\\Temp\\ipykernel_8860\\43454416.py:4: DtypeWarning: Columns (6) have mixed types. Specify dtype option on import or set low_memory=False.\n",
      "  for df in reader:\n"
     ]
    },
    {
     "name": "stdout",
     "output_type": "stream",
     "text": [
      "29, 30, "
     ]
    },
    {
     "name": "stderr",
     "output_type": "stream",
     "text": [
      "C:\\Users\\Aleksei\\AppData\\Local\\Temp\\ipykernel_8860\\43454416.py:4: DtypeWarning: Columns (6) have mixed types. Specify dtype option on import or set low_memory=False.\n",
      "  for df in reader:\n"
     ]
    },
    {
     "name": "stdout",
     "output_type": "stream",
     "text": [
      "31, "
     ]
    },
    {
     "name": "stderr",
     "output_type": "stream",
     "text": [
      "C:\\Users\\Aleksei\\AppData\\Local\\Temp\\ipykernel_8860\\43454416.py:4: DtypeWarning: Columns (6) have mixed types. Specify dtype option on import or set low_memory=False.\n",
      "  for df in reader:\n"
     ]
    },
    {
     "name": "stdout",
     "output_type": "stream",
     "text": [
      "32, 33, 34, 35, 36, "
     ]
    },
    {
     "name": "stderr",
     "output_type": "stream",
     "text": [
      "C:\\Users\\Aleksei\\AppData\\Local\\Temp\\ipykernel_8860\\43454416.py:4: DtypeWarning: Columns (6) have mixed types. Specify dtype option on import or set low_memory=False.\n",
      "  for df in reader:\n"
     ]
    },
    {
     "name": "stdout",
     "output_type": "stream",
     "text": [
      "37, 38, 39, 40, 41, 42, "
     ]
    },
    {
     "name": "stderr",
     "output_type": "stream",
     "text": [
      "C:\\Users\\Aleksei\\AppData\\Local\\Temp\\ipykernel_8860\\43454416.py:4: DtypeWarning: Columns (6) have mixed types. Specify dtype option on import or set low_memory=False.\n",
      "  for df in reader:\n"
     ]
    },
    {
     "name": "stdout",
     "output_type": "stream",
     "text": [
      "43, 44, "
     ]
    },
    {
     "name": "stderr",
     "output_type": "stream",
     "text": [
      "C:\\Users\\Aleksei\\AppData\\Local\\Temp\\ipykernel_8860\\43454416.py:4: DtypeWarning: Columns (6) have mixed types. Specify dtype option on import or set low_memory=False.\n",
      "  for df in reader:\n"
     ]
    },
    {
     "name": "stdout",
     "output_type": "stream",
     "text": [
      "45, 46, "
     ]
    },
    {
     "name": "stderr",
     "output_type": "stream",
     "text": [
      "C:\\Users\\Aleksei\\AppData\\Local\\Temp\\ipykernel_8860\\43454416.py:4: DtypeWarning: Columns (6) have mixed types. Specify dtype option on import or set low_memory=False.\n",
      "  for df in reader:\n"
     ]
    },
    {
     "name": "stdout",
     "output_type": "stream",
     "text": [
      "47, "
     ]
    },
    {
     "name": "stderr",
     "output_type": "stream",
     "text": [
      "C:\\Users\\Aleksei\\AppData\\Local\\Temp\\ipykernel_8860\\43454416.py:4: DtypeWarning: Columns (6) have mixed types. Specify dtype option on import or set low_memory=False.\n",
      "  for df in reader:\n"
     ]
    },
    {
     "name": "stdout",
     "output_type": "stream",
     "text": [
      "48, "
     ]
    },
    {
     "name": "stderr",
     "output_type": "stream",
     "text": [
      "C:\\Users\\Aleksei\\AppData\\Local\\Temp\\ipykernel_8860\\43454416.py:4: DtypeWarning: Columns (6) have mixed types. Specify dtype option on import or set low_memory=False.\n",
      "  for df in reader:\n"
     ]
    },
    {
     "name": "stdout",
     "output_type": "stream",
     "text": [
      "49, "
     ]
    },
    {
     "name": "stderr",
     "output_type": "stream",
     "text": [
      "C:\\Users\\Aleksei\\AppData\\Local\\Temp\\ipykernel_8860\\43454416.py:4: DtypeWarning: Columns (6) have mixed types. Specify dtype option on import or set low_memory=False.\n",
      "  for df in reader:\n"
     ]
    },
    {
     "name": "stdout",
     "output_type": "stream",
     "text": [
      "50, 51, "
     ]
    },
    {
     "name": "stderr",
     "output_type": "stream",
     "text": [
      "C:\\Users\\Aleksei\\AppData\\Local\\Temp\\ipykernel_8860\\43454416.py:4: DtypeWarning: Columns (6) have mixed types. Specify dtype option on import or set low_memory=False.\n",
      "  for df in reader:\n"
     ]
    },
    {
     "name": "stdout",
     "output_type": "stream",
     "text": [
      "52, "
     ]
    },
    {
     "name": "stderr",
     "output_type": "stream",
     "text": [
      "C:\\Users\\Aleksei\\AppData\\Local\\Temp\\ipykernel_8860\\43454416.py:4: DtypeWarning: Columns (6) have mixed types. Specify dtype option on import or set low_memory=False.\n",
      "  for df in reader:\n"
     ]
    },
    {
     "name": "stdout",
     "output_type": "stream",
     "text": [
      "53, "
     ]
    },
    {
     "name": "stderr",
     "output_type": "stream",
     "text": [
      "C:\\Users\\Aleksei\\AppData\\Local\\Temp\\ipykernel_8860\\43454416.py:4: DtypeWarning: Columns (6) have mixed types. Specify dtype option on import or set low_memory=False.\n",
      "  for df in reader:\n"
     ]
    },
    {
     "name": "stdout",
     "output_type": "stream",
     "text": [
      "54, 55, "
     ]
    },
    {
     "name": "stderr",
     "output_type": "stream",
     "text": [
      "C:\\Users\\Aleksei\\AppData\\Local\\Temp\\ipykernel_8860\\43454416.py:4: DtypeWarning: Columns (6) have mixed types. Specify dtype option on import or set low_memory=False.\n",
      "  for df in reader:\n"
     ]
    },
    {
     "name": "stdout",
     "output_type": "stream",
     "text": [
      "56, "
     ]
    },
    {
     "name": "stderr",
     "output_type": "stream",
     "text": [
      "C:\\Users\\Aleksei\\AppData\\Local\\Temp\\ipykernel_8860\\43454416.py:4: DtypeWarning: Columns (6) have mixed types. Specify dtype option on import or set low_memory=False.\n",
      "  for df in reader:\n"
     ]
    },
    {
     "name": "stdout",
     "output_type": "stream",
     "text": [
      "57, 58, 59, 60, 61, "
     ]
    },
    {
     "name": "stderr",
     "output_type": "stream",
     "text": [
      "C:\\Users\\Aleksei\\AppData\\Local\\Temp\\ipykernel_8860\\43454416.py:4: DtypeWarning: Columns (6) have mixed types. Specify dtype option on import or set low_memory=False.\n",
      "  for df in reader:\n"
     ]
    },
    {
     "name": "stdout",
     "output_type": "stream",
     "text": [
      "62, 63, "
     ]
    },
    {
     "name": "stderr",
     "output_type": "stream",
     "text": [
      "C:\\Users\\Aleksei\\AppData\\Local\\Temp\\ipykernel_8860\\43454416.py:4: DtypeWarning: Columns (6) have mixed types. Specify dtype option on import or set low_memory=False.\n",
      "  for df in reader:\n"
     ]
    },
    {
     "name": "stdout",
     "output_type": "stream",
     "text": [
      "64, "
     ]
    },
    {
     "name": "stderr",
     "output_type": "stream",
     "text": [
      "C:\\Users\\Aleksei\\AppData\\Local\\Temp\\ipykernel_8860\\43454416.py:4: DtypeWarning: Columns (6) have mixed types. Specify dtype option on import or set low_memory=False.\n",
      "  for df in reader:\n"
     ]
    },
    {
     "name": "stdout",
     "output_type": "stream",
     "text": [
      "65, "
     ]
    },
    {
     "name": "stderr",
     "output_type": "stream",
     "text": [
      "C:\\Users\\Aleksei\\AppData\\Local\\Temp\\ipykernel_8860\\43454416.py:4: DtypeWarning: Columns (6) have mixed types. Specify dtype option on import or set low_memory=False.\n",
      "  for df in reader:\n"
     ]
    },
    {
     "name": "stdout",
     "output_type": "stream",
     "text": [
      "66, "
     ]
    },
    {
     "name": "stderr",
     "output_type": "stream",
     "text": [
      "C:\\Users\\Aleksei\\AppData\\Local\\Temp\\ipykernel_8860\\43454416.py:4: DtypeWarning: Columns (6) have mixed types. Specify dtype option on import or set low_memory=False.\n",
      "  for df in reader:\n"
     ]
    },
    {
     "name": "stdout",
     "output_type": "stream",
     "text": [
      "67, 68, 69, 70, "
     ]
    },
    {
     "name": "stderr",
     "output_type": "stream",
     "text": [
      "C:\\Users\\Aleksei\\AppData\\Local\\Temp\\ipykernel_8860\\43454416.py:4: DtypeWarning: Columns (6) have mixed types. Specify dtype option on import or set low_memory=False.\n",
      "  for df in reader:\n"
     ]
    },
    {
     "name": "stdout",
     "output_type": "stream",
     "text": [
      "71, 72, "
     ]
    },
    {
     "name": "stderr",
     "output_type": "stream",
     "text": [
      "C:\\Users\\Aleksei\\AppData\\Local\\Temp\\ipykernel_8860\\43454416.py:4: DtypeWarning: Columns (6) have mixed types. Specify dtype option on import or set low_memory=False.\n",
      "  for df in reader:\n"
     ]
    },
    {
     "name": "stdout",
     "output_type": "stream",
     "text": [
      "73, 74, "
     ]
    },
    {
     "name": "stderr",
     "output_type": "stream",
     "text": [
      "C:\\Users\\Aleksei\\AppData\\Local\\Temp\\ipykernel_8860\\43454416.py:4: DtypeWarning: Columns (6) have mixed types. Specify dtype option on import or set low_memory=False.\n",
      "  for df in reader:\n"
     ]
    },
    {
     "name": "stdout",
     "output_type": "stream",
     "text": [
      "75, "
     ]
    },
    {
     "name": "stderr",
     "output_type": "stream",
     "text": [
      "C:\\Users\\Aleksei\\AppData\\Local\\Temp\\ipykernel_8860\\43454416.py:4: DtypeWarning: Columns (6) have mixed types. Specify dtype option on import or set low_memory=False.\n",
      "  for df in reader:\n"
     ]
    },
    {
     "name": "stdout",
     "output_type": "stream",
     "text": [
      "76, "
     ]
    },
    {
     "name": "stderr",
     "output_type": "stream",
     "text": [
      "C:\\Users\\Aleksei\\AppData\\Local\\Temp\\ipykernel_8860\\43454416.py:4: DtypeWarning: Columns (6) have mixed types. Specify dtype option on import or set low_memory=False.\n",
      "  for df in reader:\n"
     ]
    },
    {
     "name": "stdout",
     "output_type": "stream",
     "text": [
      "77, 78, "
     ]
    },
    {
     "name": "stderr",
     "output_type": "stream",
     "text": [
      "C:\\Users\\Aleksei\\AppData\\Local\\Temp\\ipykernel_8860\\43454416.py:4: DtypeWarning: Columns (6) have mixed types. Specify dtype option on import or set low_memory=False.\n",
      "  for df in reader:\n"
     ]
    },
    {
     "name": "stdout",
     "output_type": "stream",
     "text": [
      "79, 80, 81, "
     ]
    },
    {
     "name": "stderr",
     "output_type": "stream",
     "text": [
      "C:\\Users\\Aleksei\\AppData\\Local\\Temp\\ipykernel_8860\\43454416.py:4: DtypeWarning: Columns (6) have mixed types. Specify dtype option on import or set low_memory=False.\n",
      "  for df in reader:\n"
     ]
    },
    {
     "name": "stdout",
     "output_type": "stream",
     "text": [
      "82, "
     ]
    },
    {
     "name": "stderr",
     "output_type": "stream",
     "text": [
      "C:\\Users\\Aleksei\\AppData\\Local\\Temp\\ipykernel_8860\\43454416.py:4: DtypeWarning: Columns (6) have mixed types. Specify dtype option on import or set low_memory=False.\n",
      "  for df in reader:\n"
     ]
    },
    {
     "name": "stdout",
     "output_type": "stream",
     "text": [
      "83, 84, "
     ]
    },
    {
     "name": "stderr",
     "output_type": "stream",
     "text": [
      "C:\\Users\\Aleksei\\AppData\\Local\\Temp\\ipykernel_8860\\43454416.py:4: DtypeWarning: Columns (6) have mixed types. Specify dtype option on import or set low_memory=False.\n",
      "  for df in reader:\n"
     ]
    },
    {
     "name": "stdout",
     "output_type": "stream",
     "text": [
      "85, 86, 87, 88, 89, "
     ]
    },
    {
     "name": "stderr",
     "output_type": "stream",
     "text": [
      "C:\\Users\\Aleksei\\AppData\\Local\\Temp\\ipykernel_8860\\43454416.py:4: DtypeWarning: Columns (6) have mixed types. Specify dtype option on import or set low_memory=False.\n",
      "  for df in reader:\n"
     ]
    },
    {
     "name": "stdout",
     "output_type": "stream",
     "text": [
      "90, "
     ]
    },
    {
     "name": "stderr",
     "output_type": "stream",
     "text": [
      "C:\\Users\\Aleksei\\AppData\\Local\\Temp\\ipykernel_8860\\43454416.py:4: DtypeWarning: Columns (6) have mixed types. Specify dtype option on import or set low_memory=False.\n",
      "  for df in reader:\n"
     ]
    },
    {
     "name": "stdout",
     "output_type": "stream",
     "text": [
      "91, 92, "
     ]
    },
    {
     "name": "stderr",
     "output_type": "stream",
     "text": [
      "C:\\Users\\Aleksei\\AppData\\Local\\Temp\\ipykernel_8860\\43454416.py:4: DtypeWarning: Columns (6) have mixed types. Specify dtype option on import or set low_memory=False.\n",
      "  for df in reader:\n"
     ]
    },
    {
     "name": "stdout",
     "output_type": "stream",
     "text": [
      "93, "
     ]
    },
    {
     "name": "stderr",
     "output_type": "stream",
     "text": [
      "C:\\Users\\Aleksei\\AppData\\Local\\Temp\\ipykernel_8860\\43454416.py:4: DtypeWarning: Columns (6) have mixed types. Specify dtype option on import or set low_memory=False.\n",
      "  for df in reader:\n"
     ]
    },
    {
     "name": "stdout",
     "output_type": "stream",
     "text": [
      "94, "
     ]
    },
    {
     "name": "stderr",
     "output_type": "stream",
     "text": [
      "C:\\Users\\Aleksei\\AppData\\Local\\Temp\\ipykernel_8860\\43454416.py:4: DtypeWarning: Columns (6) have mixed types. Specify dtype option on import or set low_memory=False.\n",
      "  for df in reader:\n"
     ]
    },
    {
     "name": "stdout",
     "output_type": "stream",
     "text": [
      "95, 96, "
     ]
    },
    {
     "name": "stderr",
     "output_type": "stream",
     "text": [
      "C:\\Users\\Aleksei\\AppData\\Local\\Temp\\ipykernel_8860\\43454416.py:4: DtypeWarning: Columns (6,20,21,26) have mixed types. Specify dtype option on import or set low_memory=False.\n",
      "  for df in reader:\n"
     ]
    },
    {
     "name": "stdout",
     "output_type": "stream",
     "text": [
      "97, "
     ]
    },
    {
     "name": "stderr",
     "output_type": "stream",
     "text": [
      "C:\\Users\\Aleksei\\AppData\\Local\\Temp\\ipykernel_8860\\43454416.py:4: DtypeWarning: Columns (6) have mixed types. Specify dtype option on import or set low_memory=False.\n",
      "  for df in reader:\n"
     ]
    },
    {
     "name": "stdout",
     "output_type": "stream",
     "text": [
      "98, 99, "
     ]
    },
    {
     "name": "stderr",
     "output_type": "stream",
     "text": [
      "C:\\Users\\Aleksei\\AppData\\Local\\Temp\\ipykernel_8860\\43454416.py:4: DtypeWarning: Columns (6) have mixed types. Specify dtype option on import or set low_memory=False.\n",
      "  for df in reader:\n"
     ]
    },
    {
     "name": "stdout",
     "output_type": "stream",
     "text": [
      "100, 101, "
     ]
    },
    {
     "name": "stderr",
     "output_type": "stream",
     "text": [
      "C:\\Users\\Aleksei\\AppData\\Local\\Temp\\ipykernel_8860\\43454416.py:4: DtypeWarning: Columns (6) have mixed types. Specify dtype option on import or set low_memory=False.\n",
      "  for df in reader:\n"
     ]
    },
    {
     "name": "stdout",
     "output_type": "stream",
     "text": [
      "102, 103, 104, "
     ]
    },
    {
     "name": "stderr",
     "output_type": "stream",
     "text": [
      "C:\\Users\\Aleksei\\AppData\\Local\\Temp\\ipykernel_8860\\43454416.py:4: DtypeWarning: Columns (6) have mixed types. Specify dtype option on import or set low_memory=False.\n",
      "  for df in reader:\n"
     ]
    },
    {
     "name": "stdout",
     "output_type": "stream",
     "text": [
      "105, 106, 107, 108, 109, 110, 111, "
     ]
    },
    {
     "name": "stderr",
     "output_type": "stream",
     "text": [
      "C:\\Users\\Aleksei\\AppData\\Local\\Temp\\ipykernel_8860\\43454416.py:4: DtypeWarning: Columns (6) have mixed types. Specify dtype option on import or set low_memory=False.\n",
      "  for df in reader:\n"
     ]
    },
    {
     "name": "stdout",
     "output_type": "stream",
     "text": [
      "112, "
     ]
    },
    {
     "name": "stderr",
     "output_type": "stream",
     "text": [
      "C:\\Users\\Aleksei\\AppData\\Local\\Temp\\ipykernel_8860\\43454416.py:4: DtypeWarning: Columns (6) have mixed types. Specify dtype option on import or set low_memory=False.\n",
      "  for df in reader:\n"
     ]
    },
    {
     "name": "stdout",
     "output_type": "stream",
     "text": [
      "113, 114, 115, "
     ]
    },
    {
     "name": "stderr",
     "output_type": "stream",
     "text": [
      "C:\\Users\\Aleksei\\AppData\\Local\\Temp\\ipykernel_8860\\43454416.py:4: DtypeWarning: Columns (6) have mixed types. Specify dtype option on import or set low_memory=False.\n",
      "  for df in reader:\n"
     ]
    },
    {
     "name": "stdout",
     "output_type": "stream",
     "text": [
      "116, 117, "
     ]
    },
    {
     "name": "stderr",
     "output_type": "stream",
     "text": [
      "C:\\Users\\Aleksei\\AppData\\Local\\Temp\\ipykernel_8860\\43454416.py:4: DtypeWarning: Columns (6) have mixed types. Specify dtype option on import or set low_memory=False.\n",
      "  for df in reader:\n"
     ]
    },
    {
     "name": "stdout",
     "output_type": "stream",
     "text": [
      "118, "
     ]
    },
    {
     "name": "stderr",
     "output_type": "stream",
     "text": [
      "C:\\Users\\Aleksei\\AppData\\Local\\Temp\\ipykernel_8860\\43454416.py:4: DtypeWarning: Columns (6) have mixed types. Specify dtype option on import or set low_memory=False.\n",
      "  for df in reader:\n"
     ]
    },
    {
     "name": "stdout",
     "output_type": "stream",
     "text": [
      "119, "
     ]
    },
    {
     "name": "stderr",
     "output_type": "stream",
     "text": [
      "C:\\Users\\Aleksei\\AppData\\Local\\Temp\\ipykernel_8860\\43454416.py:4: DtypeWarning: Columns (6) have mixed types. Specify dtype option on import or set low_memory=False.\n",
      "  for df in reader:\n"
     ]
    },
    {
     "name": "stdout",
     "output_type": "stream",
     "text": [
      "120, 121, "
     ]
    },
    {
     "name": "stderr",
     "output_type": "stream",
     "text": [
      "C:\\Users\\Aleksei\\AppData\\Local\\Temp\\ipykernel_8860\\43454416.py:4: DtypeWarning: Columns (6) have mixed types. Specify dtype option on import or set low_memory=False.\n",
      "  for df in reader:\n"
     ]
    },
    {
     "name": "stdout",
     "output_type": "stream",
     "text": [
      "122, 123, 124, "
     ]
    },
    {
     "name": "stderr",
     "output_type": "stream",
     "text": [
      "C:\\Users\\Aleksei\\AppData\\Local\\Temp\\ipykernel_8860\\43454416.py:4: DtypeWarning: Columns (6) have mixed types. Specify dtype option on import or set low_memory=False.\n",
      "  for df in reader:\n"
     ]
    },
    {
     "name": "stdout",
     "output_type": "stream",
     "text": [
      "125, 126, "
     ]
    },
    {
     "name": "stderr",
     "output_type": "stream",
     "text": [
      "C:\\Users\\Aleksei\\AppData\\Local\\Temp\\ipykernel_8860\\43454416.py:4: DtypeWarning: Columns (6,21,26) have mixed types. Specify dtype option on import or set low_memory=False.\n",
      "  for df in reader:\n"
     ]
    },
    {
     "name": "stdout",
     "output_type": "stream",
     "text": [
      "127, 128, 129, "
     ]
    },
    {
     "name": "stderr",
     "output_type": "stream",
     "text": [
      "C:\\Users\\Aleksei\\AppData\\Local\\Temp\\ipykernel_8860\\43454416.py:4: DtypeWarning: Columns (6) have mixed types. Specify dtype option on import or set low_memory=False.\n",
      "  for df in reader:\n"
     ]
    },
    {
     "name": "stdout",
     "output_type": "stream",
     "text": [
      "130, 131, 132, "
     ]
    },
    {
     "name": "stderr",
     "output_type": "stream",
     "text": [
      "C:\\Users\\Aleksei\\AppData\\Local\\Temp\\ipykernel_8860\\43454416.py:4: DtypeWarning: Columns (6) have mixed types. Specify dtype option on import or set low_memory=False.\n",
      "  for df in reader:\n"
     ]
    },
    {
     "name": "stdout",
     "output_type": "stream",
     "text": [
      "133, "
     ]
    },
    {
     "name": "stderr",
     "output_type": "stream",
     "text": [
      "C:\\Users\\Aleksei\\AppData\\Local\\Temp\\ipykernel_8860\\43454416.py:4: DtypeWarning: Columns (6) have mixed types. Specify dtype option on import or set low_memory=False.\n",
      "  for df in reader:\n"
     ]
    },
    {
     "name": "stdout",
     "output_type": "stream",
     "text": [
      "134, 135, "
     ]
    },
    {
     "name": "stderr",
     "output_type": "stream",
     "text": [
      "C:\\Users\\Aleksei\\AppData\\Local\\Temp\\ipykernel_8860\\43454416.py:4: DtypeWarning: Columns (6) have mixed types. Specify dtype option on import or set low_memory=False.\n",
      "  for df in reader:\n"
     ]
    },
    {
     "name": "stdout",
     "output_type": "stream",
     "text": [
      "136, "
     ]
    },
    {
     "name": "stderr",
     "output_type": "stream",
     "text": [
      "C:\\Users\\Aleksei\\AppData\\Local\\Temp\\ipykernel_8860\\43454416.py:4: DtypeWarning: Columns (6) have mixed types. Specify dtype option on import or set low_memory=False.\n",
      "  for df in reader:\n"
     ]
    },
    {
     "name": "stdout",
     "output_type": "stream",
     "text": [
      "137, "
     ]
    },
    {
     "name": "stderr",
     "output_type": "stream",
     "text": [
      "C:\\Users\\Aleksei\\AppData\\Local\\Temp\\ipykernel_8860\\43454416.py:4: DtypeWarning: Columns (6) have mixed types. Specify dtype option on import or set low_memory=False.\n",
      "  for df in reader:\n"
     ]
    },
    {
     "name": "stdout",
     "output_type": "stream",
     "text": [
      "138, "
     ]
    },
    {
     "name": "stderr",
     "output_type": "stream",
     "text": [
      "C:\\Users\\Aleksei\\AppData\\Local\\Temp\\ipykernel_8860\\43454416.py:4: DtypeWarning: Columns (6) have mixed types. Specify dtype option on import or set low_memory=False.\n",
      "  for df in reader:\n"
     ]
    },
    {
     "name": "stdout",
     "output_type": "stream",
     "text": [
      "139, "
     ]
    },
    {
     "name": "stderr",
     "output_type": "stream",
     "text": [
      "C:\\Users\\Aleksei\\AppData\\Local\\Temp\\ipykernel_8860\\43454416.py:4: DtypeWarning: Columns (6) have mixed types. Specify dtype option on import or set low_memory=False.\n",
      "  for df in reader:\n"
     ]
    },
    {
     "name": "stdout",
     "output_type": "stream",
     "text": [
      "140, 141, 142, 143, "
     ]
    },
    {
     "name": "stderr",
     "output_type": "stream",
     "text": [
      "C:\\Users\\Aleksei\\AppData\\Local\\Temp\\ipykernel_8860\\43454416.py:4: DtypeWarning: Columns (6) have mixed types. Specify dtype option on import or set low_memory=False.\n",
      "  for df in reader:\n"
     ]
    },
    {
     "name": "stdout",
     "output_type": "stream",
     "text": [
      "144, "
     ]
    },
    {
     "name": "stderr",
     "output_type": "stream",
     "text": [
      "C:\\Users\\Aleksei\\AppData\\Local\\Temp\\ipykernel_8860\\43454416.py:4: DtypeWarning: Columns (6) have mixed types. Specify dtype option on import or set low_memory=False.\n",
      "  for df in reader:\n"
     ]
    },
    {
     "name": "stdout",
     "output_type": "stream",
     "text": [
      "145, 146, "
     ]
    },
    {
     "name": "stderr",
     "output_type": "stream",
     "text": [
      "C:\\Users\\Aleksei\\AppData\\Local\\Temp\\ipykernel_8860\\43454416.py:4: DtypeWarning: Columns (6,21) have mixed types. Specify dtype option on import or set low_memory=False.\n",
      "  for df in reader:\n"
     ]
    },
    {
     "name": "stdout",
     "output_type": "stream",
     "text": [
      "147, "
     ]
    },
    {
     "name": "stderr",
     "output_type": "stream",
     "text": [
      "C:\\Users\\Aleksei\\AppData\\Local\\Temp\\ipykernel_8860\\43454416.py:4: DtypeWarning: Columns (6) have mixed types. Specify dtype option on import or set low_memory=False.\n",
      "  for df in reader:\n"
     ]
    },
    {
     "name": "stdout",
     "output_type": "stream",
     "text": [
      "148, 149, 150, 151, "
     ]
    },
    {
     "name": "stderr",
     "output_type": "stream",
     "text": [
      "C:\\Users\\Aleksei\\AppData\\Local\\Temp\\ipykernel_8860\\43454416.py:4: DtypeWarning: Columns (6) have mixed types. Specify dtype option on import or set low_memory=False.\n",
      "  for df in reader:\n"
     ]
    },
    {
     "name": "stdout",
     "output_type": "stream",
     "text": [
      "152, 153, "
     ]
    },
    {
     "name": "stderr",
     "output_type": "stream",
     "text": [
      "C:\\Users\\Aleksei\\AppData\\Local\\Temp\\ipykernel_8860\\43454416.py:4: DtypeWarning: Columns (6) have mixed types. Specify dtype option on import or set low_memory=False.\n",
      "  for df in reader:\n"
     ]
    },
    {
     "name": "stdout",
     "output_type": "stream",
     "text": [
      "154, "
     ]
    },
    {
     "name": "stderr",
     "output_type": "stream",
     "text": [
      "C:\\Users\\Aleksei\\AppData\\Local\\Temp\\ipykernel_8860\\43454416.py:4: DtypeWarning: Columns (6) have mixed types. Specify dtype option on import or set low_memory=False.\n",
      "  for df in reader:\n"
     ]
    },
    {
     "name": "stdout",
     "output_type": "stream",
     "text": [
      "155, 156, 157, 158, 159, "
     ]
    },
    {
     "name": "stderr",
     "output_type": "stream",
     "text": [
      "C:\\Users\\Aleksei\\AppData\\Local\\Temp\\ipykernel_8860\\43454416.py:4: DtypeWarning: Columns (6) have mixed types. Specify dtype option on import or set low_memory=False.\n",
      "  for df in reader:\n"
     ]
    },
    {
     "name": "stdout",
     "output_type": "stream",
     "text": [
      "160, 161, "
     ]
    },
    {
     "name": "stderr",
     "output_type": "stream",
     "text": [
      "C:\\Users\\Aleksei\\AppData\\Local\\Temp\\ipykernel_8860\\43454416.py:4: DtypeWarning: Columns (6) have mixed types. Specify dtype option on import or set low_memory=False.\n",
      "  for df in reader:\n"
     ]
    },
    {
     "name": "stdout",
     "output_type": "stream",
     "text": [
      "162, 163, 164, 165, "
     ]
    },
    {
     "name": "stderr",
     "output_type": "stream",
     "text": [
      "C:\\Users\\Aleksei\\AppData\\Local\\Temp\\ipykernel_8860\\43454416.py:4: DtypeWarning: Columns (6) have mixed types. Specify dtype option on import or set low_memory=False.\n",
      "  for df in reader:\n"
     ]
    },
    {
     "name": "stdout",
     "output_type": "stream",
     "text": [
      "166, "
     ]
    },
    {
     "name": "stderr",
     "output_type": "stream",
     "text": [
      "C:\\Users\\Aleksei\\AppData\\Local\\Temp\\ipykernel_8860\\43454416.py:4: DtypeWarning: Columns (6) have mixed types. Specify dtype option on import or set low_memory=False.\n",
      "  for df in reader:\n"
     ]
    },
    {
     "name": "stdout",
     "output_type": "stream",
     "text": [
      "167, 168, 169, "
     ]
    },
    {
     "name": "stderr",
     "output_type": "stream",
     "text": [
      "C:\\Users\\Aleksei\\AppData\\Local\\Temp\\ipykernel_8860\\43454416.py:4: DtypeWarning: Columns (6) have mixed types. Specify dtype option on import or set low_memory=False.\n",
      "  for df in reader:\n"
     ]
    },
    {
     "name": "stdout",
     "output_type": "stream",
     "text": [
      "170, "
     ]
    },
    {
     "name": "stderr",
     "output_type": "stream",
     "text": [
      "C:\\Users\\Aleksei\\AppData\\Local\\Temp\\ipykernel_8860\\43454416.py:4: DtypeWarning: Columns (6) have mixed types. Specify dtype option on import or set low_memory=False.\n",
      "  for df in reader:\n"
     ]
    },
    {
     "name": "stdout",
     "output_type": "stream",
     "text": [
      "171, 172, 173, "
     ]
    },
    {
     "name": "stderr",
     "output_type": "stream",
     "text": [
      "C:\\Users\\Aleksei\\AppData\\Local\\Temp\\ipykernel_8860\\43454416.py:4: DtypeWarning: Columns (6) have mixed types. Specify dtype option on import or set low_memory=False.\n",
      "  for df in reader:\n"
     ]
    },
    {
     "name": "stdout",
     "output_type": "stream",
     "text": [
      "174, "
     ]
    },
    {
     "name": "stderr",
     "output_type": "stream",
     "text": [
      "C:\\Users\\Aleksei\\AppData\\Local\\Temp\\ipykernel_8860\\43454416.py:4: DtypeWarning: Columns (6) have mixed types. Specify dtype option on import or set low_memory=False.\n",
      "  for df in reader:\n"
     ]
    },
    {
     "name": "stdout",
     "output_type": "stream",
     "text": [
      "175, 176, 177, "
     ]
    },
    {
     "name": "stderr",
     "output_type": "stream",
     "text": [
      "C:\\Users\\Aleksei\\AppData\\Local\\Temp\\ipykernel_8860\\43454416.py:4: DtypeWarning: Columns (6) have mixed types. Specify dtype option on import or set low_memory=False.\n",
      "  for df in reader:\n"
     ]
    },
    {
     "name": "stdout",
     "output_type": "stream",
     "text": [
      "178, 179, "
     ]
    },
    {
     "name": "stderr",
     "output_type": "stream",
     "text": [
      "C:\\Users\\Aleksei\\AppData\\Local\\Temp\\ipykernel_8860\\43454416.py:4: DtypeWarning: Columns (6) have mixed types. Specify dtype option on import or set low_memory=False.\n",
      "  for df in reader:\n"
     ]
    },
    {
     "name": "stdout",
     "output_type": "stream",
     "text": [
      "180, "
     ]
    },
    {
     "name": "stderr",
     "output_type": "stream",
     "text": [
      "C:\\Users\\Aleksei\\AppData\\Local\\Temp\\ipykernel_8860\\43454416.py:4: DtypeWarning: Columns (6) have mixed types. Specify dtype option on import or set low_memory=False.\n",
      "  for df in reader:\n"
     ]
    },
    {
     "name": "stdout",
     "output_type": "stream",
     "text": [
      "181, "
     ]
    },
    {
     "name": "stderr",
     "output_type": "stream",
     "text": [
      "C:\\Users\\Aleksei\\AppData\\Local\\Temp\\ipykernel_8860\\43454416.py:4: DtypeWarning: Columns (6) have mixed types. Specify dtype option on import or set low_memory=False.\n",
      "  for df in reader:\n"
     ]
    },
    {
     "name": "stdout",
     "output_type": "stream",
     "text": [
      "182, 183, "
     ]
    },
    {
     "name": "stderr",
     "output_type": "stream",
     "text": [
      "C:\\Users\\Aleksei\\AppData\\Local\\Temp\\ipykernel_8860\\43454416.py:4: DtypeWarning: Columns (6) have mixed types. Specify dtype option on import or set low_memory=False.\n",
      "  for df in reader:\n"
     ]
    },
    {
     "name": "stdout",
     "output_type": "stream",
     "text": [
      "184, "
     ]
    },
    {
     "name": "stderr",
     "output_type": "stream",
     "text": [
      "C:\\Users\\Aleksei\\AppData\\Local\\Temp\\ipykernel_8860\\43454416.py:4: DtypeWarning: Columns (6) have mixed types. Specify dtype option on import or set low_memory=False.\n",
      "  for df in reader:\n"
     ]
    },
    {
     "name": "stdout",
     "output_type": "stream",
     "text": [
      "185, 186, "
     ]
    },
    {
     "name": "stderr",
     "output_type": "stream",
     "text": [
      "C:\\Users\\Aleksei\\AppData\\Local\\Temp\\ipykernel_8860\\43454416.py:4: DtypeWarning: Columns (6) have mixed types. Specify dtype option on import or set low_memory=False.\n",
      "  for df in reader:\n"
     ]
    },
    {
     "name": "stdout",
     "output_type": "stream",
     "text": [
      "187, "
     ]
    },
    {
     "name": "stderr",
     "output_type": "stream",
     "text": [
      "C:\\Users\\Aleksei\\AppData\\Local\\Temp\\ipykernel_8860\\43454416.py:4: DtypeWarning: Columns (6) have mixed types. Specify dtype option on import or set low_memory=False.\n",
      "  for df in reader:\n"
     ]
    },
    {
     "name": "stdout",
     "output_type": "stream",
     "text": [
      "188, "
     ]
    },
    {
     "name": "stderr",
     "output_type": "stream",
     "text": [
      "C:\\Users\\Aleksei\\AppData\\Local\\Temp\\ipykernel_8860\\43454416.py:4: DtypeWarning: Columns (6) have mixed types. Specify dtype option on import or set low_memory=False.\n",
      "  for df in reader:\n"
     ]
    },
    {
     "name": "stdout",
     "output_type": "stream",
     "text": [
      "189, "
     ]
    },
    {
     "name": "stderr",
     "output_type": "stream",
     "text": [
      "C:\\Users\\Aleksei\\AppData\\Local\\Temp\\ipykernel_8860\\43454416.py:4: DtypeWarning: Columns (6) have mixed types. Specify dtype option on import or set low_memory=False.\n",
      "  for df in reader:\n"
     ]
    },
    {
     "name": "stdout",
     "output_type": "stream",
     "text": [
      "190, "
     ]
    },
    {
     "name": "stderr",
     "output_type": "stream",
     "text": [
      "C:\\Users\\Aleksei\\AppData\\Local\\Temp\\ipykernel_8860\\43454416.py:4: DtypeWarning: Columns (6) have mixed types. Specify dtype option on import or set low_memory=False.\n",
      "  for df in reader:\n"
     ]
    },
    {
     "name": "stdout",
     "output_type": "stream",
     "text": [
      "191, 192, 193, "
     ]
    },
    {
     "name": "stderr",
     "output_type": "stream",
     "text": [
      "C:\\Users\\Aleksei\\AppData\\Local\\Temp\\ipykernel_8860\\43454416.py:4: DtypeWarning: Columns (6) have mixed types. Specify dtype option on import or set low_memory=False.\n",
      "  for df in reader:\n"
     ]
    },
    {
     "name": "stdout",
     "output_type": "stream",
     "text": [
      "194, "
     ]
    },
    {
     "name": "stderr",
     "output_type": "stream",
     "text": [
      "C:\\Users\\Aleksei\\AppData\\Local\\Temp\\ipykernel_8860\\43454416.py:4: DtypeWarning: Columns (6) have mixed types. Specify dtype option on import or set low_memory=False.\n",
      "  for df in reader:\n"
     ]
    },
    {
     "name": "stdout",
     "output_type": "stream",
     "text": [
      "195, "
     ]
    },
    {
     "name": "stderr",
     "output_type": "stream",
     "text": [
      "C:\\Users\\Aleksei\\AppData\\Local\\Temp\\ipykernel_8860\\43454416.py:4: DtypeWarning: Columns (6) have mixed types. Specify dtype option on import or set low_memory=False.\n",
      "  for df in reader:\n"
     ]
    },
    {
     "name": "stdout",
     "output_type": "stream",
     "text": [
      "196, "
     ]
    },
    {
     "name": "stderr",
     "output_type": "stream",
     "text": [
      "C:\\Users\\Aleksei\\AppData\\Local\\Temp\\ipykernel_8860\\43454416.py:4: DtypeWarning: Columns (6) have mixed types. Specify dtype option on import or set low_memory=False.\n",
      "  for df in reader:\n"
     ]
    },
    {
     "name": "stdout",
     "output_type": "stream",
     "text": [
      "197, "
     ]
    },
    {
     "name": "stderr",
     "output_type": "stream",
     "text": [
      "C:\\Users\\Aleksei\\AppData\\Local\\Temp\\ipykernel_8860\\43454416.py:4: DtypeWarning: Columns (6) have mixed types. Specify dtype option on import or set low_memory=False.\n",
      "  for df in reader:\n"
     ]
    },
    {
     "name": "stdout",
     "output_type": "stream",
     "text": [
      "198, 199, "
     ]
    },
    {
     "name": "stderr",
     "output_type": "stream",
     "text": [
      "C:\\Users\\Aleksei\\AppData\\Local\\Temp\\ipykernel_8860\\43454416.py:4: DtypeWarning: Columns (6) have mixed types. Specify dtype option on import or set low_memory=False.\n",
      "  for df in reader:\n"
     ]
    },
    {
     "name": "stdout",
     "output_type": "stream",
     "text": [
      "200, 201, 202, 203, "
     ]
    },
    {
     "name": "stderr",
     "output_type": "stream",
     "text": [
      "C:\\Users\\Aleksei\\AppData\\Local\\Temp\\ipykernel_8860\\43454416.py:4: DtypeWarning: Columns (6) have mixed types. Specify dtype option on import or set low_memory=False.\n",
      "  for df in reader:\n"
     ]
    },
    {
     "name": "stdout",
     "output_type": "stream",
     "text": [
      "204, 205, 206, "
     ]
    },
    {
     "name": "stderr",
     "output_type": "stream",
     "text": [
      "C:\\Users\\Aleksei\\AppData\\Local\\Temp\\ipykernel_8860\\43454416.py:4: DtypeWarning: Columns (6) have mixed types. Specify dtype option on import or set low_memory=False.\n",
      "  for df in reader:\n"
     ]
    },
    {
     "name": "stdout",
     "output_type": "stream",
     "text": [
      "207, "
     ]
    },
    {
     "name": "stderr",
     "output_type": "stream",
     "text": [
      "C:\\Users\\Aleksei\\AppData\\Local\\Temp\\ipykernel_8860\\43454416.py:4: DtypeWarning: Columns (6) have mixed types. Specify dtype option on import or set low_memory=False.\n",
      "  for df in reader:\n"
     ]
    },
    {
     "name": "stdout",
     "output_type": "stream",
     "text": [
      "208, 209, "
     ]
    },
    {
     "name": "stderr",
     "output_type": "stream",
     "text": [
      "C:\\Users\\Aleksei\\AppData\\Local\\Temp\\ipykernel_8860\\43454416.py:4: DtypeWarning: Columns (6) have mixed types. Specify dtype option on import or set low_memory=False.\n",
      "  for df in reader:\n"
     ]
    },
    {
     "name": "stdout",
     "output_type": "stream",
     "text": [
      "210, "
     ]
    },
    {
     "name": "stderr",
     "output_type": "stream",
     "text": [
      "C:\\Users\\Aleksei\\AppData\\Local\\Temp\\ipykernel_8860\\43454416.py:4: DtypeWarning: Columns (6) have mixed types. Specify dtype option on import or set low_memory=False.\n",
      "  for df in reader:\n"
     ]
    },
    {
     "name": "stdout",
     "output_type": "stream",
     "text": [
      "211, "
     ]
    },
    {
     "name": "stderr",
     "output_type": "stream",
     "text": [
      "C:\\Users\\Aleksei\\AppData\\Local\\Temp\\ipykernel_8860\\43454416.py:4: DtypeWarning: Columns (6) have mixed types. Specify dtype option on import or set low_memory=False.\n",
      "  for df in reader:\n"
     ]
    },
    {
     "name": "stdout",
     "output_type": "stream",
     "text": [
      "212, "
     ]
    },
    {
     "name": "stderr",
     "output_type": "stream",
     "text": [
      "C:\\Users\\Aleksei\\AppData\\Local\\Temp\\ipykernel_8860\\43454416.py:4: DtypeWarning: Columns (6) have mixed types. Specify dtype option on import or set low_memory=False.\n",
      "  for df in reader:\n"
     ]
    },
    {
     "name": "stdout",
     "output_type": "stream",
     "text": [
      "213, "
     ]
    },
    {
     "name": "stderr",
     "output_type": "stream",
     "text": [
      "C:\\Users\\Aleksei\\AppData\\Local\\Temp\\ipykernel_8860\\43454416.py:4: DtypeWarning: Columns (6) have mixed types. Specify dtype option on import or set low_memory=False.\n",
      "  for df in reader:\n"
     ]
    },
    {
     "name": "stdout",
     "output_type": "stream",
     "text": [
      "214, "
     ]
    },
    {
     "name": "stderr",
     "output_type": "stream",
     "text": [
      "C:\\Users\\Aleksei\\AppData\\Local\\Temp\\ipykernel_8860\\43454416.py:4: DtypeWarning: Columns (6) have mixed types. Specify dtype option on import or set low_memory=False.\n",
      "  for df in reader:\n"
     ]
    },
    {
     "name": "stdout",
     "output_type": "stream",
     "text": [
      "215, "
     ]
    },
    {
     "name": "stderr",
     "output_type": "stream",
     "text": [
      "C:\\Users\\Aleksei\\AppData\\Local\\Temp\\ipykernel_8860\\43454416.py:4: DtypeWarning: Columns (6,21) have mixed types. Specify dtype option on import or set low_memory=False.\n",
      "  for df in reader:\n"
     ]
    },
    {
     "name": "stdout",
     "output_type": "stream",
     "text": [
      "216, 217, "
     ]
    },
    {
     "name": "stderr",
     "output_type": "stream",
     "text": [
      "C:\\Users\\Aleksei\\AppData\\Local\\Temp\\ipykernel_8860\\43454416.py:4: DtypeWarning: Columns (6) have mixed types. Specify dtype option on import or set low_memory=False.\n",
      "  for df in reader:\n"
     ]
    },
    {
     "name": "stdout",
     "output_type": "stream",
     "text": [
      "218, "
     ]
    },
    {
     "name": "stderr",
     "output_type": "stream",
     "text": [
      "C:\\Users\\Aleksei\\AppData\\Local\\Temp\\ipykernel_8860\\43454416.py:4: DtypeWarning: Columns (6) have mixed types. Specify dtype option on import or set low_memory=False.\n",
      "  for df in reader:\n"
     ]
    },
    {
     "name": "stdout",
     "output_type": "stream",
     "text": [
      "219, "
     ]
    },
    {
     "name": "stderr",
     "output_type": "stream",
     "text": [
      "C:\\Users\\Aleksei\\AppData\\Local\\Temp\\ipykernel_8860\\43454416.py:4: DtypeWarning: Columns (6) have mixed types. Specify dtype option on import or set low_memory=False.\n",
      "  for df in reader:\n"
     ]
    },
    {
     "name": "stdout",
     "output_type": "stream",
     "text": [
      "220, "
     ]
    },
    {
     "name": "stderr",
     "output_type": "stream",
     "text": [
      "C:\\Users\\Aleksei\\AppData\\Local\\Temp\\ipykernel_8860\\43454416.py:4: DtypeWarning: Columns (6) have mixed types. Specify dtype option on import or set low_memory=False.\n",
      "  for df in reader:\n"
     ]
    },
    {
     "name": "stdout",
     "output_type": "stream",
     "text": [
      "221, "
     ]
    },
    {
     "name": "stderr",
     "output_type": "stream",
     "text": [
      "C:\\Users\\Aleksei\\AppData\\Local\\Temp\\ipykernel_8860\\43454416.py:4: DtypeWarning: Columns (6) have mixed types. Specify dtype option on import or set low_memory=False.\n",
      "  for df in reader:\n"
     ]
    },
    {
     "name": "stdout",
     "output_type": "stream",
     "text": [
      "222, "
     ]
    },
    {
     "name": "stderr",
     "output_type": "stream",
     "text": [
      "C:\\Users\\Aleksei\\AppData\\Local\\Temp\\ipykernel_8860\\43454416.py:4: DtypeWarning: Columns (6) have mixed types. Specify dtype option on import or set low_memory=False.\n",
      "  for df in reader:\n"
     ]
    },
    {
     "name": "stdout",
     "output_type": "stream",
     "text": [
      "223, "
     ]
    },
    {
     "name": "stderr",
     "output_type": "stream",
     "text": [
      "C:\\Users\\Aleksei\\AppData\\Local\\Temp\\ipykernel_8860\\43454416.py:4: DtypeWarning: Columns (6) have mixed types. Specify dtype option on import or set low_memory=False.\n",
      "  for df in reader:\n"
     ]
    },
    {
     "name": "stdout",
     "output_type": "stream",
     "text": [
      "224, "
     ]
    },
    {
     "name": "stderr",
     "output_type": "stream",
     "text": [
      "C:\\Users\\Aleksei\\AppData\\Local\\Temp\\ipykernel_8860\\43454416.py:4: DtypeWarning: Columns (6) have mixed types. Specify dtype option on import or set low_memory=False.\n",
      "  for df in reader:\n"
     ]
    },
    {
     "name": "stdout",
     "output_type": "stream",
     "text": [
      "225, "
     ]
    },
    {
     "name": "stderr",
     "output_type": "stream",
     "text": [
      "C:\\Users\\Aleksei\\AppData\\Local\\Temp\\ipykernel_8860\\43454416.py:4: DtypeWarning: Columns (6) have mixed types. Specify dtype option on import or set low_memory=False.\n",
      "  for df in reader:\n"
     ]
    },
    {
     "name": "stdout",
     "output_type": "stream",
     "text": [
      "226, "
     ]
    },
    {
     "name": "stderr",
     "output_type": "stream",
     "text": [
      "C:\\Users\\Aleksei\\AppData\\Local\\Temp\\ipykernel_8860\\43454416.py:4: DtypeWarning: Columns (6) have mixed types. Specify dtype option on import or set low_memory=False.\n",
      "  for df in reader:\n"
     ]
    },
    {
     "name": "stdout",
     "output_type": "stream",
     "text": [
      "227, "
     ]
    },
    {
     "name": "stderr",
     "output_type": "stream",
     "text": [
      "C:\\Users\\Aleksei\\AppData\\Local\\Temp\\ipykernel_8860\\43454416.py:4: DtypeWarning: Columns (6,21) have mixed types. Specify dtype option on import or set low_memory=False.\n",
      "  for df in reader:\n"
     ]
    },
    {
     "name": "stdout",
     "output_type": "stream",
     "text": [
      "228, "
     ]
    },
    {
     "name": "stderr",
     "output_type": "stream",
     "text": [
      "C:\\Users\\Aleksei\\AppData\\Local\\Temp\\ipykernel_8860\\43454416.py:4: DtypeWarning: Columns (6) have mixed types. Specify dtype option on import or set low_memory=False.\n",
      "  for df in reader:\n"
     ]
    },
    {
     "name": "stdout",
     "output_type": "stream",
     "text": [
      "229, "
     ]
    },
    {
     "name": "stderr",
     "output_type": "stream",
     "text": [
      "C:\\Users\\Aleksei\\AppData\\Local\\Temp\\ipykernel_8860\\43454416.py:4: DtypeWarning: Columns (6) have mixed types. Specify dtype option on import or set low_memory=False.\n",
      "  for df in reader:\n"
     ]
    },
    {
     "name": "stdout",
     "output_type": "stream",
     "text": [
      "230, "
     ]
    },
    {
     "name": "stderr",
     "output_type": "stream",
     "text": [
      "C:\\Users\\Aleksei\\AppData\\Local\\Temp\\ipykernel_8860\\43454416.py:4: DtypeWarning: Columns (6) have mixed types. Specify dtype option on import or set low_memory=False.\n",
      "  for df in reader:\n"
     ]
    },
    {
     "name": "stdout",
     "output_type": "stream",
     "text": [
      "231, "
     ]
    },
    {
     "name": "stderr",
     "output_type": "stream",
     "text": [
      "C:\\Users\\Aleksei\\AppData\\Local\\Temp\\ipykernel_8860\\43454416.py:4: DtypeWarning: Columns (6) have mixed types. Specify dtype option on import or set low_memory=False.\n",
      "  for df in reader:\n"
     ]
    },
    {
     "name": "stdout",
     "output_type": "stream",
     "text": [
      "232, "
     ]
    },
    {
     "name": "stderr",
     "output_type": "stream",
     "text": [
      "C:\\Users\\Aleksei\\AppData\\Local\\Temp\\ipykernel_8860\\43454416.py:4: DtypeWarning: Columns (6) have mixed types. Specify dtype option on import or set low_memory=False.\n",
      "  for df in reader:\n"
     ]
    },
    {
     "name": "stdout",
     "output_type": "stream",
     "text": [
      "233, "
     ]
    },
    {
     "name": "stderr",
     "output_type": "stream",
     "text": [
      "C:\\Users\\Aleksei\\AppData\\Local\\Temp\\ipykernel_8860\\43454416.py:4: DtypeWarning: Columns (6) have mixed types. Specify dtype option on import or set low_memory=False.\n",
      "  for df in reader:\n"
     ]
    },
    {
     "name": "stdout",
     "output_type": "stream",
     "text": [
      "234, 235, "
     ]
    },
    {
     "name": "stderr",
     "output_type": "stream",
     "text": [
      "C:\\Users\\Aleksei\\AppData\\Local\\Temp\\ipykernel_8860\\43454416.py:4: DtypeWarning: Columns (6) have mixed types. Specify dtype option on import or set low_memory=False.\n",
      "  for df in reader:\n"
     ]
    },
    {
     "name": "stdout",
     "output_type": "stream",
     "text": [
      "236, "
     ]
    },
    {
     "name": "stderr",
     "output_type": "stream",
     "text": [
      "C:\\Users\\Aleksei\\AppData\\Local\\Temp\\ipykernel_8860\\43454416.py:4: DtypeWarning: Columns (6) have mixed types. Specify dtype option on import or set low_memory=False.\n",
      "  for df in reader:\n"
     ]
    },
    {
     "name": "stdout",
     "output_type": "stream",
     "text": [
      "237, "
     ]
    },
    {
     "name": "stderr",
     "output_type": "stream",
     "text": [
      "C:\\Users\\Aleksei\\AppData\\Local\\Temp\\ipykernel_8860\\43454416.py:4: DtypeWarning: Columns (6) have mixed types. Specify dtype option on import or set low_memory=False.\n",
      "  for df in reader:\n"
     ]
    },
    {
     "name": "stdout",
     "output_type": "stream",
     "text": [
      "238, "
     ]
    },
    {
     "name": "stderr",
     "output_type": "stream",
     "text": [
      "C:\\Users\\Aleksei\\AppData\\Local\\Temp\\ipykernel_8860\\43454416.py:4: DtypeWarning: Columns (6) have mixed types. Specify dtype option on import or set low_memory=False.\n",
      "  for df in reader:\n"
     ]
    },
    {
     "name": "stdout",
     "output_type": "stream",
     "text": [
      "239, "
     ]
    },
    {
     "name": "stderr",
     "output_type": "stream",
     "text": [
      "C:\\Users\\Aleksei\\AppData\\Local\\Temp\\ipykernel_8860\\43454416.py:4: DtypeWarning: Columns (6) have mixed types. Specify dtype option on import or set low_memory=False.\n",
      "  for df in reader:\n"
     ]
    },
    {
     "name": "stdout",
     "output_type": "stream",
     "text": [
      "240, "
     ]
    },
    {
     "name": "stderr",
     "output_type": "stream",
     "text": [
      "C:\\Users\\Aleksei\\AppData\\Local\\Temp\\ipykernel_8860\\43454416.py:4: DtypeWarning: Columns (6) have mixed types. Specify dtype option on import or set low_memory=False.\n",
      "  for df in reader:\n"
     ]
    },
    {
     "name": "stdout",
     "output_type": "stream",
     "text": [
      "241, "
     ]
    },
    {
     "name": "stderr",
     "output_type": "stream",
     "text": [
      "C:\\Users\\Aleksei\\AppData\\Local\\Temp\\ipykernel_8860\\43454416.py:4: DtypeWarning: Columns (6) have mixed types. Specify dtype option on import or set low_memory=False.\n",
      "  for df in reader:\n"
     ]
    },
    {
     "name": "stdout",
     "output_type": "stream",
     "text": [
      "242, 243, "
     ]
    },
    {
     "name": "stderr",
     "output_type": "stream",
     "text": [
      "C:\\Users\\Aleksei\\AppData\\Local\\Temp\\ipykernel_8860\\43454416.py:4: DtypeWarning: Columns (6) have mixed types. Specify dtype option on import or set low_memory=False.\n",
      "  for df in reader:\n"
     ]
    },
    {
     "name": "stdout",
     "output_type": "stream",
     "text": [
      "244, "
     ]
    },
    {
     "name": "stderr",
     "output_type": "stream",
     "text": [
      "C:\\Users\\Aleksei\\AppData\\Local\\Temp\\ipykernel_8860\\43454416.py:4: DtypeWarning: Columns (6) have mixed types. Specify dtype option on import or set low_memory=False.\n",
      "  for df in reader:\n"
     ]
    },
    {
     "name": "stdout",
     "output_type": "stream",
     "text": [
      "245, "
     ]
    },
    {
     "name": "stderr",
     "output_type": "stream",
     "text": [
      "C:\\Users\\Aleksei\\AppData\\Local\\Temp\\ipykernel_8860\\43454416.py:4: DtypeWarning: Columns (6) have mixed types. Specify dtype option on import or set low_memory=False.\n",
      "  for df in reader:\n"
     ]
    },
    {
     "name": "stdout",
     "output_type": "stream",
     "text": [
      "246, "
     ]
    },
    {
     "name": "stderr",
     "output_type": "stream",
     "text": [
      "C:\\Users\\Aleksei\\AppData\\Local\\Temp\\ipykernel_8860\\43454416.py:4: DtypeWarning: Columns (6,21) have mixed types. Specify dtype option on import or set low_memory=False.\n",
      "  for df in reader:\n"
     ]
    },
    {
     "name": "stdout",
     "output_type": "stream",
     "text": [
      "247, "
     ]
    },
    {
     "name": "stderr",
     "output_type": "stream",
     "text": [
      "C:\\Users\\Aleksei\\AppData\\Local\\Temp\\ipykernel_8860\\43454416.py:4: DtypeWarning: Columns (6) have mixed types. Specify dtype option on import or set low_memory=False.\n",
      "  for df in reader:\n"
     ]
    },
    {
     "name": "stdout",
     "output_type": "stream",
     "text": [
      "248, 249, 250, 251, "
     ]
    },
    {
     "name": "stderr",
     "output_type": "stream",
     "text": [
      "C:\\Users\\Aleksei\\AppData\\Local\\Temp\\ipykernel_8860\\43454416.py:4: DtypeWarning: Columns (6) have mixed types. Specify dtype option on import or set low_memory=False.\n",
      "  for df in reader:\n"
     ]
    },
    {
     "name": "stdout",
     "output_type": "stream",
     "text": [
      "252, "
     ]
    },
    {
     "name": "stderr",
     "output_type": "stream",
     "text": [
      "C:\\Users\\Aleksei\\AppData\\Local\\Temp\\ipykernel_8860\\43454416.py:4: DtypeWarning: Columns (6) have mixed types. Specify dtype option on import or set low_memory=False.\n",
      "  for df in reader:\n"
     ]
    },
    {
     "name": "stdout",
     "output_type": "stream",
     "text": [
      "253, 254, 255, "
     ]
    },
    {
     "name": "stderr",
     "output_type": "stream",
     "text": [
      "C:\\Users\\Aleksei\\AppData\\Local\\Temp\\ipykernel_8860\\43454416.py:4: DtypeWarning: Columns (6) have mixed types. Specify dtype option on import or set low_memory=False.\n",
      "  for df in reader:\n"
     ]
    },
    {
     "name": "stdout",
     "output_type": "stream",
     "text": [
      "256, 257, "
     ]
    },
    {
     "name": "stderr",
     "output_type": "stream",
     "text": [
      "C:\\Users\\Aleksei\\AppData\\Local\\Temp\\ipykernel_8860\\43454416.py:4: DtypeWarning: Columns (6) have mixed types. Specify dtype option on import or set low_memory=False.\n",
      "  for df in reader:\n"
     ]
    },
    {
     "name": "stdout",
     "output_type": "stream",
     "text": [
      "258, "
     ]
    },
    {
     "name": "stderr",
     "output_type": "stream",
     "text": [
      "C:\\Users\\Aleksei\\AppData\\Local\\Temp\\ipykernel_8860\\43454416.py:4: DtypeWarning: Columns (6) have mixed types. Specify dtype option on import or set low_memory=False.\n",
      "  for df in reader:\n"
     ]
    },
    {
     "name": "stdout",
     "output_type": "stream",
     "text": [
      "259, "
     ]
    },
    {
     "name": "stderr",
     "output_type": "stream",
     "text": [
      "C:\\Users\\Aleksei\\AppData\\Local\\Temp\\ipykernel_8860\\43454416.py:4: DtypeWarning: Columns (6) have mixed types. Specify dtype option on import or set low_memory=False.\n",
      "  for df in reader:\n"
     ]
    },
    {
     "name": "stdout",
     "output_type": "stream",
     "text": [
      "260, "
     ]
    },
    {
     "name": "stderr",
     "output_type": "stream",
     "text": [
      "C:\\Users\\Aleksei\\AppData\\Local\\Temp\\ipykernel_8860\\43454416.py:4: DtypeWarning: Columns (6,21) have mixed types. Specify dtype option on import or set low_memory=False.\n",
      "  for df in reader:\n"
     ]
    },
    {
     "name": "stdout",
     "output_type": "stream",
     "text": [
      "261, "
     ]
    },
    {
     "name": "stderr",
     "output_type": "stream",
     "text": [
      "C:\\Users\\Aleksei\\AppData\\Local\\Temp\\ipykernel_8860\\43454416.py:4: DtypeWarning: Columns (6) have mixed types. Specify dtype option on import or set low_memory=False.\n",
      "  for df in reader:\n"
     ]
    },
    {
     "name": "stdout",
     "output_type": "stream",
     "text": [
      "262, "
     ]
    },
    {
     "name": "stderr",
     "output_type": "stream",
     "text": [
      "C:\\Users\\Aleksei\\AppData\\Local\\Temp\\ipykernel_8860\\43454416.py:4: DtypeWarning: Columns (6) have mixed types. Specify dtype option on import or set low_memory=False.\n",
      "  for df in reader:\n"
     ]
    },
    {
     "name": "stdout",
     "output_type": "stream",
     "text": [
      "263, "
     ]
    },
    {
     "name": "stderr",
     "output_type": "stream",
     "text": [
      "C:\\Users\\Aleksei\\AppData\\Local\\Temp\\ipykernel_8860\\43454416.py:4: DtypeWarning: Columns (6) have mixed types. Specify dtype option on import or set low_memory=False.\n",
      "  for df in reader:\n"
     ]
    },
    {
     "name": "stdout",
     "output_type": "stream",
     "text": [
      "264, "
     ]
    },
    {
     "name": "stderr",
     "output_type": "stream",
     "text": [
      "C:\\Users\\Aleksei\\AppData\\Local\\Temp\\ipykernel_8860\\43454416.py:4: DtypeWarning: Columns (6) have mixed types. Specify dtype option on import or set low_memory=False.\n",
      "  for df in reader:\n"
     ]
    },
    {
     "name": "stdout",
     "output_type": "stream",
     "text": [
      "265, 266, "
     ]
    },
    {
     "name": "stderr",
     "output_type": "stream",
     "text": [
      "C:\\Users\\Aleksei\\AppData\\Local\\Temp\\ipykernel_8860\\43454416.py:4: DtypeWarning: Columns (3) have mixed types. Specify dtype option on import or set low_memory=False.\n",
      "  for df in reader:\n"
     ]
    },
    {
     "name": "stdout",
     "output_type": "stream",
     "text": [
      "267, "
     ]
    },
    {
     "name": "stderr",
     "output_type": "stream",
     "text": [
      "C:\\Users\\Aleksei\\AppData\\Local\\Temp\\ipykernel_8860\\43454416.py:4: DtypeWarning: Columns (3) have mixed types. Specify dtype option on import or set low_memory=False.\n",
      "  for df in reader:\n"
     ]
    },
    {
     "name": "stdout",
     "output_type": "stream",
     "text": [
      "268, "
     ]
    },
    {
     "name": "stderr",
     "output_type": "stream",
     "text": [
      "C:\\Users\\Aleksei\\AppData\\Local\\Temp\\ipykernel_8860\\43454416.py:4: DtypeWarning: Columns (3) have mixed types. Specify dtype option on import or set low_memory=False.\n",
      "  for df in reader:\n"
     ]
    },
    {
     "name": "stdout",
     "output_type": "stream",
     "text": [
      "269, "
     ]
    },
    {
     "name": "stderr",
     "output_type": "stream",
     "text": [
      "C:\\Users\\Aleksei\\AppData\\Local\\Temp\\ipykernel_8860\\43454416.py:4: DtypeWarning: Columns (3,6) have mixed types. Specify dtype option on import or set low_memory=False.\n",
      "  for df in reader:\n"
     ]
    },
    {
     "name": "stdout",
     "output_type": "stream",
     "text": [
      "270, "
     ]
    },
    {
     "name": "stderr",
     "output_type": "stream",
     "text": [
      "C:\\Users\\Aleksei\\AppData\\Local\\Temp\\ipykernel_8860\\43454416.py:4: DtypeWarning: Columns (3,6) have mixed types. Specify dtype option on import or set low_memory=False.\n",
      "  for df in reader:\n"
     ]
    },
    {
     "name": "stdout",
     "output_type": "stream",
     "text": [
      "271, "
     ]
    },
    {
     "name": "stderr",
     "output_type": "stream",
     "text": [
      "C:\\Users\\Aleksei\\AppData\\Local\\Temp\\ipykernel_8860\\43454416.py:4: DtypeWarning: Columns (3) have mixed types. Specify dtype option on import or set low_memory=False.\n",
      "  for df in reader:\n"
     ]
    },
    {
     "name": "stdout",
     "output_type": "stream",
     "text": [
      "272, "
     ]
    },
    {
     "name": "stderr",
     "output_type": "stream",
     "text": [
      "C:\\Users\\Aleksei\\AppData\\Local\\Temp\\ipykernel_8860\\43454416.py:4: DtypeWarning: Columns (6) have mixed types. Specify dtype option on import or set low_memory=False.\n",
      "  for df in reader:\n"
     ]
    },
    {
     "name": "stdout",
     "output_type": "stream",
     "text": [
      "273, "
     ]
    },
    {
     "name": "stderr",
     "output_type": "stream",
     "text": [
      "C:\\Users\\Aleksei\\AppData\\Local\\Temp\\ipykernel_8860\\43454416.py:4: DtypeWarning: Columns (3,6) have mixed types. Specify dtype option on import or set low_memory=False.\n",
      "  for df in reader:\n"
     ]
    },
    {
     "name": "stdout",
     "output_type": "stream",
     "text": [
      "274, 275, 276, "
     ]
    },
    {
     "name": "stderr",
     "output_type": "stream",
     "text": [
      "C:\\Users\\Aleksei\\AppData\\Local\\Temp\\ipykernel_8860\\43454416.py:4: DtypeWarning: Columns (3) have mixed types. Specify dtype option on import or set low_memory=False.\n",
      "  for df in reader:\n"
     ]
    },
    {
     "name": "stdout",
     "output_type": "stream",
     "text": [
      "277, "
     ]
    },
    {
     "name": "stderr",
     "output_type": "stream",
     "text": [
      "C:\\Users\\Aleksei\\AppData\\Local\\Temp\\ipykernel_8860\\43454416.py:4: DtypeWarning: Columns (3) have mixed types. Specify dtype option on import or set low_memory=False.\n",
      "  for df in reader:\n"
     ]
    },
    {
     "name": "stdout",
     "output_type": "stream",
     "text": [
      "278, "
     ]
    },
    {
     "name": "stderr",
     "output_type": "stream",
     "text": [
      "C:\\Users\\Aleksei\\AppData\\Local\\Temp\\ipykernel_8860\\43454416.py:4: DtypeWarning: Columns (3) have mixed types. Specify dtype option on import or set low_memory=False.\n",
      "  for df in reader:\n"
     ]
    },
    {
     "name": "stdout",
     "output_type": "stream",
     "text": [
      "279, "
     ]
    },
    {
     "name": "stderr",
     "output_type": "stream",
     "text": [
      "C:\\Users\\Aleksei\\AppData\\Local\\Temp\\ipykernel_8860\\43454416.py:4: DtypeWarning: Columns (3) have mixed types. Specify dtype option on import or set low_memory=False.\n",
      "  for df in reader:\n"
     ]
    },
    {
     "name": "stdout",
     "output_type": "stream",
     "text": [
      "280, "
     ]
    },
    {
     "name": "stderr",
     "output_type": "stream",
     "text": [
      "C:\\Users\\Aleksei\\AppData\\Local\\Temp\\ipykernel_8860\\43454416.py:4: DtypeWarning: Columns (3) have mixed types. Specify dtype option on import or set low_memory=False.\n",
      "  for df in reader:\n"
     ]
    },
    {
     "name": "stdout",
     "output_type": "stream",
     "text": [
      "281, "
     ]
    },
    {
     "name": "stderr",
     "output_type": "stream",
     "text": [
      "C:\\Users\\Aleksei\\AppData\\Local\\Temp\\ipykernel_8860\\43454416.py:4: DtypeWarning: Columns (3,6) have mixed types. Specify dtype option on import or set low_memory=False.\n",
      "  for df in reader:\n"
     ]
    },
    {
     "name": "stdout",
     "output_type": "stream",
     "text": [
      "282, "
     ]
    },
    {
     "name": "stderr",
     "output_type": "stream",
     "text": [
      "C:\\Users\\Aleksei\\AppData\\Local\\Temp\\ipykernel_8860\\43454416.py:4: DtypeWarning: Columns (3) have mixed types. Specify dtype option on import or set low_memory=False.\n",
      "  for df in reader:\n"
     ]
    },
    {
     "name": "stdout",
     "output_type": "stream",
     "text": [
      "283, "
     ]
    },
    {
     "name": "stderr",
     "output_type": "stream",
     "text": [
      "C:\\Users\\Aleksei\\AppData\\Local\\Temp\\ipykernel_8860\\43454416.py:4: DtypeWarning: Columns (3,6) have mixed types. Specify dtype option on import or set low_memory=False.\n",
      "  for df in reader:\n"
     ]
    },
    {
     "name": "stdout",
     "output_type": "stream",
     "text": [
      "284, "
     ]
    },
    {
     "name": "stderr",
     "output_type": "stream",
     "text": [
      "C:\\Users\\Aleksei\\AppData\\Local\\Temp\\ipykernel_8860\\43454416.py:4: DtypeWarning: Columns (3,6) have mixed types. Specify dtype option on import or set low_memory=False.\n",
      "  for df in reader:\n"
     ]
    },
    {
     "name": "stdout",
     "output_type": "stream",
     "text": [
      "285, "
     ]
    },
    {
     "name": "stderr",
     "output_type": "stream",
     "text": [
      "C:\\Users\\Aleksei\\AppData\\Local\\Temp\\ipykernel_8860\\43454416.py:4: DtypeWarning: Columns (3,6) have mixed types. Specify dtype option on import or set low_memory=False.\n",
      "  for df in reader:\n"
     ]
    },
    {
     "name": "stdout",
     "output_type": "stream",
     "text": [
      "286, "
     ]
    },
    {
     "name": "stderr",
     "output_type": "stream",
     "text": [
      "C:\\Users\\Aleksei\\AppData\\Local\\Temp\\ipykernel_8860\\43454416.py:4: DtypeWarning: Columns (3,6) have mixed types. Specify dtype option on import or set low_memory=False.\n",
      "  for df in reader:\n"
     ]
    },
    {
     "name": "stdout",
     "output_type": "stream",
     "text": [
      "287, "
     ]
    },
    {
     "name": "stderr",
     "output_type": "stream",
     "text": [
      "C:\\Users\\Aleksei\\AppData\\Local\\Temp\\ipykernel_8860\\43454416.py:4: DtypeWarning: Columns (3) have mixed types. Specify dtype option on import or set low_memory=False.\n",
      "  for df in reader:\n"
     ]
    },
    {
     "name": "stdout",
     "output_type": "stream",
     "text": [
      "288, "
     ]
    },
    {
     "name": "stderr",
     "output_type": "stream",
     "text": [
      "C:\\Users\\Aleksei\\AppData\\Local\\Temp\\ipykernel_8860\\43454416.py:4: DtypeWarning: Columns (3) have mixed types. Specify dtype option on import or set low_memory=False.\n",
      "  for df in reader:\n"
     ]
    },
    {
     "name": "stdout",
     "output_type": "stream",
     "text": [
      "289, "
     ]
    },
    {
     "name": "stderr",
     "output_type": "stream",
     "text": [
      "C:\\Users\\Aleksei\\AppData\\Local\\Temp\\ipykernel_8860\\43454416.py:4: DtypeWarning: Columns (3) have mixed types. Specify dtype option on import or set low_memory=False.\n",
      "  for df in reader:\n"
     ]
    },
    {
     "name": "stdout",
     "output_type": "stream",
     "text": [
      "290, 291, "
     ]
    },
    {
     "name": "stderr",
     "output_type": "stream",
     "text": [
      "C:\\Users\\Aleksei\\AppData\\Local\\Temp\\ipykernel_8860\\43454416.py:4: DtypeWarning: Columns (3,6,26) have mixed types. Specify dtype option on import or set low_memory=False.\n",
      "  for df in reader:\n"
     ]
    },
    {
     "name": "stdout",
     "output_type": "stream",
     "text": [
      "292, "
     ]
    }
   ],
   "source": [
    "chunksize = 10 ** 5\n",
    "chunk_id = 0\n",
    "with pd.read_csv(PATH_DATASET, chunksize=chunksize, on_bad_lines=\"skip\") as reader:\n",
    "    for df in reader:\n",
    "        print(chunk_id, end=\", \")\n",
    "        if chunk_id >= 0:\n",
    "            df.columns = COLUMNS\n",
    "\n",
    "            # пропускаем строки с некорректными данными\n",
    "            df[\"Код ОКПД\"] = df[\"Код ОКПД\"].astype(str)\n",
    "            df = df[df[\"Код ОКПД\"] != \"<НЕ ОПРЕДЕЛЕНО>\"]\n",
    "            df = df[df[\"Код ОКПД\"] != \"<НЕ РАСПРЕДЕЛЕНО>\"]\n",
    "            df = df[df[\"Код ОКПД\"].str.len() == 4]\n",
    "\n",
    "\n",
    "            df = df[[\"Наименование поставщика\", \"Наименование заказчика\", \"Регион заказчика\", \"Предмет закупки\", \n",
    "                     \"Наименование бюджета\", \"Цена контракта\", \"Стоимость обязательств\", \"Описание ОКПД\", \"Код ОКПД\"]]\n",
    "\n",
    "            # разбивка датасета на файлы\n",
    "            for y in df[\"Код ОКПД\"].unique():\n",
    "                if len(y) < 20:\n",
    "                    df_crop = df[df[\"Код ОКПД\"] == y]\n",
    "                    df_crop.to_csv(os.path.join(PATH, f\"{y}{SEP}{chunk_id}.csv\"))\n",
    "                else:\n",
    "                    print()\n",
    "                    print(y)\n",
    "        \n",
    "        chunk_id += 1"
   ]
  },
  {
   "cell_type": "code",
   "execution_count": 7,
   "id": "4a45b83e",
   "metadata": {},
   "outputs": [
    {
     "data": {
      "text/plain": [
       "293"
      ]
     },
     "execution_count": 7,
     "metadata": {},
     "output_type": "execute_result"
    }
   ],
   "source": [
    "chunk_id"
   ]
  },
  {
   "cell_type": "markdown",
   "id": "cc492b7f",
   "metadata": {},
   "source": [
    "# Вывод на экран полученного списка по коду ОКПД"
   ]
  },
  {
   "cell_type": "code",
   "execution_count": 8,
   "id": "b9df9010",
   "metadata": {
    "scrolled": true
   },
   "outputs": [
    {
     "data": {
      "text/html": [
       "<div>\n",
       "<style scoped>\n",
       "    .dataframe tbody tr th:only-of-type {\n",
       "        vertical-align: middle;\n",
       "    }\n",
       "\n",
       "    .dataframe tbody tr th {\n",
       "        vertical-align: top;\n",
       "    }\n",
       "\n",
       "    .dataframe thead th {\n",
       "        text-align: right;\n",
       "    }\n",
       "</style>\n",
       "<table border=\"1\" class=\"dataframe\">\n",
       "  <thead>\n",
       "    <tr style=\"text-align: right;\">\n",
       "      <th></th>\n",
       "      <th>Наименование поставщика</th>\n",
       "      <th>Наименование заказчика</th>\n",
       "      <th>Регион заказчика</th>\n",
       "      <th>Предмет закупки</th>\n",
       "      <th>Наименование бюджета</th>\n",
       "      <th>Цена контракта</th>\n",
       "      <th>Стоимость обязательств</th>\n",
       "      <th>Описание ОКПД</th>\n",
       "      <th>Код ОКПД</th>\n",
       "    </tr>\n",
       "  </thead>\n",
       "  <tbody>\n",
       "    <tr>\n",
       "      <th>29201162</th>\n",
       "      <td>БУ СЗ ВО \\ФАРМАЦИЯ\\\"\"</td>\n",
       "      <td>БУЗ ВО \\ЦЕНТР ПО ПРОФИЛАКТИКЕ ИНФЕКЦИОННЫХ ЗАБ...</td>\n",
       "      <td>Вологодская область</td>\n",
       "      <td>Оказание услуги по осуществлению организационн...</td>\n",
       "      <td>\\N</td>\n",
       "      <td>7119900.00</td>\n",
       "      <td>7119900.00</td>\n",
       "      <td>52.1</td>\n",
       "      <td>52.1</td>\n",
       "    </tr>\n",
       "    <tr>\n",
       "      <th>29201168</th>\n",
       "      <td>БУ СЗ ВО \\ФАРМАЦИЯ\\\"\"</td>\n",
       "      <td>БУЗ ВО \\ВОЛОГОДСКИЙ ОБЛАСТНОЙ ПРОТИВОТУБЕРКУЛЕ...</td>\n",
       "      <td>БУЗ ВО \\\"ВОПД\\\"\"</td>\n",
       "      <td>Контракт заключен</td>\n",
       "      <td>Оказание услуг по приемке, хранению и передаче...</td>\n",
       "      <td>&lt;НЕ ОПРЕДЕЛЕНО&gt;</td>\n",
       "      <td>294000.00</td>\n",
       "      <td>&lt;НЕ ОПРЕДЕЛЕНО&gt;</td>\n",
       "      <td>52.1</td>\n",
       "    </tr>\n",
       "    <tr>\n",
       "      <th>29203936</th>\n",
       "      <td>ГУП ЧУВАШСКОЙ РЕСПУБЛИКИ \\ФАРМАЦИЯ\\\" МИНЗДРАВА...</td>\n",
       "      <td>БУ \\ГОРОДСКАЯ ДЕТСКАЯ КЛИНИЧЕСКАЯ БОЛЬНИЦА\\\" М...</td>\n",
       "      <td>Чувашская Республика - Чувашия</td>\n",
       "      <td>Оказание услуг по обеспечению медицинскими изд...</td>\n",
       "      <td>\\N</td>\n",
       "      <td>\\N</td>\n",
       "      <td>1999291.10</td>\n",
       "      <td>52.1</td>\n",
       "      <td>52.1</td>\n",
       "    </tr>\n",
       "    <tr>\n",
       "      <th>29203994</th>\n",
       "      <td>ГУП ЧУВАШСКОЙ РЕСПУБЛИКИ \\ФАРМАЦИЯ\\\" МИНЗДРАВА...</td>\n",
       "      <td>МИНЗДРАВ ЧУВАШИИ</td>\n",
       "      <td>Чувашская Республика - Чувашия</td>\n",
       "      <td>на оказание услуги по обеспечению закупок, хра...</td>\n",
       "      <td>бюджет субъекта Российской Федерации</td>\n",
       "      <td>\\N</td>\n",
       "      <td>1297530.00</td>\n",
       "      <td>52.1</td>\n",
       "      <td>52.1</td>\n",
       "    </tr>\n",
       "    <tr>\n",
       "      <th>29203995</th>\n",
       "      <td>ГУП ЧУВАШСКОЙ РЕСПУБЛИКИ \\ФАРМАЦИЯ\\\" МИНЗДРАВА...</td>\n",
       "      <td>МИНЗДРАВ ЧУВАШИИ</td>\n",
       "      <td>Чувашская Республика - Чувашия</td>\n",
       "      <td>на оказание услуги по обеспечению закупок, хра...</td>\n",
       "      <td>бюджет субъекта Российской Федерации</td>\n",
       "      <td>\\N</td>\n",
       "      <td>2304973.26</td>\n",
       "      <td>52.1</td>\n",
       "      <td>52.1</td>\n",
       "    </tr>\n",
       "    <tr>\n",
       "      <th>29205387</th>\n",
       "      <td>ГП \\КАЛУГАФАРМАЦИЯ\\\"\"</td>\n",
       "      <td>ГКУ КО \\ЦОЗ\\\"\"</td>\n",
       "      <td>Калужская область</td>\n",
       "      <td>Оказание услуг по обеспечению заказчика лекарс...</td>\n",
       "      <td>бюджет субъекта Российской Федерации</td>\n",
       "      <td>\\N</td>\n",
       "      <td>8536913.75</td>\n",
       "      <td>52.1</td>\n",
       "      <td>52.1</td>\n",
       "    </tr>\n",
       "    <tr>\n",
       "      <th>29209583</th>\n",
       "      <td>ООО \\КОНКРИТ\\\"\"</td>\n",
       "      <td>ГКУ \\УС ЛО\\\"\"</td>\n",
       "      <td>Ленинградская область</td>\n",
       "      <td>Оказание услуг по хранению резерва материальны...</td>\n",
       "      <td>бюджет субъекта Российской Федерации</td>\n",
       "      <td>1912700.00</td>\n",
       "      <td>1912700.00</td>\n",
       "      <td>52.1</td>\n",
       "      <td>52.1</td>\n",
       "    </tr>\n",
       "    <tr>\n",
       "      <th>29213231</th>\n",
       "      <td>ООО \\НОРМА ПЛЮС\\\"\"</td>\n",
       "      <td>ГУФССП РОССИИ ПО НИЖЕГОРОДСКОЙ ОБЛАСТИ</td>\n",
       "      <td>Нижегородская область</td>\n",
       "      <td>оказание  услуг по хранению арестованного и из...</td>\n",
       "      <td>федеральный бюджет</td>\n",
       "      <td>170000.00</td>\n",
       "      <td>170000.00</td>\n",
       "      <td>52.1</td>\n",
       "      <td>52.1</td>\n",
       "    </tr>\n",
       "    <tr>\n",
       "      <th>29217325</th>\n",
       "      <td>ООО \\АТЛАНТ-ГРУПП\\\"\"</td>\n",
       "      <td>ТУ РОСИМУЩЕСТВА В САМАРСКОЙ ОБЛАСТИ</td>\n",
       "      <td>Самарская область</td>\n",
       "      <td>Оказание услуг по хранению имущества, обращенн...</td>\n",
       "      <td>федеральный бюджет</td>\n",
       "      <td>500000.00</td>\n",
       "      <td>500000.00</td>\n",
       "      <td>52.1</td>\n",
       "      <td>52.1</td>\n",
       "    </tr>\n",
       "    <tr>\n",
       "      <th>29227384</th>\n",
       "      <td>ГП \\КАЛУГАФАРМАЦИЯ\\\"\"</td>\n",
       "      <td>ГКУ КО \\ЦОЗ\\\"\"</td>\n",
       "      <td>Калужская область</td>\n",
       "      <td>Оказание услуг по обеспечению заказчика наркот...</td>\n",
       "      <td>бюджет субъекта Российской Федерации</td>\n",
       "      <td>\\N</td>\n",
       "      <td>81838.18</td>\n",
       "      <td>52.1</td>\n",
       "      <td>52.1</td>\n",
       "    </tr>\n",
       "    <tr>\n",
       "      <th>29227385</th>\n",
       "      <td>ГП \\КАЛУГАФАРМАЦИЯ\\\"\"</td>\n",
       "      <td>ГКУ КО \\ЦОЗ\\\"\"</td>\n",
       "      <td>Калужская область</td>\n",
       "      <td>Оказание услуг по обеспечению заказчика наркот...</td>\n",
       "      <td>бюджет субъекта Российской Федерации</td>\n",
       "      <td>\\N</td>\n",
       "      <td>81838.18</td>\n",
       "      <td>52.1</td>\n",
       "      <td>52.1</td>\n",
       "    </tr>\n",
       "    <tr>\n",
       "      <th>29227387</th>\n",
       "      <td>ГП \\КАЛУГАФАРМАЦИЯ\\\"\"</td>\n",
       "      <td>ГКУ КО \\ЦОЗ\\\"\"</td>\n",
       "      <td>Калужская область</td>\n",
       "      <td>Оказание услуг по обеспечению заказчика лекарс...</td>\n",
       "      <td>бюджет субъекта Российской Федерации</td>\n",
       "      <td>\\N</td>\n",
       "      <td>6996642.14</td>\n",
       "      <td>52.1</td>\n",
       "      <td>52.1</td>\n",
       "    </tr>\n",
       "    <tr>\n",
       "      <th>29227427</th>\n",
       "      <td>ГП \\КАЛУГАФАРМАЦИЯ\\\"\"</td>\n",
       "      <td>ГКУ КО \\ЦОЗ\\\"\"</td>\n",
       "      <td>Калужская область</td>\n",
       "      <td>Оказание услуг по обеспечению заказчика лекарс...</td>\n",
       "      <td>бюджет субъекта Российской Федерации</td>\n",
       "      <td>\\N</td>\n",
       "      <td>703503.73</td>\n",
       "      <td>52.1</td>\n",
       "      <td>52.1</td>\n",
       "    </tr>\n",
       "    <tr>\n",
       "      <th>29227467</th>\n",
       "      <td>ГП \\КАЛУГАФАРМАЦИЯ\\\"\"</td>\n",
       "      <td>ГКУ КО \\ЦОЗ\\\"\"</td>\n",
       "      <td>Калужская область</td>\n",
       "      <td>Оказание услуг по обеспечению заказчика лекарс...</td>\n",
       "      <td>бюджет субъекта Российской Федерации</td>\n",
       "      <td>\\N</td>\n",
       "      <td>3362512.07</td>\n",
       "      <td>52.1</td>\n",
       "      <td>52.1</td>\n",
       "    </tr>\n",
       "    <tr>\n",
       "      <th>29227491</th>\n",
       "      <td>ГП \\КАЛУГАФАРМАЦИЯ\\\"\"</td>\n",
       "      <td>ГКУ КО \\ЦОЗ\\\"\"</td>\n",
       "      <td>Калужская область</td>\n",
       "      <td>Оказание услуг по обеспечению заказчика лекарс...</td>\n",
       "      <td>бюджет субъекта Российской Федерации</td>\n",
       "      <td>\\N</td>\n",
       "      <td>37021545.26</td>\n",
       "      <td>52.1</td>\n",
       "      <td>52.1</td>\n",
       "    </tr>\n",
       "    <tr>\n",
       "      <th>29227492</th>\n",
       "      <td>ГП \\КАЛУГАФАРМАЦИЯ\\\"\"</td>\n",
       "      <td>ГКУ КО \\ЦОЗ\\\"\"</td>\n",
       "      <td>Калужская область</td>\n",
       "      <td>Оказание услуг по обеспечению заказчика лекарс...</td>\n",
       "      <td>бюджет субъекта Российской Федерации</td>\n",
       "      <td>\\N</td>\n",
       "      <td>37021545.26</td>\n",
       "      <td>52.1</td>\n",
       "      <td>52.1</td>\n",
       "    </tr>\n",
       "    <tr>\n",
       "      <th>29230960</th>\n",
       "      <td>ООО \\МВК\\\"\"</td>\n",
       "      <td>ГБУЗ РК \\СИМФЕРОПОЛЬСКАЯ ГКБ №7\\\"\"</td>\n",
       "      <td>Республика Крым</td>\n",
       "      <td>Создание и эксплуатация комплексной системы сн...</td>\n",
       "      <td>\\N</td>\n",
       "      <td>4999172.50</td>\n",
       "      <td>4999095.00</td>\n",
       "      <td>52.1</td>\n",
       "      <td>52.1</td>\n",
       "    </tr>\n",
       "    <tr>\n",
       "      <th>29238723</th>\n",
       "      <td>АО \\САХАФАРМАЦИЯ\\\"\"</td>\n",
       "      <td>ГКУ РС(Я) \\РЦ ПРИ МЗ РС(Я)\\\"\"</td>\n",
       "      <td>Республика Саха (Якутия)</td>\n",
       "      <td>Оказание социальной услуги по приемке, хранени...</td>\n",
       "      <td>бюджет субъекта Российской Федерации</td>\n",
       "      <td>9409673.14</td>\n",
       "      <td>9409673.14</td>\n",
       "      <td>52.1</td>\n",
       "      <td>52.1</td>\n",
       "    </tr>\n",
       "    <tr>\n",
       "      <th>29242482</th>\n",
       "      <td>ГУП \\ТАТТЕХМЕДФАРМ\\\"\"</td>\n",
       "      <td>ГАУЗ \\ГОРОДСКАЯ ПОЛИКЛИНИКА № 21\\\"\"</td>\n",
       "      <td>Республика Татарстан (Татарстан)</td>\n",
       "      <td>Обеспечение закупок, хранение и доставку лекар...</td>\n",
       "      <td>\\N</td>\n",
       "      <td>\\N</td>\n",
       "      <td>282393.82</td>\n",
       "      <td>52.1</td>\n",
       "      <td>52.1</td>\n",
       "    </tr>\n",
       "    <tr>\n",
       "      <th>29243105</th>\n",
       "      <td>ГУП ТО \\ФАРМАЦИЯ\\\"\"</td>\n",
       "      <td>ГУЗ \\ГКБ № 2 Г. ТУЛЫ ИМЕНИ Е.Г. ЛАЗАРЕВА\\\"\"</td>\n",
       "      <td>Тульская область</td>\n",
       "      <td>Оказание услуг по хранению и отпуску медицинск...</td>\n",
       "      <td>\\N</td>\n",
       "      <td>99996.40</td>\n",
       "      <td>99996.40</td>\n",
       "      <td>52.1</td>\n",
       "      <td>52.1</td>\n",
       "    </tr>\n",
       "    <tr>\n",
       "      <th>29247584</th>\n",
       "      <td>ГУП ЧУВАШСКОЙ РЕСПУБЛИКИ \\ФАРМАЦИЯ\\\" МИНЗДРАВА...</td>\n",
       "      <td>МИНЗДРАВ ЧУВАШИИ</td>\n",
       "      <td>Чувашская Республика - Чувашия</td>\n",
       "      <td>на оказание услуги по обеспечению закупок, хра...</td>\n",
       "      <td>бюджет субъекта Российской Федерации</td>\n",
       "      <td>\\N</td>\n",
       "      <td>205636.70</td>\n",
       "      <td>52.1</td>\n",
       "      <td>52.1</td>\n",
       "    </tr>\n",
       "    <tr>\n",
       "      <th>29247683</th>\n",
       "      <td>ГУП ЧУВАШСКОЙ РЕСПУБЛИКИ \\ФАРМАЦИЯ\\\" МИНЗДРАВА...</td>\n",
       "      <td>МИНЗДРАВ ЧУВАШИИ</td>\n",
       "      <td>Чувашская Республика - Чувашия</td>\n",
       "      <td>на оказание услуги по обеспечению закупок, хра...</td>\n",
       "      <td>бюджет субъекта Российской Федерации</td>\n",
       "      <td>\\N</td>\n",
       "      <td>918000.00</td>\n",
       "      <td>52.1</td>\n",
       "      <td>52.1</td>\n",
       "    </tr>\n",
       "    <tr>\n",
       "      <th>29249031</th>\n",
       "      <td>ГП \\КАЛУГАФАРМАЦИЯ\\\"\"</td>\n",
       "      <td>ГКУ КО \\ЦОЗ\\\"\"</td>\n",
       "      <td>Калужская область</td>\n",
       "      <td>Оказание услуг по обеспечению заказчика лекарс...</td>\n",
       "      <td>бюджет субъекта Российской Федерации</td>\n",
       "      <td>\\N</td>\n",
       "      <td>10519135.47</td>\n",
       "      <td>52.1</td>\n",
       "      <td>52.1</td>\n",
       "    </tr>\n",
       "    <tr>\n",
       "      <th>29249743</th>\n",
       "      <td>ООО \\КУЗБАССТОПЛИВОСБЫТ\\\"\"</td>\n",
       "      <td>МКУ \\ЦСОГПВИИ ТАШТАГОЛЬСКОГО Г.П.\\\"\"</td>\n",
       "      <td>Кемеровская область - Кузбасс</td>\n",
       "      <td>оказание услуг по приемке, разгрузке/погрузке,...</td>\n",
       "      <td>местный бюджет</td>\n",
       "      <td>296182.04</td>\n",
       "      <td>319444.13</td>\n",
       "      <td>52.1</td>\n",
       "      <td>52.1</td>\n",
       "    </tr>\n",
       "  </tbody>\n",
       "</table>\n",
       "</div>"
      ],
      "text/plain": [
       "                                    Наименование поставщика  \\\n",
       "29201162                              БУ СЗ ВО \\ФАРМАЦИЯ\\\"\"   \n",
       "29201168                              БУ СЗ ВО \\ФАРМАЦИЯ\\\"\"   \n",
       "29203936  ГУП ЧУВАШСКОЙ РЕСПУБЛИКИ \\ФАРМАЦИЯ\\\" МИНЗДРАВА...   \n",
       "29203994  ГУП ЧУВАШСКОЙ РЕСПУБЛИКИ \\ФАРМАЦИЯ\\\" МИНЗДРАВА...   \n",
       "29203995  ГУП ЧУВАШСКОЙ РЕСПУБЛИКИ \\ФАРМАЦИЯ\\\" МИНЗДРАВА...   \n",
       "29205387                              ГП \\КАЛУГАФАРМАЦИЯ\\\"\"   \n",
       "29209583                                    ООО \\КОНКРИТ\\\"\"   \n",
       "29213231                                 ООО \\НОРМА ПЛЮС\\\"\"   \n",
       "29217325                               ООО \\АТЛАНТ-ГРУПП\\\"\"   \n",
       "29227384                              ГП \\КАЛУГАФАРМАЦИЯ\\\"\"   \n",
       "29227385                              ГП \\КАЛУГАФАРМАЦИЯ\\\"\"   \n",
       "29227387                              ГП \\КАЛУГАФАРМАЦИЯ\\\"\"   \n",
       "29227427                              ГП \\КАЛУГАФАРМАЦИЯ\\\"\"   \n",
       "29227467                              ГП \\КАЛУГАФАРМАЦИЯ\\\"\"   \n",
       "29227491                              ГП \\КАЛУГАФАРМАЦИЯ\\\"\"   \n",
       "29227492                              ГП \\КАЛУГАФАРМАЦИЯ\\\"\"   \n",
       "29230960                                        ООО \\МВК\\\"\"   \n",
       "29238723                                АО \\САХАФАРМАЦИЯ\\\"\"   \n",
       "29242482                              ГУП \\ТАТТЕХМЕДФАРМ\\\"\"   \n",
       "29243105                                ГУП ТО \\ФАРМАЦИЯ\\\"\"   \n",
       "29247584  ГУП ЧУВАШСКОЙ РЕСПУБЛИКИ \\ФАРМАЦИЯ\\\" МИНЗДРАВА...   \n",
       "29247683  ГУП ЧУВАШСКОЙ РЕСПУБЛИКИ \\ФАРМАЦИЯ\\\" МИНЗДРАВА...   \n",
       "29249031                              ГП \\КАЛУГАФАРМАЦИЯ\\\"\"   \n",
       "29249743                         ООО \\КУЗБАССТОПЛИВОСБЫТ\\\"\"   \n",
       "\n",
       "                                     Наименование заказчика  \\\n",
       "29201162  БУЗ ВО \\ЦЕНТР ПО ПРОФИЛАКТИКЕ ИНФЕКЦИОННЫХ ЗАБ...   \n",
       "29201168  БУЗ ВО \\ВОЛОГОДСКИЙ ОБЛАСТНОЙ ПРОТИВОТУБЕРКУЛЕ...   \n",
       "29203936  БУ \\ГОРОДСКАЯ ДЕТСКАЯ КЛИНИЧЕСКАЯ БОЛЬНИЦА\\\" М...   \n",
       "29203994                                   МИНЗДРАВ ЧУВАШИИ   \n",
       "29203995                                   МИНЗДРАВ ЧУВАШИИ   \n",
       "29205387                                     ГКУ КО \\ЦОЗ\\\"\"   \n",
       "29209583                                      ГКУ \\УС ЛО\\\"\"   \n",
       "29213231             ГУФССП РОССИИ ПО НИЖЕГОРОДСКОЙ ОБЛАСТИ   \n",
       "29217325                ТУ РОСИМУЩЕСТВА В САМАРСКОЙ ОБЛАСТИ   \n",
       "29227384                                     ГКУ КО \\ЦОЗ\\\"\"   \n",
       "29227385                                     ГКУ КО \\ЦОЗ\\\"\"   \n",
       "29227387                                     ГКУ КО \\ЦОЗ\\\"\"   \n",
       "29227427                                     ГКУ КО \\ЦОЗ\\\"\"   \n",
       "29227467                                     ГКУ КО \\ЦОЗ\\\"\"   \n",
       "29227491                                     ГКУ КО \\ЦОЗ\\\"\"   \n",
       "29227492                                     ГКУ КО \\ЦОЗ\\\"\"   \n",
       "29230960                 ГБУЗ РК \\СИМФЕРОПОЛЬСКАЯ ГКБ №7\\\"\"   \n",
       "29238723                      ГКУ РС(Я) \\РЦ ПРИ МЗ РС(Я)\\\"\"   \n",
       "29242482                ГАУЗ \\ГОРОДСКАЯ ПОЛИКЛИНИКА № 21\\\"\"   \n",
       "29243105        ГУЗ \\ГКБ № 2 Г. ТУЛЫ ИМЕНИ Е.Г. ЛАЗАРЕВА\\\"\"   \n",
       "29247584                                   МИНЗДРАВ ЧУВАШИИ   \n",
       "29247683                                   МИНЗДРАВ ЧУВАШИИ   \n",
       "29249031                                     ГКУ КО \\ЦОЗ\\\"\"   \n",
       "29249743               МКУ \\ЦСОГПВИИ ТАШТАГОЛЬСКОГО Г.П.\\\"\"   \n",
       "\n",
       "                          Регион заказчика  \\\n",
       "29201162               Вологодская область   \n",
       "29201168                  БУЗ ВО \\\"ВОПД\\\"\"   \n",
       "29203936    Чувашская Республика - Чувашия   \n",
       "29203994    Чувашская Республика - Чувашия   \n",
       "29203995    Чувашская Республика - Чувашия   \n",
       "29205387                 Калужская область   \n",
       "29209583             Ленинградская область   \n",
       "29213231             Нижегородская область   \n",
       "29217325                 Самарская область   \n",
       "29227384                 Калужская область   \n",
       "29227385                 Калужская область   \n",
       "29227387                 Калужская область   \n",
       "29227427                 Калужская область   \n",
       "29227467                 Калужская область   \n",
       "29227491                 Калужская область   \n",
       "29227492                 Калужская область   \n",
       "29230960                   Республика Крым   \n",
       "29238723          Республика Саха (Якутия)   \n",
       "29242482  Республика Татарстан (Татарстан)   \n",
       "29243105                  Тульская область   \n",
       "29247584    Чувашская Республика - Чувашия   \n",
       "29247683    Чувашская Республика - Чувашия   \n",
       "29249031                 Калужская область   \n",
       "29249743     Кемеровская область - Кузбасс   \n",
       "\n",
       "                                            Предмет закупки  \\\n",
       "29201162  Оказание услуги по осуществлению организационн...   \n",
       "29201168                                  Контракт заключен   \n",
       "29203936  Оказание услуг по обеспечению медицинскими изд...   \n",
       "29203994  на оказание услуги по обеспечению закупок, хра...   \n",
       "29203995  на оказание услуги по обеспечению закупок, хра...   \n",
       "29205387  Оказание услуг по обеспечению заказчика лекарс...   \n",
       "29209583  Оказание услуг по хранению резерва материальны...   \n",
       "29213231  оказание  услуг по хранению арестованного и из...   \n",
       "29217325  Оказание услуг по хранению имущества, обращенн...   \n",
       "29227384  Оказание услуг по обеспечению заказчика наркот...   \n",
       "29227385  Оказание услуг по обеспечению заказчика наркот...   \n",
       "29227387  Оказание услуг по обеспечению заказчика лекарс...   \n",
       "29227427  Оказание услуг по обеспечению заказчика лекарс...   \n",
       "29227467  Оказание услуг по обеспечению заказчика лекарс...   \n",
       "29227491  Оказание услуг по обеспечению заказчика лекарс...   \n",
       "29227492  Оказание услуг по обеспечению заказчика лекарс...   \n",
       "29230960  Создание и эксплуатация комплексной системы сн...   \n",
       "29238723  Оказание социальной услуги по приемке, хранени...   \n",
       "29242482  Обеспечение закупок, хранение и доставку лекар...   \n",
       "29243105  Оказание услуг по хранению и отпуску медицинск...   \n",
       "29247584  на оказание услуги по обеспечению закупок, хра...   \n",
       "29247683  на оказание услуги по обеспечению закупок, хра...   \n",
       "29249031  Оказание услуг по обеспечению заказчика лекарс...   \n",
       "29249743  оказание услуг по приемке, разгрузке/погрузке,...   \n",
       "\n",
       "                                       Наименование бюджета   Цена контракта  \\\n",
       "29201162                                                 \\N       7119900.00   \n",
       "29201168  Оказание услуг по приемке, хранению и передаче...  <НЕ ОПРЕДЕЛЕНО>   \n",
       "29203936                                                 \\N               \\N   \n",
       "29203994               бюджет субъекта Российской Федерации               \\N   \n",
       "29203995               бюджет субъекта Российской Федерации               \\N   \n",
       "29205387               бюджет субъекта Российской Федерации               \\N   \n",
       "29209583               бюджет субъекта Российской Федерации       1912700.00   \n",
       "29213231                                 федеральный бюджет        170000.00   \n",
       "29217325                                 федеральный бюджет        500000.00   \n",
       "29227384               бюджет субъекта Российской Федерации               \\N   \n",
       "29227385               бюджет субъекта Российской Федерации               \\N   \n",
       "29227387               бюджет субъекта Российской Федерации               \\N   \n",
       "29227427               бюджет субъекта Российской Федерации               \\N   \n",
       "29227467               бюджет субъекта Российской Федерации               \\N   \n",
       "29227491               бюджет субъекта Российской Федерации               \\N   \n",
       "29227492               бюджет субъекта Российской Федерации               \\N   \n",
       "29230960                                                 \\N       4999172.50   \n",
       "29238723               бюджет субъекта Российской Федерации       9409673.14   \n",
       "29242482                                                 \\N               \\N   \n",
       "29243105                                                 \\N         99996.40   \n",
       "29247584               бюджет субъекта Российской Федерации               \\N   \n",
       "29247683               бюджет субъекта Российской Федерации               \\N   \n",
       "29249031               бюджет субъекта Российской Федерации               \\N   \n",
       "29249743                                     местный бюджет        296182.04   \n",
       "\n",
       "         Стоимость обязательств    Описание ОКПД Код ОКПД  \n",
       "29201162             7119900.00             52.1     52.1  \n",
       "29201168              294000.00  <НЕ ОПРЕДЕЛЕНО>     52.1  \n",
       "29203936             1999291.10             52.1     52.1  \n",
       "29203994             1297530.00             52.1     52.1  \n",
       "29203995             2304973.26             52.1     52.1  \n",
       "29205387             8536913.75             52.1     52.1  \n",
       "29209583             1912700.00             52.1     52.1  \n",
       "29213231              170000.00             52.1     52.1  \n",
       "29217325              500000.00             52.1     52.1  \n",
       "29227384               81838.18             52.1     52.1  \n",
       "29227385               81838.18             52.1     52.1  \n",
       "29227387             6996642.14             52.1     52.1  \n",
       "29227427              703503.73             52.1     52.1  \n",
       "29227467             3362512.07             52.1     52.1  \n",
       "29227491            37021545.26             52.1     52.1  \n",
       "29227492            37021545.26             52.1     52.1  \n",
       "29230960             4999095.00             52.1     52.1  \n",
       "29238723             9409673.14             52.1     52.1  \n",
       "29242482              282393.82             52.1     52.1  \n",
       "29243105               99996.40             52.1     52.1  \n",
       "29247584              205636.70             52.1     52.1  \n",
       "29247683              918000.00             52.1     52.1  \n",
       "29249031            10519135.47             52.1     52.1  \n",
       "29249743              319444.13             52.1     52.1  "
      ]
     },
     "execution_count": 8,
     "metadata": {},
     "output_type": "execute_result"
    }
   ],
   "source": [
    "df[df[\"Код ОКПД\"] == \"52.1\"]"
   ]
  }
 ],
 "metadata": {
  "kernelspec": {
   "display_name": "Python 3 (ipykernel)",
   "language": "python",
   "name": "python3"
  },
  "language_info": {
   "codemirror_mode": {
    "name": "ipython",
    "version": 3
   },
   "file_extension": ".py",
   "mimetype": "text/x-python",
   "name": "python",
   "nbconvert_exporter": "python",
   "pygments_lexer": "ipython3",
   "version": "3.10.9"
  }
 },
 "nbformat": 4,
 "nbformat_minor": 5
}
