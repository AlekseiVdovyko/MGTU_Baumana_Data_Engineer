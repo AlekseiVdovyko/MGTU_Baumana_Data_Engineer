{
 "cells": [
  {
   "cell_type": "markdown",
   "id": "8117ecb5",
   "metadata": {},
   "source": [
    "# Использование библиотеки SKLEARN для обученя модели "
   ]
  },
  {
   "cell_type": "code",
   "execution_count": 2,
   "id": "c66581d4",
   "metadata": {},
   "outputs": [],
   "source": [
    "import pandas as pd\n",
    "import numpy as np\n",
    "import matplotlib.pyplot as plt\n",
    "import matplotlib.ticker as ticker\n",
    "import seaborn as sns\n",
    "\n",
    "from nltk.tokenize import sent_tokenize, word_tokenize\n",
    "from nltk import download\n",
    "from nltk.tokenize import word_tokenize\n",
    "from nltk import pos_tag\n",
    "from nltk.corpus import stopwords\n",
    "from nltk.stem import WordNetLemmatizer\n",
    "from nltk.corpus import wordnet as wn  # Проверить необходимость\n",
    "\n",
    "from sklearn.preprocessing import MinMaxScaler\n",
    "from sklearn.feature_extraction.text import TfidfVectorizer, CountVectorizer\n",
    "from sklearn import model_selection, naive_bayes, svm\n",
    "from sklearn.metrics import precision_score, f1_score\n",
    "from sklearn.model_selection import train_test_split\n",
    "from sklearn.linear_model import SGDClassifier  # SVM модель\n",
    "from sklearn.naive_bayes import GaussianNB, MultinomialNB\n",
    "from sklearn.tree import DecisionTreeClassifier\n",
    "from sklearn.ensemble import AdaBoostClassifier\n",
    "\n",
    "from gensim.models import Word2Vec\n",
    "from collections import defaultdict, Counter\n",
    "import openpyxl"
   ]
  },
  {
   "cell_type": "code",
   "execution_count": 2,
   "id": "3d0524ea",
   "metadata": {},
   "outputs": [
    {
     "name": "stderr",
     "output_type": "stream",
     "text": [
      "[nltk_data] Downloading package punkt to\n",
      "[nltk_data]     C:\\Users\\Aleksei\\AppData\\Roaming\\nltk_data...\n",
      "[nltk_data]   Package punkt is already up-to-date!\n",
      "[nltk_data] Downloading package wordnet to\n",
      "[nltk_data]     C:\\Users\\Aleksei\\AppData\\Roaming\\nltk_data...\n",
      "[nltk_data]   Package wordnet is already up-to-date!\n",
      "[nltk_data] Downloading package omw-1.4 to\n",
      "[nltk_data]     C:\\Users\\Aleksei\\AppData\\Roaming\\nltk_data...\n",
      "[nltk_data]   Package omw-1.4 is already up-to-date!\n",
      "[nltk_data] Downloading package averaged_perceptron_tagger to\n",
      "[nltk_data]     C:\\Users\\Aleksei\\AppData\\Roaming\\nltk_data...\n",
      "[nltk_data]   Package averaged_perceptron_tagger is already up-to-\n",
      "[nltk_data]       date!\n",
      "[nltk_data] Downloading package stopwords to\n",
      "[nltk_data]     C:\\Users\\Aleksei\\AppData\\Roaming\\nltk_data...\n",
      "[nltk_data]   Package stopwords is already up-to-date!\n"
     ]
    },
    {
     "data": {
      "text/plain": [
       "True"
      ]
     },
     "execution_count": 2,
     "metadata": {},
     "output_type": "execute_result"
    }
   ],
   "source": [
    "import nltk\n",
    "nltk.download('punkt')\n",
    "nltk.download('wordnet')\n",
    "nltk.download('omw-1.4')\n",
    "nltk.download('averaged_perceptron_tagger')\n",
    "nltk.download('stopwords')"
   ]
  },
  {
   "cell_type": "markdown",
   "id": "a6b4dd81",
   "metadata": {},
   "source": [
    "Подгружаем датасет для работы с ним"
   ]
  },
  {
   "cell_type": "code",
   "execution_count": 3,
   "id": "4e26557a",
   "metadata": {},
   "outputs": [
    {
     "name": "stderr",
     "output_type": "stream",
     "text": [
      "C:\\Users\\Aleksei\\AppData\\Local\\Temp\\ipykernel_3660\\183269662.py:4: DtypeWarning: Columns (6,21,26) have mixed types. Specify dtype option on import or set low_memory=False.\n",
      "  for chunk in reader:\n"
     ]
    }
   ],
   "source": [
    "summaries = None\n",
    "chunksize = 10 ** 5\n",
    "with pd.read_csv(\"fz.csv\", chunksize=chunksize, on_bad_lines=\"skip\") as reader:\n",
    "    for chunk in reader:\n",
    "#        chunk.columns = [\"id1\", \"Реестровый номер контракта\", \"id2\", \"юр лицо\", \"юр лицо\", \"Неизвестно\", \n",
    "#              \"id4\", \"юр лицо\", \"регион\", \"id5\", \"Результат\", \"Услуга\", \"Откуда деньги\", \n",
    "#              \"Дата 1\", \"Дата 2\", \"Дата 3\", \"Дата 4\", \"Дата 5\", \"Дата 6\", \"Сумма 1\", \"Сумма 2\", \n",
    "#              \"Сумма 3\", \"Условия 1\", \"Условия 2\", \"Услуга 1\", \"Услуга 2\", \"ОКПД-2\"]\n",
    "        chunk.columns = [\"Номер\", \"Реестровый номер контракта\", \"Код закупки\", \"ИНН поставщика\", \"Наименование поставщика\", \n",
    "           \"Регион поставщика\", \"ИНН заказчика\", \"Наименование заказчика\", \"Регион заказчика\", \"Код КБК\", \"Исполнение\",\n",
    "           \"Предмет закупки\", \"Наименование бюджета\", \"Дата заключения\", \"Дата начала\", \"Дата окончания\",\n",
    "           \"Дата обновления\", \"Дата обновления_1\", \"null_1\", \"null_2\", \"Цена контракта\", \"Стоимость обязательств\", \n",
    "           \"НДС\", \"Изменение условий контракта\", \"null_3\", \"Описание ОКПД\", \"Код ОКПД\"]\n",
    "        chunk[\"Код ОКПД\"] = chunk[\"Код ОКПД\"].astype(str)\n",
    "        summary = chunk.groupby(['Описание ОКПД','Код ОКПД']).size().reset_index().rename(columns={0:'count'})\n",
    "        if summaries is None:\n",
    "            summaries = summary\n",
    "        else:\n",
    "            summaries = pd.concat([summaries, summary])\n",
    "        \n",
    "        break"
   ]
  },
  {
   "cell_type": "code",
   "execution_count": 4,
   "id": "34aaf366",
   "metadata": {},
   "outputs": [
    {
     "data": {
      "text/plain": [
       "(100000, 27)"
      ]
     },
     "execution_count": 4,
     "metadata": {},
     "output_type": "execute_result"
    }
   ],
   "source": [
    "chunk.shape"
   ]
  },
  {
   "cell_type": "code",
   "execution_count": 5,
   "id": "d55719cc",
   "metadata": {},
   "outputs": [
    {
     "data": {
      "text/plain": [
       "0                                          <НЕ ОПРЕДЕЛЕНО>\n",
       "1                                          <НЕ ОПРЕДЕЛЕНО>\n",
       "2        На поставку специальных устройств для чтения «...\n",
       "3        На поставку голосообразующих аппаратов для обе...\n",
       "4                                          <НЕ ОПРЕДЕЛЕНО>\n",
       "                               ...                        \n",
       "99995                                      <НЕ ОПРЕДЕЛЕНО>\n",
       "99996      ПОСТАВКА ЛЕКАРСТВЕННОГО ПРЕПАРАТА (БИКАЛУТАМИД)\n",
       "99997                                      <НЕ ОПРЕДЕЛЕНО>\n",
       "99998                                      <НЕ ОПРЕДЕЛЕНО>\n",
       "99999                                      <НЕ ОПРЕДЕЛЕНО>\n",
       "Name: Предмет закупки, Length: 100000, dtype: object"
      ]
     },
     "execution_count": 5,
     "metadata": {},
     "output_type": "execute_result"
    }
   ],
   "source": [
    "chunk[\"Предмет закупки\"]"
   ]
  },
  {
   "cell_type": "code",
   "execution_count": 6,
   "id": "a36260b0",
   "metadata": {},
   "outputs": [],
   "source": [
    "chunk[\"Код ОКПД\"] = chunk[\"Код ОКПД\"].astype(str)\n",
    "chunk = chunk[chunk['Код ОКПД'].map(lambda x: str.isnumeric(x[0]))]\n",
    "chunk = chunk[chunk[\"Предмет закупки\"] != \"<НЕ ОПРЕДЕЛЕНО>\"]"
   ]
  },
  {
   "cell_type": "code",
   "execution_count": 7,
   "id": "586fc120",
   "metadata": {},
   "outputs": [
    {
     "data": {
      "text/plain": [
       "(72159,)"
      ]
     },
     "execution_count": 7,
     "metadata": {},
     "output_type": "execute_result"
    }
   ],
   "source": [
    "chunk['Код ОКПД'].shape"
   ]
  },
  {
   "cell_type": "markdown",
   "id": "ffdb60ff",
   "metadata": {},
   "source": [
    "Убираем ненужные записи из датасета"
   ]
  },
  {
   "cell_type": "code",
   "execution_count": 8,
   "id": "8210371a",
   "metadata": {},
   "outputs": [],
   "source": [
    "orig_text = chunk[[\"Предмет закупки\", \"Код ОКПД\"]]\n",
    "orig_text.columns = [\"data\", \"Код ОКПД\"]"
   ]
  },
  {
   "cell_type": "code",
   "execution_count": 9,
   "id": "eed19c83",
   "metadata": {},
   "outputs": [
    {
     "data": {
      "text/html": [
       "<div>\n",
       "<style scoped>\n",
       "    .dataframe tbody tr th:only-of-type {\n",
       "        vertical-align: middle;\n",
       "    }\n",
       "\n",
       "    .dataframe tbody tr th {\n",
       "        vertical-align: top;\n",
       "    }\n",
       "\n",
       "    .dataframe thead th {\n",
       "        text-align: right;\n",
       "    }\n",
       "</style>\n",
       "<table border=\"1\" class=\"dataframe\">\n",
       "  <thead>\n",
       "    <tr style=\"text-align: right;\">\n",
       "      <th></th>\n",
       "      <th>data</th>\n",
       "      <th>Код ОКПД</th>\n",
       "    </tr>\n",
       "  </thead>\n",
       "  <tbody>\n",
       "    <tr>\n",
       "      <th>2</th>\n",
       "      <td>На поставку специальных устройств для чтения «...</td>\n",
       "      <td>26.4</td>\n",
       "    </tr>\n",
       "    <tr>\n",
       "      <th>3</th>\n",
       "      <td>На поставку голосообразующих аппаратов для обе...</td>\n",
       "      <td>26.4</td>\n",
       "    </tr>\n",
       "    <tr>\n",
       "      <th>5</th>\n",
       "      <td>на поставку слуховых аппаратов (включая настро...</td>\n",
       "      <td>26.6</td>\n",
       "    </tr>\n",
       "    <tr>\n",
       "      <th>6</th>\n",
       "      <td>На выполнение работ по изготовлению вкладышей ...</td>\n",
       "      <td>26.6</td>\n",
       "    </tr>\n",
       "    <tr>\n",
       "      <th>7</th>\n",
       "      <td>На поставку специальных средств при нарушениях...</td>\n",
       "      <td>32.5</td>\n",
       "    </tr>\n",
       "    <tr>\n",
       "      <th>...</th>\n",
       "      <td>...</td>\n",
       "      <td>...</td>\n",
       "    </tr>\n",
       "    <tr>\n",
       "      <th>99984</th>\n",
       "      <td>ПОСТАВКА ЛЕКАРСТВЕННОГО ПРЕПАРАТА (ПРАМИПЕКСОЛ)</td>\n",
       "      <td>21.2</td>\n",
       "    </tr>\n",
       "    <tr>\n",
       "      <th>99985</th>\n",
       "      <td>ПОСТАВКА ЛЕКАРСТВЕННОГО ПРЕПАРАТА (БОЗЕНТАН)</td>\n",
       "      <td>21.2</td>\n",
       "    </tr>\n",
       "    <tr>\n",
       "      <th>99986</th>\n",
       "      <td>ПОСТАВКА ЛЕКАРСТВЕННОГО ПРЕПАРАТА (МЕРОПЕНЕМ)</td>\n",
       "      <td>21.2</td>\n",
       "    </tr>\n",
       "    <tr>\n",
       "      <th>99987</th>\n",
       "      <td>ПОСТАВКА ЛЕКАРСТВЕННОГО ПРЕПАРАТА (ОНДАНСЕТРОН)</td>\n",
       "      <td>21.2</td>\n",
       "    </tr>\n",
       "    <tr>\n",
       "      <th>99996</th>\n",
       "      <td>ПОСТАВКА ЛЕКАРСТВЕННОГО ПРЕПАРАТА (БИКАЛУТАМИД)</td>\n",
       "      <td>21.2</td>\n",
       "    </tr>\n",
       "  </tbody>\n",
       "</table>\n",
       "<p>72159 rows × 2 columns</p>\n",
       "</div>"
      ],
      "text/plain": [
       "                                                    data Код ОКПД\n",
       "2      На поставку специальных устройств для чтения «...     26.4\n",
       "3      На поставку голосообразующих аппаратов для обе...     26.4\n",
       "5      на поставку слуховых аппаратов (включая настро...     26.6\n",
       "6      На выполнение работ по изготовлению вкладышей ...     26.6\n",
       "7      На поставку специальных средств при нарушениях...     32.5\n",
       "...                                                  ...      ...\n",
       "99984    ПОСТАВКА ЛЕКАРСТВЕННОГО ПРЕПАРАТА (ПРАМИПЕКСОЛ)     21.2\n",
       "99985       ПОСТАВКА ЛЕКАРСТВЕННОГО ПРЕПАРАТА (БОЗЕНТАН)     21.2\n",
       "99986      ПОСТАВКА ЛЕКАРСТВЕННОГО ПРЕПАРАТА (МЕРОПЕНЕМ)     21.2\n",
       "99987    ПОСТАВКА ЛЕКАРСТВЕННОГО ПРЕПАРАТА (ОНДАНСЕТРОН)     21.2\n",
       "99996    ПОСТАВКА ЛЕКАРСТВЕННОГО ПРЕПАРАТА (БИКАЛУТАМИД)     21.2\n",
       "\n",
       "[72159 rows x 2 columns]"
      ]
     },
     "execution_count": 9,
     "metadata": {},
     "output_type": "execute_result"
    }
   ],
   "source": [
    "orig_text"
   ]
  },
  {
   "cell_type": "code",
   "execution_count": 10,
   "id": "c4bc9b25",
   "metadata": {},
   "outputs": [
    {
     "name": "stderr",
     "output_type": "stream",
     "text": [
      "C:\\Users\\Aleksei\\AppData\\Local\\Temp\\ipykernel_3660\\2633631860.py:3: FutureWarning: The default value of regex will change from True to False in a future version.\n",
      "  orig_text[\"data\"] = orig_text[\"data\"].str.replace('\\W', ' ')  # Удалим спецсимволы\n",
      "C:\\Users\\Aleksei\\AppData\\Local\\Temp\\ipykernel_3660\\2633631860.py:4: FutureWarning: The default value of regex will change from True to False in a future version.\n",
      "  orig_text[\"data\"] = orig_text[\"data\"].str.replace('\\s+[a-zA-Z]\\s+', ' ')  # Удалим одиночные литеры\n",
      "C:\\Users\\Aleksei\\AppData\\Local\\Temp\\ipykernel_3660\\2633631860.py:5: FutureWarning: The default value of regex will change from True to False in a future version.\n",
      "  orig_text[\"data\"] = orig_text[\"data\"].str.replace('\\^[a-zA-Z]\\s+', ' ')  # Удалим одиночные литеры в начале\n",
      "C:\\Users\\Aleksei\\AppData\\Local\\Temp\\ipykernel_3660\\2633631860.py:6: FutureWarning: The default value of regex will change from True to False in a future version.\n",
      "  orig_text[\"data\"] = orig_text[\"data\"].str.replace('\\s+', ' ')  # Удалим множественные пробелы\n",
      "C:\\Users\\Aleksei\\AppData\\Local\\Temp\\ipykernel_3660\\2633631860.py:7: FutureWarning: The default value of regex will change from True to False in a future version.\n",
      "  orig_text[\"data\"] = orig_text[\"data\"].str.replace('\\d+', '')  # Удалим цифры\n"
     ]
    }
   ],
   "source": [
    "# orig_text = orig_text.head(10000)  # Немного уберём данные\n",
    "orig_text = orig_text.dropna()\n",
    "orig_text[\"data\"] = orig_text[\"data\"].str.replace('\\W', ' ')  # Удалим спецсимволы\n",
    "orig_text[\"data\"] = orig_text[\"data\"].str.replace('\\s+[a-zA-Z]\\s+', ' ')  # Удалим одиночные литеры\n",
    "orig_text[\"data\"] = orig_text[\"data\"].str.replace('\\^[a-zA-Z]\\s+', ' ')  # Удалим одиночные литеры в начале\n",
    "orig_text[\"data\"] = orig_text[\"data\"].str.replace('\\s+', ' ')  # Удалим множественные пробелы\n",
    "orig_text[\"data\"] = orig_text[\"data\"].str.replace('\\d+', '')  # Удалим цифры"
   ]
  },
  {
   "cell_type": "markdown",
   "id": "54681549",
   "metadata": {},
   "source": [
    "Токенизация.\n",
    "Удаляем ненужные слова"
   ]
  },
  {
   "cell_type": "code",
   "execution_count": 11,
   "id": "41409b14",
   "metadata": {},
   "outputs": [
    {
     "data": {
      "text/plain": [
       "2        [на, поставку, специальных, устройств, для, чт...\n",
       "3        [на, поставку, голосообразующих, аппаратов, дл...\n",
       "5        [на, поставку, слуховых, аппаратов, включая, н...\n",
       "6        [на, выполнение, работ, по, изготовлению, вкла...\n",
       "7        [на, поставку, специальных, средств, при, нару...\n",
       "                               ...                        \n",
       "99984    [поставка, лекарственного, препарата, прамипек...\n",
       "99985      [поставка, лекарственного, препарата, бозентан]\n",
       "99986     [поставка, лекарственного, препарата, меропенем]\n",
       "99987    [поставка, лекарственного, препарата, ондансет...\n",
       "99996    [поставка, лекарственного, препарата, бикалута...\n",
       "Name: data, Length: 72159, dtype: object"
      ]
     },
     "execution_count": 11,
     "metadata": {},
     "output_type": "execute_result"
    }
   ],
   "source": [
    "orig_text[\"data\"] = [word_tokenize(entry.lower()) for entry in orig_text[\"data\"]]\n",
    "orig_text[\"data\"]"
   ]
  },
  {
   "cell_type": "markdown",
   "id": "ffab5026",
   "metadata": {},
   "source": [
    "Лемматизация. Получение массива нужных слов."
   ]
  },
  {
   "cell_type": "code",
   "execution_count": 12,
   "id": "5b2f1efb",
   "metadata": {},
   "outputs": [
    {
     "data": {
      "text/plain": [
       "2        ['поставк', 'специальн', 'устройств', 'чтен', ...\n",
       "3        ['поставк', 'голосообраз', 'аппарат', 'обеспеч...\n",
       "5        ['поставк', 'слухов', 'аппарат', 'включ', 'нас...\n",
       "6        ['выполнен', 'работ', 'изготовлен', 'вкладыш',...\n",
       "7        ['поставк', 'специальн', 'средств', 'нарушен',...\n",
       "                               ...                        \n",
       "99984    ['поставк', 'лекарствен', 'препарат', 'прамипе...\n",
       "99985     ['поставк', 'лекарствен', 'препарат', 'бозента']\n",
       "99986     ['поставк', 'лекарствен', 'препарат', 'меропен']\n",
       "99987    ['поставк', 'лекарствен', 'препарат', 'ондансе...\n",
       "99996    ['поставк', 'лекарствен', 'препарат', 'бикалут...\n",
       "Name: data_final, Length: 72159, dtype: object"
      ]
     },
     "execution_count": 12,
     "metadata": {},
     "output_type": "execute_result"
    }
   ],
   "source": [
    "tag_map = defaultdict(lambda : wn.NOUN)\n",
    "tag_map['J'] = wn.ADJ\n",
    "tag_map['V'] = wn.VERB\n",
    "tag_map['R'] = wn.ADV\n",
    "\n",
    "stemmer = nltk.stem.snowball.RussianStemmer()\n",
    "word_lemmatized = WordNetLemmatizer()\n",
    "\n",
    "for index, entry in zip(orig_text[\"data\"].index, orig_text[\"data\"]):\n",
    "    # Declaring Empty List to store the words that follow the rules for this step\n",
    "    final_words = []\n",
    "    # Initializing WordNetLemmatizer()\n",
    "    # pos_tag function below will provide the 'tag' i.e if the word is Noun(N) or Verb(V) or something else.\n",
    "    for word, tag in pos_tag(entry):\n",
    "        # Below condition is to check for Stop words and consider only alphabets\n",
    "        if word not in stopwords.words(\"russian\") and word.isalpha():\n",
    "            word_final = word_lemmatized.lemmatize(word, tag_map[tag[0]])\n",
    "            word_final = stemmer.stem(word_final)\n",
    "            final_words.append(word_final)\n",
    "    # The final processed set of words for each iteration will be stored in 'text_final'\n",
    "    orig_text.loc[index, \"data_final\"] = str(final_words)\n",
    "    \n",
    "orig_text[\"data_final\"]"
   ]
  },
  {
   "cell_type": "code",
   "execution_count": 13,
   "id": "89e7f027",
   "metadata": {},
   "outputs": [
    {
     "data": {
      "text/html": [
       "<div>\n",
       "<style scoped>\n",
       "    .dataframe tbody tr th:only-of-type {\n",
       "        vertical-align: middle;\n",
       "    }\n",
       "\n",
       "    .dataframe tbody tr th {\n",
       "        vertical-align: top;\n",
       "    }\n",
       "\n",
       "    .dataframe thead th {\n",
       "        text-align: right;\n",
       "    }\n",
       "</style>\n",
       "<table border=\"1\" class=\"dataframe\">\n",
       "  <thead>\n",
       "    <tr style=\"text-align: right;\">\n",
       "      <th></th>\n",
       "      <th>data</th>\n",
       "      <th>Код ОКПД</th>\n",
       "      <th>data_final</th>\n",
       "    </tr>\n",
       "  </thead>\n",
       "  <tbody>\n",
       "    <tr>\n",
       "      <th>2</th>\n",
       "      <td>[на, поставку, специальных, устройств, для, чт...</td>\n",
       "      <td>26.4</td>\n",
       "      <td>['поставк', 'специальн', 'устройств', 'чтен', ...</td>\n",
       "    </tr>\n",
       "    <tr>\n",
       "      <th>3</th>\n",
       "      <td>[на, поставку, голосообразующих, аппаратов, дл...</td>\n",
       "      <td>26.4</td>\n",
       "      <td>['поставк', 'голосообраз', 'аппарат', 'обеспеч...</td>\n",
       "    </tr>\n",
       "    <tr>\n",
       "      <th>5</th>\n",
       "      <td>[на, поставку, слуховых, аппаратов, включая, н...</td>\n",
       "      <td>26.6</td>\n",
       "      <td>['поставк', 'слухов', 'аппарат', 'включ', 'нас...</td>\n",
       "    </tr>\n",
       "    <tr>\n",
       "      <th>6</th>\n",
       "      <td>[на, выполнение, работ, по, изготовлению, вкла...</td>\n",
       "      <td>26.6</td>\n",
       "      <td>['выполнен', 'работ', 'изготовлен', 'вкладыш',...</td>\n",
       "    </tr>\n",
       "    <tr>\n",
       "      <th>7</th>\n",
       "      <td>[на, поставку, специальных, средств, при, нару...</td>\n",
       "      <td>32.5</td>\n",
       "      <td>['поставк', 'специальн', 'средств', 'нарушен',...</td>\n",
       "    </tr>\n",
       "    <tr>\n",
       "      <th>...</th>\n",
       "      <td>...</td>\n",
       "      <td>...</td>\n",
       "      <td>...</td>\n",
       "    </tr>\n",
       "    <tr>\n",
       "      <th>99984</th>\n",
       "      <td>[поставка, лекарственного, препарата, прамипек...</td>\n",
       "      <td>21.2</td>\n",
       "      <td>['поставк', 'лекарствен', 'препарат', 'прамипе...</td>\n",
       "    </tr>\n",
       "    <tr>\n",
       "      <th>99985</th>\n",
       "      <td>[поставка, лекарственного, препарата, бозентан]</td>\n",
       "      <td>21.2</td>\n",
       "      <td>['поставк', 'лекарствен', 'препарат', 'бозента']</td>\n",
       "    </tr>\n",
       "    <tr>\n",
       "      <th>99986</th>\n",
       "      <td>[поставка, лекарственного, препарата, меропенем]</td>\n",
       "      <td>21.2</td>\n",
       "      <td>['поставк', 'лекарствен', 'препарат', 'меропен']</td>\n",
       "    </tr>\n",
       "    <tr>\n",
       "      <th>99987</th>\n",
       "      <td>[поставка, лекарственного, препарата, ондансет...</td>\n",
       "      <td>21.2</td>\n",
       "      <td>['поставк', 'лекарствен', 'препарат', 'ондансе...</td>\n",
       "    </tr>\n",
       "    <tr>\n",
       "      <th>99996</th>\n",
       "      <td>[поставка, лекарственного, препарата, бикалута...</td>\n",
       "      <td>21.2</td>\n",
       "      <td>['поставк', 'лекарствен', 'препарат', 'бикалут...</td>\n",
       "    </tr>\n",
       "  </tbody>\n",
       "</table>\n",
       "<p>72159 rows × 3 columns</p>\n",
       "</div>"
      ],
      "text/plain": [
       "                                                    data Код ОКПД  \\\n",
       "2      [на, поставку, специальных, устройств, для, чт...     26.4   \n",
       "3      [на, поставку, голосообразующих, аппаратов, дл...     26.4   \n",
       "5      [на, поставку, слуховых, аппаратов, включая, н...     26.6   \n",
       "6      [на, выполнение, работ, по, изготовлению, вкла...     26.6   \n",
       "7      [на, поставку, специальных, средств, при, нару...     32.5   \n",
       "...                                                  ...      ...   \n",
       "99984  [поставка, лекарственного, препарата, прамипек...     21.2   \n",
       "99985    [поставка, лекарственного, препарата, бозентан]     21.2   \n",
       "99986   [поставка, лекарственного, препарата, меропенем]     21.2   \n",
       "99987  [поставка, лекарственного, препарата, ондансет...     21.2   \n",
       "99996  [поставка, лекарственного, препарата, бикалута...     21.2   \n",
       "\n",
       "                                              data_final  \n",
       "2      ['поставк', 'специальн', 'устройств', 'чтен', ...  \n",
       "3      ['поставк', 'голосообраз', 'аппарат', 'обеспеч...  \n",
       "5      ['поставк', 'слухов', 'аппарат', 'включ', 'нас...  \n",
       "6      ['выполнен', 'работ', 'изготовлен', 'вкладыш',...  \n",
       "7      ['поставк', 'специальн', 'средств', 'нарушен',...  \n",
       "...                                                  ...  \n",
       "99984  ['поставк', 'лекарствен', 'препарат', 'прамипе...  \n",
       "99985   ['поставк', 'лекарствен', 'препарат', 'бозента']  \n",
       "99986   ['поставк', 'лекарствен', 'препарат', 'меропен']  \n",
       "99987  ['поставк', 'лекарствен', 'препарат', 'ондансе...  \n",
       "99996  ['поставк', 'лекарствен', 'препарат', 'бикалут...  \n",
       "\n",
       "[72159 rows x 3 columns]"
      ]
     },
     "execution_count": 13,
     "metadata": {},
     "output_type": "execute_result"
    }
   ],
   "source": [
    "orig_text"
   ]
  },
  {
   "cell_type": "code",
   "execution_count": 14,
   "id": "21e8b5b0",
   "metadata": {},
   "outputs": [],
   "source": [
    "orig_text = orig_text.dropna()\n",
    "data, y, data_final = orig_text[\"data\"], orig_text[\"Код ОКПД\"], orig_text[\"data_final\"]"
   ]
  },
  {
   "cell_type": "code",
   "execution_count": 15,
   "id": "7ca0e5d8",
   "metadata": {},
   "outputs": [
    {
     "data": {
      "text/plain": [
       "2        [на, поставку, специальных, устройств, для, чт...\n",
       "3        [на, поставку, голосообразующих, аппаратов, дл...\n",
       "5        [на, поставку, слуховых, аппаратов, включая, н...\n",
       "6        [на, выполнение, работ, по, изготовлению, вкла...\n",
       "7        [на, поставку, специальных, средств, при, нару...\n",
       "                               ...                        \n",
       "99984    [поставка, лекарственного, препарата, прамипек...\n",
       "99985      [поставка, лекарственного, препарата, бозентан]\n",
       "99986     [поставка, лекарственного, препарата, меропенем]\n",
       "99987    [поставка, лекарственного, препарата, ондансет...\n",
       "99996    [поставка, лекарственного, препарата, бикалута...\n",
       "Name: data, Length: 72159, dtype: object"
      ]
     },
     "execution_count": 15,
     "metadata": {},
     "output_type": "execute_result"
    }
   ],
   "source": [
    "data"
   ]
  },
  {
   "cell_type": "code",
   "execution_count": 16,
   "id": "4988a33f",
   "metadata": {},
   "outputs": [
    {
     "data": {
      "text/plain": [
       "2        ['поставк', 'специальн', 'устройств', 'чтен', ...\n",
       "3        ['поставк', 'голосообраз', 'аппарат', 'обеспеч...\n",
       "5        ['поставк', 'слухов', 'аппарат', 'включ', 'нас...\n",
       "6        ['выполнен', 'работ', 'изготовлен', 'вкладыш',...\n",
       "7        ['поставк', 'специальн', 'средств', 'нарушен',...\n",
       "                               ...                        \n",
       "99984    ['поставк', 'лекарствен', 'препарат', 'прамипе...\n",
       "99985     ['поставк', 'лекарствен', 'препарат', 'бозента']\n",
       "99986     ['поставк', 'лекарствен', 'препарат', 'меропен']\n",
       "99987    ['поставк', 'лекарствен', 'препарат', 'ондансе...\n",
       "99996    ['поставк', 'лекарствен', 'препарат', 'бикалут...\n",
       "Name: data_final, Length: 72159, dtype: object"
      ]
     },
     "execution_count": 16,
     "metadata": {},
     "output_type": "execute_result"
    }
   ],
   "source": [
    "data_final"
   ]
  },
  {
   "cell_type": "markdown",
   "id": "c5de27d1",
   "metadata": {},
   "source": [
    "Методы векторизации"
   ]
  },
  {
   "cell_type": "markdown",
   "id": "2ac10f54",
   "metadata": {},
   "source": [
    "Мешок слов"
   ]
  },
  {
   "cell_type": "code",
   "execution_count": 17,
   "id": "f7788673",
   "metadata": {},
   "outputs": [
    {
     "name": "stdout",
     "output_type": "stream",
     "text": [
      "F-мера модели \"Мешок слов\": 0.644, точность: 0.664\n"
     ]
    },
    {
     "name": "stderr",
     "output_type": "stream",
     "text": [
      "C:\\Users\\Aleksei\\anaconda3\\lib\\site-packages\\sklearn\\metrics\\_classification.py:1469: UndefinedMetricWarning: Precision is ill-defined and being set to 0.0 in labels with no predicted samples. Use `zero_division` parameter to control this behavior.\n",
      "  _warn_prf(average, modifier, msg_start, len(result))\n"
     ]
    }
   ],
   "source": [
    "bagwords = CountVectorizer(max_features=1500, min_df=5, max_df=0.7, stop_words=stopwords.words('russian')) \n",
    "bagwords_X = bagwords.fit_transform(data_final).toarray()\n",
    "\n",
    "bagwords_X_train, bagwords_X_test, bagwords_y_train, bagwords_y_test = train_test_split(bagwords_X,\n",
    "                                                                                        y,\n",
    "                                                                                        test_size=0.2,\n",
    "                                                                                        random_state=0)\n",
    "\n",
    "naive_bayes = MultinomialNB()\n",
    "bagwords_nb = naive_bayes.fit(bagwords_X_train, bagwords_y_train)\n",
    "bagwords_nb_predictions = bagwords_nb.predict(bagwords_X_test)\n",
    "\n",
    "bagwords_nb_f1 = f1_score(bagwords_y_test, bagwords_nb_predictions, average='weighted')\n",
    "bagwords_nb_precision = precision_score(bagwords_y_test, bagwords_nb_predictions, average='weighted')\n",
    "print(f'F-мера модели \"Мешок слов\": {round(bagwords_nb_f1, 3)}, точность: {round(bagwords_nb_precision, 3)}')"
   ]
  },
  {
   "cell_type": "markdown",
   "id": "5c3c4f2b",
   "metadata": {},
   "source": [
    "TF-IDF мера для оценки важности слова"
   ]
  },
  {
   "cell_type": "code",
   "execution_count": 18,
   "id": "4825abdc",
   "metadata": {},
   "outputs": [
    {
     "name": "stdout",
     "output_type": "stream",
     "text": [
      "F-мера модели TF-IDF: 0.623, точность: 0.66\n"
     ]
    },
    {
     "name": "stderr",
     "output_type": "stream",
     "text": [
      "C:\\Users\\Aleksei\\anaconda3\\lib\\site-packages\\sklearn\\metrics\\_classification.py:1469: UndefinedMetricWarning: Precision is ill-defined and being set to 0.0 in labels with no predicted samples. Use `zero_division` parameter to control this behavior.\n",
      "  _warn_prf(average, modifier, msg_start, len(result))\n"
     ]
    }
   ],
   "source": [
    "tfidf = TfidfVectorizer(max_features=1700, min_df=5, max_df=0.7, stop_words=stopwords.words('russian'))\n",
    "tfidf_X = tfidf.fit_transform(data_final).toarray()\n",
    "tfidf_X_train, tfidf_X_test, tfidf_y_train, tfidf_y_test = train_test_split(tfidf_X,\n",
    "                                                                            y,\n",
    "                                                                            test_size=0.2,\n",
    "                                                                            random_state=0)\n",
    "tfidf_nb = naive_bayes.fit(tfidf_X_train, tfidf_y_train)\n",
    "tfidf_nb_predictions = tfidf_nb.predict(tfidf_X_test)\n",
    "tfidf_nb_f1 = f1_score(tfidf_y_test, tfidf_nb_predictions, average='weighted')\n",
    "tfidf_nb_precision = precision_score(tfidf_y_test, tfidf_nb_predictions, average='weighted')\n",
    "print(f'F-мера модели TF-IDF: {round(tfidf_nb_f1, 3)}, точность: {round(tfidf_nb_precision, 3)}')"
   ]
  },
  {
   "cell_type": "markdown",
   "id": "0dda9c92",
   "metadata": {},
   "source": [
    "TF-IDF мера для оценки важности слова"
   ]
  },
  {
   "cell_type": "code",
   "execution_count": 19,
   "id": "f704c0b7",
   "metadata": {},
   "outputs": [
    {
     "name": "stdout",
     "output_type": "stream",
     "text": [
      "F-мера модели TF-IDF: 0.441, точность: 0.621\n"
     ]
    },
    {
     "name": "stderr",
     "output_type": "stream",
     "text": [
      "C:\\Users\\Aleksei\\anaconda3\\lib\\site-packages\\sklearn\\metrics\\_classification.py:1469: UndefinedMetricWarning: Precision is ill-defined and being set to 0.0 in labels with no predicted samples. Use `zero_division` parameter to control this behavior.\n",
      "  _warn_prf(average, modifier, msg_start, len(result))\n"
     ]
    }
   ],
   "source": [
    "model = DecisionTreeClassifier(max_depth=20, criterion='gini')\n",
    "tfidf_nb = model.fit(tfidf_X_train, tfidf_y_train)\n",
    "tfidf_nb_predictions = model.predict(tfidf_X_test)\n",
    "tfidf_nb_f1 = f1_score(tfidf_y_test, tfidf_nb_predictions, average='weighted')\n",
    "tfidf_nb_precision = precision_score(tfidf_y_test, tfidf_nb_predictions, average='weighted')\n",
    "print(f'F-мера модели TF-IDF: {round(tfidf_nb_f1, 3)}, точность: {round(tfidf_nb_precision, 3)}')"
   ]
  },
  {
   "cell_type": "markdown",
   "id": "549870fc",
   "metadata": {},
   "source": [
    "TF-IDF мера для оценки важности слова"
   ]
  },
  {
   "cell_type": "code",
   "execution_count": 20,
   "id": "d51869e8",
   "metadata": {},
   "outputs": [
    {
     "name": "stdout",
     "output_type": "stream",
     "text": [
      "F-мера модели TF-IDF: 0.701, точность: 0.711\n"
     ]
    },
    {
     "name": "stderr",
     "output_type": "stream",
     "text": [
      "C:\\Users\\Aleksei\\anaconda3\\lib\\site-packages\\sklearn\\neural_network\\_multilayer_perceptron.py:691: ConvergenceWarning: Stochastic Optimizer: Maximum iterations (10) reached and the optimization hasn't converged yet.\n",
      "  warnings.warn(\n",
      "C:\\Users\\Aleksei\\anaconda3\\lib\\site-packages\\sklearn\\metrics\\_classification.py:1469: UndefinedMetricWarning: Precision is ill-defined and being set to 0.0 in labels with no predicted samples. Use `zero_division` parameter to control this behavior.\n",
      "  _warn_prf(average, modifier, msg_start, len(result))\n"
     ]
    }
   ],
   "source": [
    "from sklearn.neural_network import MLPClassifier\n",
    "\n",
    "model = MLPClassifier(random_state=1, max_iter=10)\n",
    "tfidf_nb = model.fit(tfidf_X_train, tfidf_y_train)\n",
    "tfidf_nb_predictions = model.predict(tfidf_X_test)\n",
    "tfidf_nb_f1 = f1_score(tfidf_y_test, tfidf_nb_predictions, average='weighted')\n",
    "tfidf_nb_precision = precision_score(tfidf_y_test, tfidf_nb_predictions, average='weighted')\n",
    "print(f'F-мера модели TF-IDF: {round(tfidf_nb_f1, 3)}, точность: {round(tfidf_nb_precision, 3)}')"
   ]
  }
 ],
 "metadata": {
  "kernelspec": {
   "display_name": "Python 3 (ipykernel)",
   "language": "python",
   "name": "python3"
  },
  "language_info": {
   "codemirror_mode": {
    "name": "ipython",
    "version": 3
   },
   "file_extension": ".py",
   "mimetype": "text/x-python",
   "name": "python",
   "nbconvert_exporter": "python",
   "pygments_lexer": "ipython3",
   "version": "3.10.9"
  }
 },
 "nbformat": 4,
 "nbformat_minor": 5
}
